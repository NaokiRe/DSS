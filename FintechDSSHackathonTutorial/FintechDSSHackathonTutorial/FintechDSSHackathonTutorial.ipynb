{
 "cells": [
  {
   "cell_type": "markdown",
   "metadata": {},
   "source": [
    "# Fintech & DSS Hackathon - Tutorial Document\n",
    "\n",
    "This document will outline a very basic tutorial on how to use kaggle to get stock data and forecast the future stock predictions using Linear Regression\n",
    "\n",
    "You can either run this notebook on your local machine or on Google Colab. If you are running this on your local machine, you will need to install the required libraries. If you are running this on Google Colab, you can directly run the cells."
   ]
  },
  {
   "cell_type": "markdown",
   "metadata": {},
   "source": [
    "## 1: Importing the necessary libraries"
   ]
  },
  {
   "cell_type": "markdown",
   "metadata": {},
   "source": [
    "### For Google Colab Users\n",
    "\n",
    "Run the cell below:"
   ]
  },
  {
   "cell_type": "code",
   "execution_count": 3,
   "metadata": {},
   "outputs": [
    {
     "name": "stdout",
     "output_type": "stream",
     "text": [
      "Requirement already satisfied: numpy in c:\\users\\billy\\appdata\\local\\programs\\python\\python311\\lib\\site-packages (1.26.1)\n"
     ]
    },
    {
     "name": "stderr",
     "output_type": "stream",
     "text": [
      "\n",
      "[notice] A new release of pip is available: 24.0 -> 24.3.1\n",
      "[notice] To update, run: python.exe -m pip install --upgrade pip\n"
     ]
    },
    {
     "name": "stdout",
     "output_type": "stream",
     "text": [
      "Requirement already satisfied: pandas in c:\\users\\billy\\appdata\\local\\programs\\python\\python311\\lib\\site-packages (2.1.2)\n",
      "Requirement already satisfied: numpy<2,>=1.23.2 in c:\\users\\billy\\appdata\\local\\programs\\python\\python311\\lib\\site-packages (from pandas) (1.26.1)\n",
      "Requirement already satisfied: python-dateutil>=2.8.2 in c:\\users\\billy\\appdata\\roaming\\python\\python311\\site-packages (from pandas) (2.8.2)\n",
      "Requirement already satisfied: pytz>=2020.1 in c:\\users\\billy\\appdata\\local\\programs\\python\\python311\\lib\\site-packages (from pandas) (2023.3.post1)\n",
      "Requirement already satisfied: tzdata>=2022.1 in c:\\users\\billy\\appdata\\local\\programs\\python\\python311\\lib\\site-packages (from pandas) (2023.3)\n",
      "Requirement already satisfied: six>=1.5 in c:\\users\\billy\\appdata\\roaming\\python\\python311\\site-packages (from python-dateutil>=2.8.2->pandas) (1.16.0)\n"
     ]
    },
    {
     "name": "stderr",
     "output_type": "stream",
     "text": [
      "\n",
      "[notice] A new release of pip is available: 24.0 -> 24.3.1\n",
      "[notice] To update, run: python.exe -m pip install --upgrade pip\n"
     ]
    },
    {
     "name": "stdout",
     "output_type": "stream",
     "text": [
      "Requirement already satisfied: matplotlib in c:\\users\\billy\\appdata\\local\\programs\\python\\python311\\lib\\site-packages (3.8.0)\n",
      "Requirement already satisfied: contourpy>=1.0.1 in c:\\users\\billy\\appdata\\local\\programs\\python\\python311\\lib\\site-packages (from matplotlib) (1.1.1)\n",
      "Requirement already satisfied: cycler>=0.10 in c:\\users\\billy\\appdata\\local\\programs\\python\\python311\\lib\\site-packages (from matplotlib) (0.12.1)\n",
      "Requirement already satisfied: fonttools>=4.22.0 in c:\\users\\billy\\appdata\\local\\programs\\python\\python311\\lib\\site-packages (from matplotlib) (4.43.1)\n",
      "Requirement already satisfied: kiwisolver>=1.0.1 in c:\\users\\billy\\appdata\\local\\programs\\python\\python311\\lib\\site-packages (from matplotlib) (1.4.5)\n",
      "Requirement already satisfied: numpy<2,>=1.21 in c:\\users\\billy\\appdata\\local\\programs\\python\\python311\\lib\\site-packages (from matplotlib) (1.26.1)\n",
      "Requirement already satisfied: packaging>=20.0 in c:\\users\\billy\\appdata\\roaming\\python\\python311\\site-packages (from matplotlib) (23.2)\n",
      "Requirement already satisfied: pillow>=6.2.0 in c:\\users\\billy\\appdata\\local\\programs\\python\\python311\\lib\\site-packages (from matplotlib) (10.1.0)\n",
      "Requirement already satisfied: pyparsing>=2.3.1 in c:\\users\\billy\\appdata\\local\\programs\\python\\python311\\lib\\site-packages (from matplotlib) (3.1.1)\n",
      "Requirement already satisfied: python-dateutil>=2.7 in c:\\users\\billy\\appdata\\roaming\\python\\python311\\site-packages (from matplotlib) (2.8.2)\n",
      "Requirement already satisfied: six>=1.5 in c:\\users\\billy\\appdata\\roaming\\python\\python311\\site-packages (from python-dateutil>=2.7->matplotlib) (1.16.0)\n"
     ]
    },
    {
     "name": "stderr",
     "output_type": "stream",
     "text": [
      "\n",
      "[notice] A new release of pip is available: 24.0 -> 24.3.1\n",
      "[notice] To update, run: python.exe -m pip install --upgrade pip\n"
     ]
    },
    {
     "name": "stdout",
     "output_type": "stream",
     "text": [
      "Requirement already satisfied: seaborn in c:\\users\\billy\\appdata\\local\\programs\\python\\python311\\lib\\site-packages (0.13.2)\n",
      "Requirement already satisfied: numpy!=1.24.0,>=1.20 in c:\\users\\billy\\appdata\\local\\programs\\python\\python311\\lib\\site-packages (from seaborn) (1.26.1)\n",
      "Requirement already satisfied: pandas>=1.2 in c:\\users\\billy\\appdata\\local\\programs\\python\\python311\\lib\\site-packages (from seaborn) (2.1.2)\n",
      "Requirement already satisfied: matplotlib!=3.6.1,>=3.4 in c:\\users\\billy\\appdata\\local\\programs\\python\\python311\\lib\\site-packages (from seaborn) (3.8.0)\n",
      "Requirement already satisfied: contourpy>=1.0.1 in c:\\users\\billy\\appdata\\local\\programs\\python\\python311\\lib\\site-packages (from matplotlib!=3.6.1,>=3.4->seaborn) (1.1.1)\n",
      "Requirement already satisfied: cycler>=0.10 in c:\\users\\billy\\appdata\\local\\programs\\python\\python311\\lib\\site-packages (from matplotlib!=3.6.1,>=3.4->seaborn) (0.12.1)\n",
      "Requirement already satisfied: fonttools>=4.22.0 in c:\\users\\billy\\appdata\\local\\programs\\python\\python311\\lib\\site-packages (from matplotlib!=3.6.1,>=3.4->seaborn) (4.43.1)\n",
      "Requirement already satisfied: kiwisolver>=1.0.1 in c:\\users\\billy\\appdata\\local\\programs\\python\\python311\\lib\\site-packages (from matplotlib!=3.6.1,>=3.4->seaborn) (1.4.5)\n",
      "Requirement already satisfied: packaging>=20.0 in c:\\users\\billy\\appdata\\roaming\\python\\python311\\site-packages (from matplotlib!=3.6.1,>=3.4->seaborn) (23.2)\n",
      "Requirement already satisfied: pillow>=6.2.0 in c:\\users\\billy\\appdata\\local\\programs\\python\\python311\\lib\\site-packages (from matplotlib!=3.6.1,>=3.4->seaborn) (10.1.0)\n",
      "Requirement already satisfied: pyparsing>=2.3.1 in c:\\users\\billy\\appdata\\local\\programs\\python\\python311\\lib\\site-packages (from matplotlib!=3.6.1,>=3.4->seaborn) (3.1.1)\n",
      "Requirement already satisfied: python-dateutil>=2.7 in c:\\users\\billy\\appdata\\roaming\\python\\python311\\site-packages (from matplotlib!=3.6.1,>=3.4->seaborn) (2.8.2)\n",
      "Requirement already satisfied: pytz>=2020.1 in c:\\users\\billy\\appdata\\local\\programs\\python\\python311\\lib\\site-packages (from pandas>=1.2->seaborn) (2023.3.post1)\n",
      "Requirement already satisfied: tzdata>=2022.1 in c:\\users\\billy\\appdata\\local\\programs\\python\\python311\\lib\\site-packages (from pandas>=1.2->seaborn) (2023.3)\n",
      "Requirement already satisfied: six>=1.5 in c:\\users\\billy\\appdata\\roaming\\python\\python311\\site-packages (from python-dateutil>=2.7->matplotlib!=3.6.1,>=3.4->seaborn) (1.16.0)\n"
     ]
    },
    {
     "name": "stderr",
     "output_type": "stream",
     "text": [
      "\n",
      "[notice] A new release of pip is available: 24.0 -> 24.3.1\n",
      "[notice] To update, run: python.exe -m pip install --upgrade pip\n"
     ]
    },
    {
     "name": "stdout",
     "output_type": "stream",
     "text": [
      "Requirement already satisfied: scikit-learn in c:\\users\\billy\\appdata\\local\\programs\\python\\python311\\lib\\site-packages (1.5.2)\n",
      "Requirement already satisfied: numpy>=1.19.5 in c:\\users\\billy\\appdata\\local\\programs\\python\\python311\\lib\\site-packages (from scikit-learn) (1.26.1)\n",
      "Requirement already satisfied: scipy>=1.6.0 in c:\\users\\billy\\appdata\\local\\programs\\python\\python311\\lib\\site-packages (from scikit-learn) (1.12.0)\n",
      "Requirement already satisfied: joblib>=1.2.0 in c:\\users\\billy\\appdata\\local\\programs\\python\\python311\\lib\\site-packages (from scikit-learn) (1.4.2)\n",
      "Requirement already satisfied: threadpoolctl>=3.1.0 in c:\\users\\billy\\appdata\\local\\programs\\python\\python311\\lib\\site-packages (from scikit-learn) (3.5.0)\n"
     ]
    },
    {
     "name": "stderr",
     "output_type": "stream",
     "text": [
      "\n",
      "[notice] A new release of pip is available: 24.0 -> 24.3.1\n",
      "[notice] To update, run: python.exe -m pip install --upgrade pip\n"
     ]
    }
   ],
   "source": [
    "# ignore this if you already have the libraries downloaded\n",
    "\n",
    "# For Google Colab users, you can run this cell to install the required libraries\n",
    "!pip install numpy\n",
    "!pip install pandas\n",
    "!pip install matplotlib\n",
    "!pip install seaborn\n",
    "!pip install scikit-learn"
   ]
  },
  {
   "cell_type": "markdown",
   "metadata": {},
   "source": [
    "### For Local Machine Users"
   ]
  },
  {
   "cell_type": "markdown",
   "metadata": {},
   "source": [
    "You should create a virtual environment and install the necessary libraries. You may use your favourite tool (venv, conda, etc.) to create the virtual environment.\n",
    "\n",
    "I will be using venv to create the virtual environment. Run the following commands in your terminal:"
   ]
  },
  {
   "cell_type": "markdown",
   "metadata": {},
   "source": [
    "```bash\n",
    "python3 -m venv tutorial-env\n",
    "source tutorial-env/bin/activate\n",
    "pip install -r requirements.txt\n",
    "```"
   ]
  },
  {
   "cell_type": "markdown",
   "metadata": {},
   "source": [
    "### For Both Google Colab and Local Machine Users"
   ]
  },
  {
   "cell_type": "code",
   "execution_count": 4,
   "metadata": {},
   "outputs": [],
   "source": [
    "import pandas as pd\n",
    "import numpy as np\n",
    "\n",
    "from matplotlib import pyplot as plt\n",
    "import seaborn as sns\n",
    "\n",
    "from sklearn import metrics\n",
    "from sklearn.model_selection import train_test_split"
   ]
  },
  {
   "cell_type": "code",
   "execution_count": 5,
   "metadata": {},
   "outputs": [],
   "source": [
    "%matplotlib inline"
   ]
  },
  {
   "cell_type": "markdown",
   "metadata": {},
   "source": [
    "## 2. Data Collection and Exploration"
   ]
  },
  {
   "cell_type": "markdown",
   "metadata": {},
   "source": [
    "### If google colab\n",
    "make sure to upload the tutorial data file to the colab environment"
   ]
  },
  {
   "cell_type": "code",
   "execution_count": 6,
   "metadata": {},
   "outputs": [],
   "source": [
    "df = pd.read_csv('tutorial.csv')"
   ]
  },
  {
   "cell_type": "code",
   "execution_count": 7,
   "metadata": {},
   "outputs": [
    {
     "data": {
      "text/html": [
       "<div>\n",
       "<style scoped>\n",
       "    .dataframe tbody tr th:only-of-type {\n",
       "        vertical-align: middle;\n",
       "    }\n",
       "\n",
       "    .dataframe tbody tr th {\n",
       "        vertical-align: top;\n",
       "    }\n",
       "\n",
       "    .dataframe thead th {\n",
       "        text-align: right;\n",
       "    }\n",
       "</style>\n",
       "<table border=\"1\" class=\"dataframe\">\n",
       "  <thead>\n",
       "    <tr style=\"text-align: right;\">\n",
       "      <th></th>\n",
       "      <th>ID</th>\n",
       "      <th>Open</th>\n",
       "      <th>High</th>\n",
       "      <th>Low</th>\n",
       "      <th>Close</th>\n",
       "      <th>Volume</th>\n",
       "      <th>Dividends</th>\n",
       "      <th>Stock Splits</th>\n",
       "      <th>Date</th>\n",
       "    </tr>\n",
       "  </thead>\n",
       "  <tbody>\n",
       "    <tr>\n",
       "      <th>0</th>\n",
       "      <td>0</td>\n",
       "      <td>0.040125</td>\n",
       "      <td>0.044783</td>\n",
       "      <td>0.035587</td>\n",
       "      <td>0.037618</td>\n",
       "      <td>2714688000</td>\n",
       "      <td>0.0</td>\n",
       "      <td>0.0</td>\n",
       "      <td>1999-01-22 00:00:00-05:00</td>\n",
       "    </tr>\n",
       "    <tr>\n",
       "      <th>1</th>\n",
       "      <td>1</td>\n",
       "      <td>0.040603</td>\n",
       "      <td>0.042036</td>\n",
       "      <td>0.037618</td>\n",
       "      <td>0.041559</td>\n",
       "      <td>510480000</td>\n",
       "      <td>0.0</td>\n",
       "      <td>0.0</td>\n",
       "      <td>1999-01-25 00:00:00-05:00</td>\n",
       "    </tr>\n",
       "    <tr>\n",
       "      <th>2</th>\n",
       "      <td>2</td>\n",
       "      <td>0.042036</td>\n",
       "      <td>0.042872</td>\n",
       "      <td>0.037737</td>\n",
       "      <td>0.038334</td>\n",
       "      <td>343200000</td>\n",
       "      <td>0.0</td>\n",
       "      <td>0.0</td>\n",
       "      <td>1999-01-26 00:00:00-05:00</td>\n",
       "    </tr>\n",
       "    <tr>\n",
       "      <th>3</th>\n",
       "      <td>3</td>\n",
       "      <td>0.038453</td>\n",
       "      <td>0.039409</td>\n",
       "      <td>0.036303</td>\n",
       "      <td>0.038215</td>\n",
       "      <td>244368000</td>\n",
       "      <td>0.0</td>\n",
       "      <td>0.0</td>\n",
       "      <td>1999-01-27 00:00:00-05:00</td>\n",
       "    </tr>\n",
       "    <tr>\n",
       "      <th>4</th>\n",
       "      <td>4</td>\n",
       "      <td>0.038215</td>\n",
       "      <td>0.038453</td>\n",
       "      <td>0.037856</td>\n",
       "      <td>0.038095</td>\n",
       "      <td>227520000</td>\n",
       "      <td>0.0</td>\n",
       "      <td>0.0</td>\n",
       "      <td>1999-01-28 00:00:00-05:00</td>\n",
       "    </tr>\n",
       "  </tbody>\n",
       "</table>\n",
       "</div>"
      ],
      "text/plain": [
       "   ID      Open      High       Low     Close      Volume  Dividends  \\\n",
       "0   0  0.040125  0.044783  0.035587  0.037618  2714688000        0.0   \n",
       "1   1  0.040603  0.042036  0.037618  0.041559   510480000        0.0   \n",
       "2   2  0.042036  0.042872  0.037737  0.038334   343200000        0.0   \n",
       "3   3  0.038453  0.039409  0.036303  0.038215   244368000        0.0   \n",
       "4   4  0.038215  0.038453  0.037856  0.038095   227520000        0.0   \n",
       "\n",
       "   Stock Splits                       Date  \n",
       "0           0.0  1999-01-22 00:00:00-05:00  \n",
       "1           0.0  1999-01-25 00:00:00-05:00  \n",
       "2           0.0  1999-01-26 00:00:00-05:00  \n",
       "3           0.0  1999-01-27 00:00:00-05:00  \n",
       "4           0.0  1999-01-28 00:00:00-05:00  "
      ]
     },
     "execution_count": 7,
     "metadata": {},
     "output_type": "execute_result"
    }
   ],
   "source": [
    "# Display the first 5 rows of the dataset\n",
    "df.head()"
   ]
  },
  {
   "cell_type": "markdown",
   "metadata": {},
   "source": [
    "Very basic explanation of the history data:\n",
    "\n",
    "- Open: The price at the beginning of the trading day.\n",
    "- High: The highest price reached during the day.\n",
    "- Low: The lowest price reached during the day.\n",
    "- Close: The price at the end of the trading day.\n",
    "- Volume: The number of shares traded.\n",
    "- Dividends: The dividend yield (annual dividend per share divided by the stock price) and the dividend payout ratio.\n",
    "- Stock Splits: A history of stock splits, including the date and ratio."
   ]
  },
  {
   "cell_type": "code",
   "execution_count": 8,
   "metadata": {},
   "outputs": [
    {
     "data": {
      "text/plain": [
       "0         0.037618\n",
       "1         0.041559\n",
       "2         0.038334\n",
       "3         0.038215\n",
       "4         0.038095\n",
       "           ...    \n",
       "6478    143.710007\n",
       "6479    143.589996\n",
       "6480    139.559998\n",
       "6481    140.410004\n",
       "6482    143.460007\n",
       "Name: Close, Length: 6483, dtype: float64"
      ]
     },
     "execution_count": 8,
     "metadata": {},
     "output_type": "execute_result"
    }
   ],
   "source": [
    "# Check the shape of the dataset\n",
    "x = df.index\n",
    "y = df['Close']\n",
    "y"
   ]
  },
  {
   "cell_type": "code",
   "execution_count": 9,
   "metadata": {},
   "outputs": [],
   "source": [
    "# define function to plot the data\n",
    "def df_plot(x, y, title=\"\", xlabel=\"Index\", ylabel=\"\", dpi=100):\n",
    "    plt.figure(figsize=(16, 5), dpi=dpi)\n",
    "    plt.plot(x, y, color='tab:blue')\n",
    "    plt.gca().set(title=title, xlabel=xlabel, ylabel=ylabel)\n",
    "    plt.show()"
   ]
  },
  {
   "cell_type": "code",
   "execution_count": 10,
   "metadata": {},
   "outputs": [
    {
     "data": {
      "image/png": "[encoded data removed]",
      "text/plain": [
       "<Figure size 1600x500 with 1 Axes>"
      ]
     },
     "metadata": {},
     "output_type": "display_data"
    }
   ],
   "source": [
    "title = f\"NVIDIA Corporation Stock Price\"\n",
    "\n",
    "df_plot(x, y, title=title, ylabel=\"Value\")"
   ]
  },
  {
   "cell_type": "code",
   "execution_count": 11,
   "metadata": {},
   "outputs": [
    {
     "data": {
      "text/html": [
       "<div>\n",
       "<style scoped>\n",
       "    .dataframe tbody tr th:only-of-type {\n",
       "        vertical-align: middle;\n",
       "    }\n",
       "\n",
       "    .dataframe tbody tr th {\n",
       "        vertical-align: top;\n",
       "    }\n",
       "\n",
       "    .dataframe thead th {\n",
       "        text-align: right;\n",
       "    }\n",
       "</style>\n",
       "<table border=\"1\" class=\"dataframe\">\n",
       "  <thead>\n",
       "    <tr style=\"text-align: right;\">\n",
       "      <th></th>\n",
       "      <th>ID</th>\n",
       "      <th>Open</th>\n",
       "      <th>High</th>\n",
       "      <th>Low</th>\n",
       "      <th>Close</th>\n",
       "      <th>Volume</th>\n",
       "      <th>Date</th>\n",
       "    </tr>\n",
       "  </thead>\n",
       "  <tbody>\n",
       "    <tr>\n",
       "      <th>0</th>\n",
       "      <td>0</td>\n",
       "      <td>0.040125</td>\n",
       "      <td>0.044783</td>\n",
       "      <td>0.035587</td>\n",
       "      <td>0.037618</td>\n",
       "      <td>2714688000</td>\n",
       "      <td>1999-01-22 00:00:00-05:00</td>\n",
       "    </tr>\n",
       "    <tr>\n",
       "      <th>1</th>\n",
       "      <td>1</td>\n",
       "      <td>0.040603</td>\n",
       "      <td>0.042036</td>\n",
       "      <td>0.037618</td>\n",
       "      <td>0.041559</td>\n",
       "      <td>510480000</td>\n",
       "      <td>1999-01-25 00:00:00-05:00</td>\n",
       "    </tr>\n",
       "    <tr>\n",
       "      <th>2</th>\n",
       "      <td>2</td>\n",
       "      <td>0.042036</td>\n",
       "      <td>0.042872</td>\n",
       "      <td>0.037737</td>\n",
       "      <td>0.038334</td>\n",
       "      <td>343200000</td>\n",
       "      <td>1999-01-26 00:00:00-05:00</td>\n",
       "    </tr>\n",
       "    <tr>\n",
       "      <th>3</th>\n",
       "      <td>3</td>\n",
       "      <td>0.038453</td>\n",
       "      <td>0.039409</td>\n",
       "      <td>0.036303</td>\n",
       "      <td>0.038215</td>\n",
       "      <td>244368000</td>\n",
       "      <td>1999-01-27 00:00:00-05:00</td>\n",
       "    </tr>\n",
       "    <tr>\n",
       "      <th>4</th>\n",
       "      <td>4</td>\n",
       "      <td>0.038215</td>\n",
       "      <td>0.038453</td>\n",
       "      <td>0.037856</td>\n",
       "      <td>0.038095</td>\n",
       "      <td>227520000</td>\n",
       "      <td>1999-01-28 00:00:00-05:00</td>\n",
       "    </tr>\n",
       "  </tbody>\n",
       "</table>\n",
       "</div>"
      ],
      "text/plain": [
       "   ID      Open      High       Low     Close      Volume  \\\n",
       "0   0  0.040125  0.044783  0.035587  0.037618  2714688000   \n",
       "1   1  0.040603  0.042036  0.037618  0.041559   510480000   \n",
       "2   2  0.042036  0.042872  0.037737  0.038334   343200000   \n",
       "3   3  0.038453  0.039409  0.036303  0.038215   244368000   \n",
       "4   4  0.038215  0.038453  0.037856  0.038095   227520000   \n",
       "\n",
       "                        Date  \n",
       "0  1999-01-22 00:00:00-05:00  \n",
       "1  1999-01-25 00:00:00-05:00  \n",
       "2  1999-01-26 00:00:00-05:00  \n",
       "3  1999-01-27 00:00:00-05:00  \n",
       "4  1999-01-28 00:00:00-05:00  "
      ]
     },
     "execution_count": 11,
     "metadata": {},
     "output_type": "execute_result"
    }
   ],
   "source": [
    "# We declare the Dividends and Stock Splits unnecessary for our analysis and drop them\n",
    "\n",
    "df.drop(['Dividends', 'Stock Splits'], axis=1, inplace=True) \n",
    "df.head()"
   ]
  },
  {
   "cell_type": "code",
   "execution_count": 12,
   "metadata": {},
   "outputs": [
    {
     "name": "stdout",
     "output_type": "stream",
     "text": [
      "<class 'pandas.core.frame.DataFrame'>\n",
      "RangeIndex: 6483 entries, 0 to 6482\n",
      "Data columns (total 7 columns):\n",
      " #   Column  Non-Null Count  Dtype  \n",
      "---  ------  --------------  -----  \n",
      " 0   ID      6483 non-null   int64  \n",
      " 1   Open    6483 non-null   float64\n",
      " 2   High    6483 non-null   float64\n",
      " 3   Low     6483 non-null   float64\n",
      " 4   Close   6483 non-null   float64\n",
      " 5   Volume  6483 non-null   int64  \n",
      " 6   Date    6483 non-null   object \n",
      "dtypes: float64(4), int64(2), object(1)\n",
      "memory usage: 354.7+ KB\n"
     ]
    }
   ],
   "source": [
    "# df.info() gives us the information about the data types of the columns and the number of non-null values in each column\n",
    "df.info()"
   ]
  },
  {
   "cell_type": "code",
   "execution_count": 13,
   "metadata": {},
   "outputs": [
    {
     "name": "stdout",
     "output_type": "stream",
     "text": [
      "<class 'pandas.core.frame.DataFrame'>\n",
      "RangeIndex: 6483 entries, 0 to 6482\n",
      "Data columns (total 7 columns):\n",
      " #   Column  Non-Null Count  Dtype              \n",
      "---  ------  --------------  -----              \n",
      " 0   ID      6483 non-null   int64              \n",
      " 1   Open    6483 non-null   float64            \n",
      " 2   High    6483 non-null   float64            \n",
      " 3   Low     6483 non-null   float64            \n",
      " 4   Close   6483 non-null   float64            \n",
      " 5   Volume  6483 non-null   int64              \n",
      " 6   Date    6483 non-null   datetime64[ns, UTC]\n",
      "dtypes: datetime64[ns, UTC](1), float64(4), int64(2)\n",
      "memory usage: 354.7 KB\n"
     ]
    }
   ],
   "source": [
    "# We can see that the Date column is an object data type. We need to convert it to a datetime data type\n",
    "df['Date'] = pd.to_datetime(df['Date'], utc=True)\n",
    "df.info()"
   ]
  },
  {
   "cell_type": "code",
   "execution_count": 14,
   "metadata": {},
   "outputs": [
    {
     "data": {
      "text/plain": [
       "0   1999-01-22 05:00:00+00:00\n",
       "1   1999-01-25 05:00:00+00:00\n",
       "2   1999-01-26 05:00:00+00:00\n",
       "3   1999-01-27 05:00:00+00:00\n",
       "4   1999-01-28 05:00:00+00:00\n",
       "Name: Date, dtype: datetime64[ns, UTC]"
      ]
     },
     "execution_count": 14,
     "metadata": {},
     "output_type": "execute_result"
    }
   ],
   "source": [
    "df['Date'].head()"
   ]
  },
  {
   "cell_type": "code",
   "execution_count": 15,
   "metadata": {},
   "outputs": [
    {
     "data": {
      "text/plain": [
       "ID        0\n",
       "Open      0\n",
       "High      0\n",
       "Low       0\n",
       "Close     0\n",
       "Volume    0\n",
       "Date      0\n",
       "dtype: int64"
      ]
     },
     "execution_count": 15,
     "metadata": {},
     "output_type": "execute_result"
    }
   ],
   "source": [
    "# find any null values in the dataset\n",
    "# if there are any, we will need to do some data cleaning\n",
    "df.isnull().sum()"
   ]
  },
  {
   "cell_type": "code",
   "execution_count": 16,
   "metadata": {},
   "outputs": [
    {
     "data": {
      "text/html": [
       "<div>\n",
       "<style scoped>\n",
       "    .dataframe tbody tr th:only-of-type {\n",
       "        vertical-align: middle;\n",
       "    }\n",
       "\n",
       "    .dataframe tbody tr th {\n",
       "        vertical-align: top;\n",
       "    }\n",
       "\n",
       "    .dataframe thead th {\n",
       "        text-align: right;\n",
       "    }\n",
       "</style>\n",
       "<table border=\"1\" class=\"dataframe\">\n",
       "  <thead>\n",
       "    <tr style=\"text-align: right;\">\n",
       "      <th></th>\n",
       "      <th>ID</th>\n",
       "      <th>Open</th>\n",
       "      <th>High</th>\n",
       "      <th>Low</th>\n",
       "      <th>Close</th>\n",
       "      <th>Volume</th>\n",
       "    </tr>\n",
       "  </thead>\n",
       "  <tbody>\n",
       "    <tr>\n",
       "      <th>count</th>\n",
       "      <td>6483.00000</td>\n",
       "      <td>6483.000000</td>\n",
       "      <td>6483.000000</td>\n",
       "      <td>6483.000000</td>\n",
       "      <td>6483.000000</td>\n",
       "      <td>6.483000e+03</td>\n",
       "    </tr>\n",
       "    <tr>\n",
       "      <th>mean</th>\n",
       "      <td>3241.00000</td>\n",
       "      <td>7.281078</td>\n",
       "      <td>7.417385</td>\n",
       "      <td>7.134901</td>\n",
       "      <td>7.283510</td>\n",
       "      <td>6.032985e+08</td>\n",
       "    </tr>\n",
       "    <tr>\n",
       "      <th>std</th>\n",
       "      <td>1871.62523</td>\n",
       "      <td>19.612247</td>\n",
       "      <td>19.982831</td>\n",
       "      <td>19.195359</td>\n",
       "      <td>19.610989</td>\n",
       "      <td>4.312965e+08</td>\n",
       "    </tr>\n",
       "    <tr>\n",
       "      <th>min</th>\n",
       "      <td>0.00000</td>\n",
       "      <td>0.032005</td>\n",
       "      <td>0.032602</td>\n",
       "      <td>0.030571</td>\n",
       "      <td>0.031289</td>\n",
       "      <td>1.968000e+07</td>\n",
       "    </tr>\n",
       "    <tr>\n",
       "      <th>25%</th>\n",
       "      <td>1620.50000</td>\n",
       "      <td>0.255884</td>\n",
       "      <td>0.263222</td>\n",
       "      <td>0.249044</td>\n",
       "      <td>0.255808</td>\n",
       "      <td>3.429750e+08</td>\n",
       "    </tr>\n",
       "    <tr>\n",
       "      <th>50%</th>\n",
       "      <td>3241.00000</td>\n",
       "      <td>0.432293</td>\n",
       "      <td>0.439620</td>\n",
       "      <td>0.424733</td>\n",
       "      <td>0.432589</td>\n",
       "      <td>5.042310e+08</td>\n",
       "    </tr>\n",
       "    <tr>\n",
       "      <th>75%</th>\n",
       "      <td>4861.50000</td>\n",
       "      <td>4.338335</td>\n",
       "      <td>4.408710</td>\n",
       "      <td>4.268569</td>\n",
       "      <td>4.330174</td>\n",
       "      <td>7.347220e+08</td>\n",
       "    </tr>\n",
       "    <tr>\n",
       "      <th>max</th>\n",
       "      <td>6482.00000</td>\n",
       "      <td>142.910004</td>\n",
       "      <td>144.419998</td>\n",
       "      <td>141.779999</td>\n",
       "      <td>143.710007</td>\n",
       "      <td>9.230856e+09</td>\n",
       "    </tr>\n",
       "  </tbody>\n",
       "</table>\n",
       "</div>"
      ],
      "text/plain": [
       "               ID         Open         High          Low        Close  \\\n",
       "count  6483.00000  6483.000000  6483.000000  6483.000000  6483.000000   \n",
       "mean   3241.00000     7.281078     7.417385     7.134901     7.283510   \n",
       "std    1871.62523    19.612247    19.982831    19.195359    19.610989   \n",
       "min       0.00000     0.032005     0.032602     0.030571     0.031289   \n",
       "25%    1620.50000     0.255884     0.263222     0.249044     0.255808   \n",
       "50%    3241.00000     0.432293     0.439620     0.424733     0.432589   \n",
       "75%    4861.50000     4.338335     4.408710     4.268569     4.330174   \n",
       "max    6482.00000   142.910004   144.419998   141.779999   143.710007   \n",
       "\n",
       "             Volume  \n",
       "count  6.483000e+03  \n",
       "mean   6.032985e+08  \n",
       "std    4.312965e+08  \n",
       "min    1.968000e+07  \n",
       "25%    3.429750e+08  \n",
       "50%    5.042310e+08  \n",
       "75%    7.347220e+08  \n",
       "max    9.230856e+09  "
      ]
     },
     "execution_count": 16,
     "metadata": {},
     "output_type": "execute_result"
    }
   ],
   "source": [
    "# df.describe() gives us the statistical summary of the dataframe\n",
    "df.describe()"
   ]
  },
  {
   "cell_type": "markdown",
   "metadata": {},
   "source": [
    "## 3. Data Preprocessing\n",
    "\n",
    "We now define the features and the target variable. \n",
    "\n",
    "Features are the columns that we will use to predict the target variable. In this case, we will use the 'Close' column as the target variable. We will use the 'Open', 'High', 'Low', and 'Volume' columns as the features.\n",
    "\n",
    "Or in other words, we will use the opening price, highest price, lowest price, and the volume of the stock as the features to predict the closing price of the stock."
   ]
  },
  {
   "cell_type": "code",
   "execution_count": 17,
   "metadata": {},
   "outputs": [],
   "source": [
    "# obtain the columns needed for the analysis\n",
    "x = df[['Open', 'High', 'Low', 'Volume']]\n",
    "y = df['Close']"
   ]
  },
  {
   "cell_type": "markdown",
   "metadata": {},
   "source": [
    "We need to split the data into two segments: training data and testing data. We will use the training data to train the model and the testing data to evaluate the model.\n",
    "\n",
    "The training data helps the machine learn patterns and relationships in the data. Whereas the testing data evaluates how well the machine has learned and how it performs on new unseen data."
   ]
  },
  {
   "cell_type": "code",
   "execution_count": 18,
   "metadata": {},
   "outputs": [],
   "source": [
    "# split the data into training and testing sets\n",
    "\n",
    "x_train, x_test, y_train, y_test = train_test_split(x, y, test_size=0.2,shuffle=False, random_state=0)"
   ]
  },
  {
   "cell_type": "code",
   "execution_count": 19,
   "metadata": {},
   "outputs": [
    {
     "name": "stdout",
     "output_type": "stream",
     "text": [
      "x_train.shape=(5186, 4)\n",
      "x_test.shape=(1297, 4)\n",
      "y_train.shape=(5186,)\n",
      "y_test.shape=(1297,)\n"
     ]
    }
   ],
   "source": [
    "print(f\"{x_train.shape=}\")\n",
    "print(f\"{x_test.shape=}\")\n",
    "print(f\"{y_train.shape=}\")\n",
    "print(f\"{y_test.shape=}\")"
   ]
  },
  {
   "cell_type": "code",
   "execution_count": 23,
   "metadata": {},
   "outputs": [
    {
     "data": {
      "text/plain": [
       "5186      4.084383\n",
       "5187      4.198579\n",
       "5188      4.471750\n",
       "5189      4.444632\n",
       "5190      4.490656\n",
       "           ...    \n",
       "6478    143.710007\n",
       "6479    143.589996\n",
       "6480    139.559998\n",
       "6481    140.410004\n",
       "6482    143.460007\n",
       "Name: Close, Length: 1297, dtype: float64"
      ]
     },
     "execution_count": 23,
     "metadata": {},
     "output_type": "execute_result"
    }
   ],
   "source": [
    "y_test"
   ]
  },
  {
   "cell_type": "markdown",
   "metadata": {},
   "source": [
    "We will use Linear Regression to predict the closing price of the stock.\n",
    "\n",
    "Linear Regression is a statistical method which used to model the relationship between a dependent variable (target) and one or more independent variables (features).\n",
    "It assumes that the relationship is linear, meaning it can be represented by a straight line. \n",
    "\n",
    "In simple terms, it tries to find the best line that fits the data points.\n",
    "\n",
    "For our case, the equation of the line will be:\n",
    "\n",
    "$$y = m1 * x1 + m2 * x2 + m3 * x3 + m4 * x4 + b$$\n",
    "\n",
    "where:\n",
    "- y is the target variable (closing price)\n",
    "- x1, x2, x3, x4 are the features (open, high, low, volume)\n",
    "- m1, m2, m3, m4 are the coefficients of the features\n",
    "- b is the intercept\n",
    "\n",
    "The model tries to find the best values for the coefficients and the intercept that minimizes the error between the predicted values and the actual values."
   ]
  },
  {
   "cell_type": "markdown",
   "metadata": {},
   "source": [
    "## 4. Model Training and Evaluation"
   ]
  },
  {
   "cell_type": "code",
   "execution_count": 20,
   "metadata": {},
   "outputs": [
    {
     "name": "stdout",
     "output_type": "stream",
     "text": [
      "model.intercept_=-0.00021390892477624046\n",
      "model.coef_=array([-6.44862676e-01,  8.43456134e-01,  8.01746839e-01, -2.66453526e-15])\n"
     ]
    }
   ],
   "source": [
    "from sklearn.linear_model import LinearRegression\n",
    "\n",
    "# create a Linear Regression model\n",
    "model = LinearRegression()\n",
    "\n",
    "# fit the model to the training data (i.e. train the model)\n",
    "model.fit(x_train, y_train)\n",
    "\n",
    "# show the model's intercept and coefficients\n",
    "print(f\"{model.intercept_=}\")\n",
    "print(f\"{model.coef_=}\")"
   ]
  },
  {
   "cell_type": "code",
   "execution_count": 21,
   "metadata": {},
   "outputs": [
    {
     "data": {
      "text/html": [
       "<div>\n",
       "<style scoped>\n",
       "    .dataframe tbody tr th:only-of-type {\n",
       "        vertical-align: middle;\n",
       "    }\n",
       "\n",
       "    .dataframe tbody tr th {\n",
       "        vertical-align: top;\n",
       "    }\n",
       "\n",
       "    .dataframe thead th {\n",
       "        text-align: right;\n",
       "    }\n",
       "</style>\n",
       "<table border=\"1\" class=\"dataframe\">\n",
       "  <thead>\n",
       "    <tr style=\"text-align: right;\">\n",
       "      <th></th>\n",
       "      <th>Actual</th>\n",
       "      <th>Predicted</th>\n",
       "    </tr>\n",
       "  </thead>\n",
       "  <tbody>\n",
       "    <tr>\n",
       "      <th>5186</th>\n",
       "      <td>4.084383</td>\n",
       "      <td>4.097142</td>\n",
       "    </tr>\n",
       "    <tr>\n",
       "      <th>5187</th>\n",
       "      <td>4.198579</td>\n",
       "      <td>4.197697</td>\n",
       "    </tr>\n",
       "    <tr>\n",
       "      <th>5188</th>\n",
       "      <td>4.471750</td>\n",
       "      <td>4.450091</td>\n",
       "    </tr>\n",
       "    <tr>\n",
       "      <th>5189</th>\n",
       "      <td>4.444632</td>\n",
       "      <td>4.464206</td>\n",
       "    </tr>\n",
       "    <tr>\n",
       "      <th>5190</th>\n",
       "      <td>4.490656</td>\n",
       "      <td>4.561457</td>\n",
       "    </tr>\n",
       "  </tbody>\n",
       "</table>\n",
       "</div>"
      ],
      "text/plain": [
       "        Actual  Predicted\n",
       "5186  4.084383   4.097142\n",
       "5187  4.198579   4.197697\n",
       "5188  4.471750   4.450091\n",
       "5189  4.444632   4.464206\n",
       "5190  4.490656   4.561457"
      ]
     },
     "execution_count": 21,
     "metadata": {},
     "output_type": "execute_result"
    }
   ],
   "source": [
    "# show a table comparing the actual values to the predicted values\n",
    "\n",
    "y_pred = model.predict(x_test)\n",
    "dfr = pd.DataFrame({'Actual': y_test, 'Predicted': y_pred})\n",
    "dfr.head()"
   ]
  },
  {
   "cell_type": "code",
   "execution_count": 22,
   "metadata": {},
   "outputs": [
    {
     "data": {
      "text/html": [
       "<div>\n",
       "<style scoped>\n",
       "    .dataframe tbody tr th:only-of-type {\n",
       "        vertical-align: middle;\n",
       "    }\n",
       "\n",
       "    .dataframe tbody tr th {\n",
       "        vertical-align: top;\n",
       "    }\n",
       "\n",
       "    .dataframe thead th {\n",
       "        text-align: right;\n",
       "    }\n",
       "</style>\n",
       "<table border=\"1\" class=\"dataframe\">\n",
       "  <thead>\n",
       "    <tr style=\"text-align: right;\">\n",
       "      <th></th>\n",
       "      <th>Actual</th>\n",
       "      <th>Predicted</th>\n",
       "    </tr>\n",
       "  </thead>\n",
       "  <tbody>\n",
       "    <tr>\n",
       "      <th>count</th>\n",
       "      <td>1297.000000</td>\n",
       "      <td>1297.000000</td>\n",
       "    </tr>\n",
       "    <tr>\n",
       "      <th>mean</th>\n",
       "      <td>32.770970</td>\n",
       "      <td>32.758982</td>\n",
       "    </tr>\n",
       "    <tr>\n",
       "      <th>std</th>\n",
       "      <td>33.194090</td>\n",
       "      <td>33.165283</td>\n",
       "    </tr>\n",
       "    <tr>\n",
       "      <th>min</th>\n",
       "      <td>4.084383</td>\n",
       "      <td>4.097142</td>\n",
       "    </tr>\n",
       "    <tr>\n",
       "      <th>25%</th>\n",
       "      <td>13.022847</td>\n",
       "      <td>13.042882</td>\n",
       "    </tr>\n",
       "    <tr>\n",
       "      <th>50%</th>\n",
       "      <td>19.257538</td>\n",
       "      <td>19.283487</td>\n",
       "    </tr>\n",
       "    <tr>\n",
       "      <th>75%</th>\n",
       "      <td>42.226227</td>\n",
       "      <td>42.392921</td>\n",
       "    </tr>\n",
       "    <tr>\n",
       "      <th>max</th>\n",
       "      <td>143.710007</td>\n",
       "      <td>143.326057</td>\n",
       "    </tr>\n",
       "  </tbody>\n",
       "</table>\n",
       "</div>"
      ],
      "text/plain": [
       "            Actual    Predicted\n",
       "count  1297.000000  1297.000000\n",
       "mean     32.770970    32.758982\n",
       "std      33.194090    33.165283\n",
       "min       4.084383     4.097142\n",
       "25%      13.022847    13.042882\n",
       "50%      19.257538    19.283487\n",
       "75%      42.226227    42.392921\n",
       "max     143.710007   143.326057"
      ]
     },
     "execution_count": 22,
     "metadata": {},
     "output_type": "execute_result"
    }
   ],
   "source": [
    "dfr.describe()"
   ]
  },
  {
   "cell_type": "markdown",
   "metadata": {},
   "source": [
    "To evaluate the model, we will use the Mean Absolute Error (MAE) metrics. It is the average of the absolute differences between the predicted values and the actual values. It provides a simple, intuitive way to assess how far off teh model's predictions are from the actual values.\n",
    "\n",
    "Formula:\n",
    "\n",
    "$$MAE = \\frac{1}{n} \\sum_{i=1}^{n} |y_{i} - \\hat{y_{i}}|$$\n",
    "\n",
    "where:\n",
    "- n is the number of data points\n",
    "- y_{i} is the actual value\n",
    "- \\hat{y_{i}} is the predicted value\n",
    "\n",
    "Interpretation:\n",
    "\n",
    "- Lower MAE: Indicates that the model's predictions are closer to the actual values, which is generally better\n",
    "- Higher MAE: Indicates that the model's predictions are further from the actual values, which is generally worse\n",
    "\n",
    "The MAE metric is easy to understand and robust to outliers, but it does not penalize large errors as much as other metrics like Mean Squared Error (MSE).\n",
    "\n",
    "Usually, we will use a combination of metrics to evaluate the model, but for this tutorial and hackathon, we will stick with MAE."
   ]
  },
  {
   "cell_type": "code",
   "execution_count": 24,
   "metadata": {},
   "outputs": [
    {
     "name": "stdout",
     "output_type": "stream",
     "text": [
      "mae=0.28598753743944216\n"
     ]
    }
   ],
   "source": [
    "# calculate the Mean Absolute Error  \n",
    "\n",
    "mae = metrics.mean_absolute_error(y_test, y_pred)\n",
    "print(f\"{mae=}\")"
   ]
  },
  {
   "cell_type": "code",
   "execution_count": 25,
   "metadata": {},
   "outputs": [
    {
     "data": {
      "image/png": "[encoded data removed]",
      "text/plain": [
       "<Figure size 1000x500 with 1 Axes>"
      ]
     },
     "metadata": {},
     "output_type": "display_data"
    }
   ],
   "source": [
    "def scatter_plot(y_test, y_pred, title, xlabel, ylabel, dpi=100):\n",
    "    plt.figure(figsize=(10, 5), dpi=dpi)\n",
    "    plt.scatter(y_test, y_pred, color='tab:blue', marker='x')\n",
    "    plt.gca().set(title=title, xlabel=xlabel, ylabel=ylabel)\n",
    "    plt.show()\n",
    "\n",
    "scatter_plot(y_test, y_pred, title=\"Actual vs Predicted\", xlabel=\"Actual\", ylabel=\"Predicted\")"
   ]
  },
  {
   "cell_type": "code",
   "execution_count": 26,
   "metadata": {},
   "outputs": [
    {
     "data": {
      "image/png": "[encoded data removed]",
      "text/plain": [
       "<Figure size 1600x500 with 1 Axes>"
      ]
     },
     "metadata": {},
     "output_type": "display_data"
    }
   ],
   "source": [
    "# get the dates for the test data\n",
    "dates = df['Date'].iloc[y_test.index]\n",
    "\n",
    "# create a dataframe for the actual and predicted values\n",
    "dfp = pd.DataFrame({'Date': dates, 'Actual': y_test, 'Predicted': y_pred})\n",
    "\n",
    "# plot the actual and predicted values as line graphs\n",
    "def dfp_plot(x, y1, y2, title=\"\", xlabel=\"Date\", ylabel=\"Value\", dpi=100):\n",
    "    plt.figure(figsize=(16, 5), dpi=dpi)\n",
    "    plt.plot(x, y1, color='tab:blue', label='Actual')\n",
    "    plt.plot(x, y2, color='lightblue', label='Predicted')\n",
    "    plt.gca().set(title=title, xlabel=xlabel, ylabel=ylabel)\n",
    "    plt.legend()\n",
    "    plt.show()\n",
    "\n",
    "dfp_plot(dfp['Date'], dfp['Actual'], dfp['Predicted'], title=\"Actual vs Predicted\", ylabel=\"Value\")"
   ]
  },
  {
   "cell_type": "code",
   "execution_count": 27,
   "metadata": {},
   "outputs": [
    {
     "data": {
      "image/png": "[encoded data removed]",
      "text/plain": [
       "<Figure size 1600x500 with 1 Axes>"
      ]
     },
     "metadata": {},
     "output_type": "display_data"
    }
   ],
   "source": [
    "# it's hard to see the difference between the actual and predicted values so trim the date to a smaller range\n",
    "dfp_trim = dfp[(dfp['Date'] > '2021-01-01') & (dfp['Date'] < '2022-01-01')]\n",
    "dfp_plot(dfp_trim['Date'], dfp_trim['Actual'], dfp_trim['Predicted'], title=\"Actual vs Predicted\", ylabel=\"Value\")"
   ]
  },
  {
   "cell_type": "markdown",
   "metadata": {},
   "source": [
    "## 5. Suggested improvements"
   ]
  },
  {
   "cell_type": "markdown",
   "metadata": {},
   "source": [
    "### Data Preprocessing\n",
    "\n",
    "Was the data preprocessed correctly? Imbalance of data scale can affect the model's performance. For example, if one feature is in the range of 0-1 and another feature is in the range of 1000-10000, the model might not perform well. You can use techniques like normalization or standardization to scale the data.\n",
    "\n",
    "We didn't use Date as a feature here. Why didn't we use it? Can we use it? If so, how can we use it?\n",
    "\n",
    "### Model Type\n",
    "\n",
    "Linear Regression is a simple model. You can try other models like LSTM, ARIMA, SVR, GBM, etc. to see if they perform better.\n",
    "What about ensemble methods like Random Forest, Gradient Boosting, etc.?\n",
    "\n",
    "It might be interesting to try different models and see which one performs better.\n",
    "\n",
    "### Model Hyperparameters\n",
    "\n",
    "You can search up what this means, but in simple terms, hyperparameters are the parameters that are set before the learning process begins.\n",
    "You can tune the hyperparameters of the model to see if the model performs better. For example, you can change the learning rate, the number of iterations, the regularization parameter, etc.\n",
    "\n",
    "### Model Evaluation\n",
    "\n",
    "MAE is not the only metric you can use to evaluate the model. There are many more metrics to evaluate a regression model.\n",
    "\n",
    "### Feature Engineering\n",
    "\n",
    "You can create new features from the existing features to improve the model's performance. For example, you can create moving averages, exponential moving averages, etc.\n",
    "It might be helpful to do some research on the stock market and see what features are important in predicting the stock price."
   ]
  },
  {
   "cell_type": "markdown",
   "metadata": {},
   "source": [
    "# 6. A few Exercises\n"
   ]
  },
  {
   "cell_type": "markdown",
   "metadata": {},
   "source": [
    "1. Try implementing the MAE metric from scratch, only using numpy. Compare the results with the sklearn implementation."
   ]
  },
  {
   "cell_type": "markdown",
   "metadata": {},
   "source": [
    "2. Search up how to use the Date column as a feature. Implement it and see if it improves the model's performance."
   ]
  },
  {
   "cell_type": "markdown",
   "metadata": {},
   "source": [
    "3. Search up what an SMA (Simple Moving Average) is. Implement it as a feature and see if it improves the model's performance."
   ]
  },
  {
   "cell_type": "markdown",
   "metadata": {},
   "source": [
    "4. Search up what a Random Forest model is. How can you implement it in this case? Does it perform better than Linear Regression?"
   ]
  }
 ],
 "metadata": {
  "kernelspec": {
   "display_name": "Python 3",
   "language": "python",
   "name": "python3"
  },
  "language_info": {
   "codemirror_mode": {
    "name": "ipython",
    "version": 3
   },
   "file_extension": ".py",
   "mimetype": "text/x-python",
   "name": "python",
   "nbconvert_exporter": "python",
   "pygments_lexer": "ipython3",
   "version": "3.11.4"
  }
 },
 "nbformat": 4,
 "nbformat_minor": 2
}
