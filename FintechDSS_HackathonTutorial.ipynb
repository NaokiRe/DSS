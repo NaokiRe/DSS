{
 "cells": [
  {
   "cell_type": "markdown",
   "metadata": {},
   "source": [
    "# Fintech & DSS Hackathon - Tutorial Document\n",
    "\n",
    "This document will outline a very basic tutorial on how to use the yahoo finance API to get stock data and forecast the future stock predictions using Linear Regression\n",
    "\n",
    "You can either run this notebook on your local machine or on Google Colab. If you are running this on your local machine, you will need to install the required libraries. If you are running this on Google Colab, you can directly run the cells."
   ]
  },
  {
   "cell_type": "markdown",
   "metadata": {},
   "source": [
    "## 1: Importing the necessary libraries"
   ]
  },
  {
   "cell_type": "markdown",
   "metadata": {},
   "source": [
    "### For Google Colab Users\n",
    "\n",
    "Run the cell below:"
   ]
  },
  {
   "cell_type": "code",
   "execution_count": 118,
   "metadata": {},
   "outputs": [
    {
     "name": "stdout",
     "output_type": "stream",
     "text": [
      "Requirement already satisfied: numpy in c:\\users\\billy\\documents\\coding\\dss\\.venv\\lib\\site-packages (2.1.2)\n",
      "Requirement already satisfied: pandas in c:\\users\\billy\\documents\\coding\\dss\\.venv\\lib\\site-packages (2.2.3)\n",
      "Requirement already satisfied: numpy>=1.26.0 in c:\\users\\billy\\documents\\coding\\dss\\.venv\\lib\\site-packages (from pandas) (2.1.2)\n",
      "Requirement already satisfied: python-dateutil>=2.8.2 in c:\\users\\billy\\documents\\coding\\dss\\.venv\\lib\\site-packages (from pandas) (2.9.0.post0)\n",
      "Requirement already satisfied: pytz>=2020.1 in c:\\users\\billy\\documents\\coding\\dss\\.venv\\lib\\site-packages (from pandas) (2024.2)\n",
      "Requirement already satisfied: tzdata>=2022.7 in c:\\users\\billy\\documents\\coding\\dss\\.venv\\lib\\site-packages (from pandas) (2024.2)\n",
      "Requirement already satisfied: six>=1.5 in c:\\users\\billy\\documents\\coding\\dss\\.venv\\lib\\site-packages (from python-dateutil>=2.8.2->pandas) (1.16.0)\n",
      "Requirement already satisfied: matplotlib in c:\\users\\billy\\documents\\coding\\dss\\.venv\\lib\\site-packages (3.9.2)\n",
      "Requirement already satisfied: contourpy>=1.0.1 in c:\\users\\billy\\documents\\coding\\dss\\.venv\\lib\\site-packages (from matplotlib) (1.3.0)\n",
      "Requirement already satisfied: cycler>=0.10 in c:\\users\\billy\\documents\\coding\\dss\\.venv\\lib\\site-packages (from matplotlib) (0.12.1)\n",
      "Requirement already satisfied: fonttools>=4.22.0 in c:\\users\\billy\\documents\\coding\\dss\\.venv\\lib\\site-packages (from matplotlib) (4.54.1)\n",
      "Requirement already satisfied: kiwisolver>=1.3.1 in c:\\users\\billy\\documents\\coding\\dss\\.venv\\lib\\site-packages (from matplotlib) (1.4.7)\n",
      "Requirement already satisfied: numpy>=1.23 in c:\\users\\billy\\documents\\coding\\dss\\.venv\\lib\\site-packages (from matplotlib) (2.1.2)\n",
      "Requirement already satisfied: packaging>=20.0 in c:\\users\\billy\\documents\\coding\\dss\\.venv\\lib\\site-packages (from matplotlib) (24.1)\n",
      "Requirement already satisfied: pillow>=8 in c:\\users\\billy\\documents\\coding\\dss\\.venv\\lib\\site-packages (from matplotlib) (11.0.0)\n",
      "Requirement already satisfied: pyparsing>=2.3.1 in c:\\users\\billy\\documents\\coding\\dss\\.venv\\lib\\site-packages (from matplotlib) (3.2.0)\n",
      "Requirement already satisfied: python-dateutil>=2.7 in c:\\users\\billy\\documents\\coding\\dss\\.venv\\lib\\site-packages (from matplotlib) (2.9.0.post0)\n",
      "Requirement already satisfied: six>=1.5 in c:\\users\\billy\\documents\\coding\\dss\\.venv\\lib\\site-packages (from python-dateutil>=2.7->matplotlib) (1.16.0)\n",
      "Requirement already satisfied: seaborn in c:\\users\\billy\\documents\\coding\\dss\\.venv\\lib\\site-packages (0.13.2)\n",
      "Requirement already satisfied: numpy!=1.24.0,>=1.20 in c:\\users\\billy\\documents\\coding\\dss\\.venv\\lib\\site-packages (from seaborn) (2.1.2)\n",
      "Requirement already satisfied: pandas>=1.2 in c:\\users\\billy\\documents\\coding\\dss\\.venv\\lib\\site-packages (from seaborn) (2.2.3)\n",
      "Requirement already satisfied: matplotlib!=3.6.1,>=3.4 in c:\\users\\billy\\documents\\coding\\dss\\.venv\\lib\\site-packages (from seaborn) (3.9.2)\n",
      "Requirement already satisfied: contourpy>=1.0.1 in c:\\users\\billy\\documents\\coding\\dss\\.venv\\lib\\site-packages (from matplotlib!=3.6.1,>=3.4->seaborn) (1.3.0)\n",
      "Requirement already satisfied: cycler>=0.10 in c:\\users\\billy\\documents\\coding\\dss\\.venv\\lib\\site-packages (from matplotlib!=3.6.1,>=3.4->seaborn) (0.12.1)\n",
      "Requirement already satisfied: fonttools>=4.22.0 in c:\\users\\billy\\documents\\coding\\dss\\.venv\\lib\\site-packages (from matplotlib!=3.6.1,>=3.4->seaborn) (4.54.1)\n",
      "Requirement already satisfied: kiwisolver>=1.3.1 in c:\\users\\billy\\documents\\coding\\dss\\.venv\\lib\\site-packages (from matplotlib!=3.6.1,>=3.4->seaborn) (1.4.7)\n",
      "Requirement already satisfied: packaging>=20.0 in c:\\users\\billy\\documents\\coding\\dss\\.venv\\lib\\site-packages (from matplotlib!=3.6.1,>=3.4->seaborn) (24.1)\n",
      "Requirement already satisfied: pillow>=8 in c:\\users\\billy\\documents\\coding\\dss\\.venv\\lib\\site-packages (from matplotlib!=3.6.1,>=3.4->seaborn) (11.0.0)\n",
      "Requirement already satisfied: pyparsing>=2.3.1 in c:\\users\\billy\\documents\\coding\\dss\\.venv\\lib\\site-packages (from matplotlib!=3.6.1,>=3.4->seaborn) (3.2.0)\n",
      "Requirement already satisfied: python-dateutil>=2.7 in c:\\users\\billy\\documents\\coding\\dss\\.venv\\lib\\site-packages (from matplotlib!=3.6.1,>=3.4->seaborn) (2.9.0.post0)\n",
      "Requirement already satisfied: pytz>=2020.1 in c:\\users\\billy\\documents\\coding\\dss\\.venv\\lib\\site-packages (from pandas>=1.2->seaborn) (2024.2)\n",
      "Requirement already satisfied: tzdata>=2022.7 in c:\\users\\billy\\documents\\coding\\dss\\.venv\\lib\\site-packages (from pandas>=1.2->seaborn) (2024.2)\n",
      "Requirement already satisfied: six>=1.5 in c:\\users\\billy\\documents\\coding\\dss\\.venv\\lib\\site-packages (from python-dateutil>=2.7->matplotlib!=3.6.1,>=3.4->seaborn) (1.16.0)\n",
      "Requirement already satisfied: scikit-learn in c:\\users\\billy\\documents\\coding\\dss\\.venv\\lib\\site-packages (1.5.2)\n",
      "Requirement already satisfied: numpy>=1.19.5 in c:\\users\\billy\\documents\\coding\\dss\\.venv\\lib\\site-packages (from scikit-learn) (2.1.2)\n",
      "Requirement already satisfied: scipy>=1.6.0 in c:\\users\\billy\\documents\\coding\\dss\\.venv\\lib\\site-packages (from scikit-learn) (1.14.1)\n",
      "Requirement already satisfied: joblib>=1.2.0 in c:\\users\\billy\\documents\\coding\\dss\\.venv\\lib\\site-packages (from scikit-learn) (1.4.2)\n",
      "Requirement already satisfied: threadpoolctl>=3.1.0 in c:\\users\\billy\\documents\\coding\\dss\\.venv\\lib\\site-packages (from scikit-learn) (3.5.0)\n",
      "Requirement already satisfied: yfinance in c:\\users\\billy\\documents\\coding\\dss\\.venv\\lib\\site-packages (0.2.44)\n",
      "Requirement already satisfied: pandas>=1.3.0 in c:\\users\\billy\\documents\\coding\\dss\\.venv\\lib\\site-packages (from yfinance) (2.2.3)\n",
      "Requirement already satisfied: numpy>=1.16.5 in c:\\users\\billy\\documents\\coding\\dss\\.venv\\lib\\site-packages (from yfinance) (2.1.2)\n",
      "Requirement already satisfied: requests>=2.31 in c:\\users\\billy\\documents\\coding\\dss\\.venv\\lib\\site-packages (from yfinance) (2.32.3)\n",
      "Requirement already satisfied: multitasking>=0.0.7 in c:\\users\\billy\\documents\\coding\\dss\\.venv\\lib\\site-packages (from yfinance) (0.0.11)\n",
      "Requirement already satisfied: lxml>=4.9.1 in c:\\users\\billy\\documents\\coding\\dss\\.venv\\lib\\site-packages (from yfinance) (5.3.0)\n",
      "Requirement already satisfied: platformdirs>=2.0.0 in c:\\users\\billy\\documents\\coding\\dss\\.venv\\lib\\site-packages (from yfinance) (4.3.6)\n",
      "Requirement already satisfied: pytz>=2022.5 in c:\\users\\billy\\documents\\coding\\dss\\.venv\\lib\\site-packages (from yfinance) (2024.2)\n",
      "Requirement already satisfied: frozendict>=2.3.4 in c:\\users\\billy\\documents\\coding\\dss\\.venv\\lib\\site-packages (from yfinance) (2.4.6)\n",
      "Requirement already satisfied: peewee>=3.16.2 in c:\\users\\billy\\documents\\coding\\dss\\.venv\\lib\\site-packages (from yfinance) (3.17.7)\n",
      "Requirement already satisfied: beautifulsoup4>=4.11.1 in c:\\users\\billy\\documents\\coding\\dss\\.venv\\lib\\site-packages (from yfinance) (4.12.3)\n",
      "Requirement already satisfied: html5lib>=1.1 in c:\\users\\billy\\documents\\coding\\dss\\.venv\\lib\\site-packages (from yfinance) (1.1)\n",
      "Requirement already satisfied: soupsieve>1.2 in c:\\users\\billy\\documents\\coding\\dss\\.venv\\lib\\site-packages (from beautifulsoup4>=4.11.1->yfinance) (2.6)\n",
      "Requirement already satisfied: six>=1.9 in c:\\users\\billy\\documents\\coding\\dss\\.venv\\lib\\site-packages (from html5lib>=1.1->yfinance) (1.16.0)\n",
      "Requirement already satisfied: webencodings in c:\\users\\billy\\documents\\coding\\dss\\.venv\\lib\\site-packages (from html5lib>=1.1->yfinance) (0.5.1)\n",
      "Requirement already satisfied: python-dateutil>=2.8.2 in c:\\users\\billy\\documents\\coding\\dss\\.venv\\lib\\site-packages (from pandas>=1.3.0->yfinance) (2.9.0.post0)\n",
      "Requirement already satisfied: tzdata>=2022.7 in c:\\users\\billy\\documents\\coding\\dss\\.venv\\lib\\site-packages (from pandas>=1.3.0->yfinance) (2024.2)\n",
      "Requirement already satisfied: charset-normalizer<4,>=2 in c:\\users\\billy\\documents\\coding\\dss\\.venv\\lib\\site-packages (from requests>=2.31->yfinance) (3.4.0)\n",
      "Requirement already satisfied: idna<4,>=2.5 in c:\\users\\billy\\documents\\coding\\dss\\.venv\\lib\\site-packages (from requests>=2.31->yfinance) (3.10)\n",
      "Requirement already satisfied: urllib3<3,>=1.21.1 in c:\\users\\billy\\documents\\coding\\dss\\.venv\\lib\\site-packages (from requests>=2.31->yfinance) (2.2.3)\n",
      "Requirement already satisfied: certifi>=2017.4.17 in c:\\users\\billy\\documents\\coding\\dss\\.venv\\lib\\site-packages (from requests>=2.31->yfinance) (2024.8.30)\n"
     ]
    }
   ],
   "source": [
    "# ignore this if you already have the libraries downloaded\n",
    "\n",
    "# For Google Colab users, you can run this cell to install the required libraries\n",
    "!pip install numpy\n",
    "!pip install pandas\n",
    "!pip install matplotlib\n",
    "!pip install seaborn\n",
    "!pip install scikit-learn\n",
    "!pip install yfinance\n"
   ]
  },
  {
   "cell_type": "markdown",
   "metadata": {},
   "source": [
    "### For Local Machine Users"
   ]
  },
  {
   "cell_type": "markdown",
   "metadata": {},
   "source": [
    "You should create a virtual environment and install the necessary libraries. You may use your favourite tool (venv, conda, etc.) to create the virtual environment.\n",
    "\n",
    "I will be using venv to create the virtual environment. Run the following commands in your terminal:"
   ]
  },
  {
   "cell_type": "markdown",
   "metadata": {},
   "source": [
    "```bash\n",
    "python3 -m venv tutorial-env\n",
    "source tutorial-env/bin/activate\n",
    "pip install -r requirements.txt\n",
    "```"
   ]
  },
  {
   "cell_type": "markdown",
   "metadata": {},
   "source": [
    "### For Both Google Colab and Local Machine Users"
   ]
  },
  {
   "cell_type": "code",
   "execution_count": 119,
   "metadata": {},
   "outputs": [],
   "source": [
    "import pandas as pd\n",
    "import numpy as np\n",
    "\n",
    "from matplotlib import pyplot as plt\n",
    "import seaborn as sns\n",
    "\n",
    "from sklearn import metrics\n",
    "from sklearn.model_selection import train_test_split\n",
    "\n",
    "import yfinance as yf "
   ]
  },
  {
   "cell_type": "code",
   "execution_count": 120,
   "metadata": {},
   "outputs": [],
   "source": [
    "%matplotlib inline"
   ]
  },
  {
   "cell_type": "markdown",
   "metadata": {},
   "source": [
    "## 2. Data Collection and Exploration"
   ]
  },
  {
   "cell_type": "code",
   "execution_count": 93,
   "metadata": {},
   "outputs": [],
   "source": [
    "# get the Ticker object for NVIDIA \n",
    "# it allows you to get market and meta data for a security, using a pythonic way\n",
    "nvda = yf.Ticker(\"NVDA\")"
   ]
  },
  {
   "cell_type": "code",
   "execution_count": 94,
   "metadata": {},
   "outputs": [
    {
     "data": {
      "text/plain": [
       "{'address1': '2788 San Tomas Expressway',\n",
       " 'city': 'Santa Clara',\n",
       " 'state': 'CA',\n",
       " 'zip': '95051',\n",
       " 'country': 'United States',\n",
       " 'phone': '408 486 2000',\n",
       " 'website': 'https://www.nvidia.com',\n",
       " 'industry': 'Semiconductors',\n",
       " 'industryKey': 'semiconductors',\n",
       " 'industryDisp': 'Semiconductors',\n",
       " 'sector': 'Technology',\n",
       " 'sectorKey': 'technology',\n",
       " 'sectorDisp': 'Technology',\n",
       " 'longBusinessSummary': \"NVIDIA Corporation provides graphics and compute and networking solutions in the United States, Taiwan, China, Hong Kong, and internationally. The Graphics segment offers GeForce GPUs for gaming and PCs, the GeForce NOW game streaming service and related infrastructure, and solutions for gaming platforms; Quadro/NVIDIA RTX GPUs for enterprise workstation graphics; virtual GPU or vGPU software for cloud-based visual and virtual computing; automotive platforms for infotainment systems; and Omniverse software for building and operating metaverse and 3D internet applications. The Compute & Networking segment comprises Data Center computing platforms and end-to-end networking platforms, including Quantum for InfiniBand and Spectrum for Ethernet; NVIDIA DRIVE automated-driving platform and automotive development agreements; Jetson robotics and other embedded platforms; NVIDIA AI Enterprise and other software; and DGX Cloud software and services. The company's products are used in gaming, professional visualization, data center, and automotive markets. It sells its products to original equipment manufacturers, original device manufacturers, system integrators and distributors, independent software vendors, cloud service providers, consumer internet companies, add-in board manufacturers, distributors, automotive manufacturers and tier-1 automotive suppliers, and other ecosystem participants. NVIDIA Corporation was incorporated in 1993 and is headquartered in Santa Clara, California.\",\n",
       " 'fullTimeEmployees': 29600,\n",
       " 'companyOfficers': [{'maxAge': 1,\n",
       "   'name': 'Mr. Jen-Hsun  Huang',\n",
       "   'age': 60,\n",
       "   'title': 'Co-Founder, CEO, President & Director',\n",
       "   'yearBorn': 1963,\n",
       "   'fiscalYear': 2024,\n",
       "   'totalPay': 7491487,\n",
       "   'exercisedValue': 217327152,\n",
       "   'unexercisedValue': 0},\n",
       "  {'maxAge': 1,\n",
       "   'name': 'Ms. Colette M. Kress',\n",
       "   'age': 56,\n",
       "   'title': 'Executive VP & CFO',\n",
       "   'yearBorn': 1967,\n",
       "   'fiscalYear': 2024,\n",
       "   'totalPay': 1510765,\n",
       "   'exercisedValue': 0,\n",
       "   'unexercisedValue': 0},\n",
       "  {'maxAge': 1,\n",
       "   'name': 'Ms. Debora  Shoquist',\n",
       "   'age': 68,\n",
       "   'title': 'Executive Vice President of Operations',\n",
       "   'yearBorn': 1955,\n",
       "   'fiscalYear': 2024,\n",
       "   'totalPay': 1371266,\n",
       "   'exercisedValue': 0,\n",
       "   'unexercisedValue': 0},\n",
       "  {'maxAge': 1,\n",
       "   'name': 'Mr. Timothy S. Teter',\n",
       "   'age': 56,\n",
       "   'title': 'Executive VP, General Counsel & Secretary',\n",
       "   'yearBorn': 1967,\n",
       "   'fiscalYear': 2024,\n",
       "   'totalPay': 1360939,\n",
       "   'exercisedValue': 0,\n",
       "   'unexercisedValue': 0},\n",
       "  {'maxAge': 1,\n",
       "   'name': 'Mr. Ajay K. Puri',\n",
       "   'age': 68,\n",
       "   'title': 'Executive Vice President of Worldwide Field Operations',\n",
       "   'yearBorn': 1955,\n",
       "   'fiscalYear': 2024,\n",
       "   'totalPay': 2295097,\n",
       "   'exercisedValue': 0,\n",
       "   'unexercisedValue': 0},\n",
       "  {'maxAge': 1,\n",
       "   'name': 'Mr. Chris A. Malachowsky',\n",
       "   'title': 'Co-Founder',\n",
       "   'fiscalYear': 2024,\n",
       "   'totalPay': 320000,\n",
       "   'exercisedValue': 0,\n",
       "   'unexercisedValue': 0},\n",
       "  {'maxAge': 1,\n",
       "   'name': 'Mr. Donald F. Robertson Jr.',\n",
       "   'age': 54,\n",
       "   'title': 'VP & Chief Accounting Officer',\n",
       "   'yearBorn': 1969,\n",
       "   'fiscalYear': 2024,\n",
       "   'exercisedValue': 0,\n",
       "   'unexercisedValue': 0},\n",
       "  {'maxAge': 1,\n",
       "   'name': 'Prof. William J. Dally Ph.D.',\n",
       "   'age': 62,\n",
       "   'title': 'Chief Scientist & Senior VP of Research',\n",
       "   'yearBorn': 1961,\n",
       "   'fiscalYear': 2024,\n",
       "   'exercisedValue': 0,\n",
       "   'unexercisedValue': 0},\n",
       "  {'maxAge': 1,\n",
       "   'name': 'Ms. Mylene  Mangalindan',\n",
       "   'title': 'VP of Corporate Communications',\n",
       "   'fiscalYear': 2024,\n",
       "   'exercisedValue': 0,\n",
       "   'unexercisedValue': 0},\n",
       "  {'maxAge': 1,\n",
       "   'name': 'Mr. Tommy  Lee',\n",
       "   'title': 'Senior Vice President of Systems Engineering & Application',\n",
       "   'fiscalYear': 2024,\n",
       "   'exercisedValue': 0,\n",
       "   'unexercisedValue': 0}],\n",
       " 'auditRisk': 7,\n",
       " 'boardRisk': 10,\n",
       " 'compensationRisk': 5,\n",
       " 'shareHolderRightsRisk': 6,\n",
       " 'overallRisk': 8,\n",
       " 'governanceEpochDate': 1727740800,\n",
       " 'compensationAsOfEpochDate': 1735603200,\n",
       " 'irWebsite': 'http://phx.corporate-ir.net/phoenix.zhtml?c=116466&p=irol-IRHome',\n",
       " 'maxAge': 86400,\n",
       " 'priceHint': 2,\n",
       " 'previousClose': 135.72,\n",
       " 'open': 139.35,\n",
       " 'dayLow': 136.87,\n",
       " 'dayHigh': 140.89,\n",
       " 'regularMarketPreviousClose': 135.72,\n",
       " 'regularMarketOpen': 139.35,\n",
       " 'regularMarketDayLow': 136.87,\n",
       " 'regularMarketDayHigh': 140.89,\n",
       " 'dividendRate': 0.04,\n",
       " 'dividendYield': 0.00029999999,\n",
       " 'exDividendDate': 1726099200,\n",
       " 'payoutRatio': 0.010299999,\n",
       " 'fiveYearAvgDividendYield': 0.1,\n",
       " 'beta': 1.669,\n",
       " 'trailingPE': 64.50709,\n",
       " 'forwardPE': 33.92595,\n",
       " 'volume': 280596472,\n",
       " 'regularMarketVolume': 280596472,\n",
       " 'averageVolume': 325731748,\n",
       " 'averageVolume10days': 268572690,\n",
       " 'averageDailyVolume10Day': 268572690,\n",
       " 'marketCap': 3370424467456,\n",
       " 'fiftyTwoWeekLow': 39.23,\n",
       " 'fiftyTwoWeekHigh': 140.89,\n",
       " 'priceToSalesTrailing12Months': 34.99667,\n",
       " 'fiftyDayAverage': 120.1696,\n",
       " 'twoHundredDayAverage': 99.51283,\n",
       " 'trailingAnnualDividendRate': 0.022,\n",
       " 'trailingAnnualDividendYield': 0.00016209844,\n",
       " 'currency': 'USD',\n",
       " 'enterpriseValue': 3304426569728,\n",
       " 'profitMargins': 0.55041003,\n",
       " 'floatShares': 23541441000,\n",
       " 'sharesOutstanding': 24529999872,\n",
       " 'sharesShort': 251090067,\n",
       " 'sharesShortPriorMonth': 260873913,\n",
       " 'sharesShortPreviousMonthDate': 1724976000,\n",
       " 'dateShortInterest': 1727654400,\n",
       " 'sharesPercentSharesOut': 0.010199999,\n",
       " 'heldPercentInsiders': 0.042930003,\n",
       " 'heldPercentInstitutions': 0.66760004,\n",
       " 'shortRatio': 0.8,\n",
       " 'shortPercentOfFloat': 0.0107,\n",
       " 'impliedSharesOutstanding': 24533600256,\n",
       " 'bookValue': 2.368,\n",
       " 'priceToBook': 58.02369,\n",
       " 'lastFiscalYearEnd': 1706400000,\n",
       " 'nextFiscalYearEnd': 1738022400,\n",
       " 'mostRecentQuarter': 1722124800,\n",
       " 'earningsQuarterlyGrowth': 1.682,\n",
       " 'netIncomeToCommon': 53007998976,\n",
       " 'trailingEps': 2.13,\n",
       " 'forwardEps': 4.05,\n",
       " 'pegRatio': 0.91,\n",
       " 'lastSplitFactor': '10:1',\n",
       " 'lastSplitDate': 1717977600,\n",
       " 'enterpriseToRevenue': 34.311,\n",
       " 'enterpriseToEbitda': 54.008,\n",
       " '52WeekChange': 2.2236764,\n",
       " 'SandP52WeekChange': 0.36570132,\n",
       " 'lastDividendValue': 0.01,\n",
       " 'lastDividendDate': 1726099200,\n",
       " 'exchange': 'NMS',\n",
       " 'quoteType': 'EQUITY',\n",
       " 'symbol': 'NVDA',\n",
       " 'underlyingSymbol': 'NVDA',\n",
       " 'shortName': 'NVIDIA Corporation',\n",
       " 'longName': 'NVIDIA Corporation',\n",
       " 'firstTradeDateEpochUtc': 917015400,\n",
       " 'timeZoneFullName': 'America/New_York',\n",
       " 'timeZoneShortName': 'EDT',\n",
       " 'uuid': '7f5f6a07-b148-30f4-98a2-2caa3df2aed0',\n",
       " 'messageBoardId': 'finmb_32307',\n",
       " 'gmtOffSetMilliseconds': -14400000,\n",
       " 'currentPrice': 137.4001,\n",
       " 'targetHighPrice': 202.79,\n",
       " 'targetLowPrice': 75.4,\n",
       " 'targetMeanPrice': 148.53,\n",
       " 'targetMedianPrice': 150.0,\n",
       " 'recommendationMean': 1.8,\n",
       " 'recommendationKey': 'buy',\n",
       " 'numberOfAnalystOpinions': 50,\n",
       " 'totalCash': 34800001024,\n",
       " 'totalCashPerShare': 1.419,\n",
       " 'ebitda': 61184000000,\n",
       " 'totalDebt': 10014999552,\n",
       " 'quickRatio': 3.503,\n",
       " 'currentRatio': 4.269,\n",
       " 'totalRevenue': 96307003392,\n",
       " 'debtToEquity': 17.221,\n",
       " 'revenuePerShare': 3.91,\n",
       " 'returnOnAssets': 0.55258,\n",
       " 'returnOnEquity': 1.23767,\n",
       " 'freeCashflow': 33725874176,\n",
       " 'operatingCashflow': 48663998464,\n",
       " 'earningsGrowth': 1.68,\n",
       " 'revenueGrowth': 1.224,\n",
       " 'grossMargins': 0.75975996,\n",
       " 'ebitdaMargins': 0.6353,\n",
       " 'operatingMargins': 0.62057,\n",
       " 'financialCurrency': 'USD',\n",
       " 'trailingPegRatio': 1.0514}"
      ]
     },
     "execution_count": 94,
     "metadata": {},
     "output_type": "execute_result"
    }
   ],
   "source": [
    "# get info on the the company\n",
    "nvda.info"
   ]
  },
  {
   "cell_type": "code",
   "execution_count": 95,
   "metadata": {},
   "outputs": [
    {
     "data": {
      "text/html": [
       "<div>\n",
       "<style scoped>\n",
       "    .dataframe tbody tr th:only-of-type {\n",
       "        vertical-align: middle;\n",
       "    }\n",
       "\n",
       "    .dataframe tbody tr th {\n",
       "        vertical-align: top;\n",
       "    }\n",
       "\n",
       "    .dataframe thead th {\n",
       "        text-align: right;\n",
       "    }\n",
       "</style>\n",
       "<table border=\"1\" class=\"dataframe\">\n",
       "  <thead>\n",
       "    <tr style=\"text-align: right;\">\n",
       "      <th></th>\n",
       "      <th>Open</th>\n",
       "      <th>High</th>\n",
       "      <th>Low</th>\n",
       "      <th>Close</th>\n",
       "      <th>Volume</th>\n",
       "      <th>Dividends</th>\n",
       "      <th>Stock Splits</th>\n",
       "    </tr>\n",
       "    <tr>\n",
       "      <th>Date</th>\n",
       "      <th></th>\n",
       "      <th></th>\n",
       "      <th></th>\n",
       "      <th></th>\n",
       "      <th></th>\n",
       "      <th></th>\n",
       "      <th></th>\n",
       "    </tr>\n",
       "  </thead>\n",
       "  <tbody>\n",
       "    <tr>\n",
       "      <th>1999-01-22 00:00:00-05:00</th>\n",
       "      <td>0.040125</td>\n",
       "      <td>0.044783</td>\n",
       "      <td>0.035587</td>\n",
       "      <td>0.037618</td>\n",
       "      <td>2714688000</td>\n",
       "      <td>0.0</td>\n",
       "      <td>0.0</td>\n",
       "    </tr>\n",
       "    <tr>\n",
       "      <th>1999-01-25 00:00:00-05:00</th>\n",
       "      <td>0.040603</td>\n",
       "      <td>0.042036</td>\n",
       "      <td>0.037618</td>\n",
       "      <td>0.041559</td>\n",
       "      <td>510480000</td>\n",
       "      <td>0.0</td>\n",
       "      <td>0.0</td>\n",
       "    </tr>\n",
       "    <tr>\n",
       "      <th>1999-01-26 00:00:00-05:00</th>\n",
       "      <td>0.042036</td>\n",
       "      <td>0.042872</td>\n",
       "      <td>0.037737</td>\n",
       "      <td>0.038334</td>\n",
       "      <td>343200000</td>\n",
       "      <td>0.0</td>\n",
       "      <td>0.0</td>\n",
       "    </tr>\n",
       "    <tr>\n",
       "      <th>1999-01-27 00:00:00-05:00</th>\n",
       "      <td>0.038453</td>\n",
       "      <td>0.039409</td>\n",
       "      <td>0.036303</td>\n",
       "      <td>0.038215</td>\n",
       "      <td>244368000</td>\n",
       "      <td>0.0</td>\n",
       "      <td>0.0</td>\n",
       "    </tr>\n",
       "    <tr>\n",
       "      <th>1999-01-28 00:00:00-05:00</th>\n",
       "      <td>0.038215</td>\n",
       "      <td>0.038453</td>\n",
       "      <td>0.037856</td>\n",
       "      <td>0.038095</td>\n",
       "      <td>227520000</td>\n",
       "      <td>0.0</td>\n",
       "      <td>0.0</td>\n",
       "    </tr>\n",
       "  </tbody>\n",
       "</table>\n",
       "</div>"
      ],
      "text/plain": [
       "                               Open      High       Low     Close      Volume  \\\n",
       "Date                                                                            \n",
       "1999-01-22 00:00:00-05:00  0.040125  0.044783  0.035587  0.037618  2714688000   \n",
       "1999-01-25 00:00:00-05:00  0.040603  0.042036  0.037618  0.041559   510480000   \n",
       "1999-01-26 00:00:00-05:00  0.042036  0.042872  0.037737  0.038334   343200000   \n",
       "1999-01-27 00:00:00-05:00  0.038453  0.039409  0.036303  0.038215   244368000   \n",
       "1999-01-28 00:00:00-05:00  0.038215  0.038453  0.037856  0.038095   227520000   \n",
       "\n",
       "                           Dividends  Stock Splits  \n",
       "Date                                                \n",
       "1999-01-22 00:00:00-05:00        0.0           0.0  \n",
       "1999-01-25 00:00:00-05:00        0.0           0.0  \n",
       "1999-01-26 00:00:00-05:00        0.0           0.0  \n",
       "1999-01-27 00:00:00-05:00        0.0           0.0  \n",
       "1999-01-28 00:00:00-05:00        0.0           0.0  "
      ]
     },
     "execution_count": 95,
     "metadata": {},
     "output_type": "execute_result"
    }
   ],
   "source": [
    "# get historical market data\n",
    "history = nvda.history(period=\"max\")\n",
    "# create a dataframe from the historical data\n",
    "df = pd.DataFrame(history)\n",
    "df.head()"
   ]
  },
  {
   "cell_type": "markdown",
   "metadata": {},
   "source": [
    "Very basic explanation of the history data:\n",
    "\n",
    "- Open: The price at the beginning of the trading day.\n",
    "- High: The highest price reached during the day.\n",
    "- Low: The lowest price reached during the day.\n",
    "- Close: The price at the end of the trading day.\n",
    "- Volume: The number of shares traded.\n",
    "- Dividends: The dividend yield (annual dividend per share divided by the stock price) and the dividend payout ratio.\n",
    "- Stock Splits: A history of stock splits, including the date and ratio."
   ]
  },
  {
   "cell_type": "code",
   "execution_count": 96,
   "metadata": {},
   "outputs": [
    {
     "data": {
      "text/plain": [
       "Date\n",
       "1999-01-22 00:00:00-05:00      0.037618\n",
       "1999-01-25 00:00:00-05:00      0.041559\n",
       "1999-01-26 00:00:00-05:00      0.038334\n",
       "1999-01-27 00:00:00-05:00      0.038215\n",
       "1999-01-28 00:00:00-05:00      0.038095\n",
       "                                ...    \n",
       "2024-10-11 00:00:00-04:00    134.800003\n",
       "2024-10-14 00:00:00-04:00    138.070007\n",
       "2024-10-15 00:00:00-04:00    131.600006\n",
       "2024-10-16 00:00:00-04:00    135.720001\n",
       "2024-10-17 00:00:00-04:00    137.400101\n",
       "Name: Close, Length: 6477, dtype: float64"
      ]
     },
     "execution_count": 96,
     "metadata": {},
     "output_type": "execute_result"
    }
   ],
   "source": [
    "x = df.index\n",
    "y = df['Close']\n",
    "y"
   ]
  },
  {
   "cell_type": "code",
   "execution_count": 97,
   "metadata": {},
   "outputs": [],
   "source": [
    "# define function to plot the data\n",
    "def df_plot(x, y, title=\"\", xlabel=\"Date\", ylabel=\"\", dpi=100):\n",
    "    plt.figure(figsize=(16, 5), dpi=dpi)\n",
    "    plt.plot(x, y, color='tab:blue')\n",
    "    plt.gca().set(title=title, xlabel=xlabel, ylabel=ylabel)\n",
    "    plt.show()"
   ]
  },
  {
   "cell_type": "code",
   "execution_count": 98,
   "metadata": {},
   "outputs": [
    {
     "data": {
      "image/png": "[encoded data removed]",
      "text/plain": [
       "<Figure size 1600x500 with 1 Axes>"
      ]
     },
     "metadata": {},
     "output_type": "display_data"
    }
   ],
   "source": [
    "stock_name = nvda.info['shortName']\n",
    "title = f\"{stock_name} Stock Price\"\n",
    "\n",
    "df_plot(x, y, title=title, ylabel=\"Value\")"
   ]
  },
  {
   "cell_type": "code",
   "execution_count": 99,
   "metadata": {},
   "outputs": [],
   "source": [
    "df.reset_index(inplace=True)"
   ]
  },
  {
   "cell_type": "code",
   "execution_count": 100,
   "metadata": {},
   "outputs": [
    {
     "data": {
      "text/html": [
       "<div>\n",
       "<style scoped>\n",
       "    .dataframe tbody tr th:only-of-type {\n",
       "        vertical-align: middle;\n",
       "    }\n",
       "\n",
       "    .dataframe tbody tr th {\n",
       "        vertical-align: top;\n",
       "    }\n",
       "\n",
       "    .dataframe thead th {\n",
       "        text-align: right;\n",
       "    }\n",
       "</style>\n",
       "<table border=\"1\" class=\"dataframe\">\n",
       "  <thead>\n",
       "    <tr style=\"text-align: right;\">\n",
       "      <th></th>\n",
       "      <th>Date</th>\n",
       "      <th>Open</th>\n",
       "      <th>High</th>\n",
       "      <th>Low</th>\n",
       "      <th>Close</th>\n",
       "      <th>Volume</th>\n",
       "      <th>Dividends</th>\n",
       "      <th>Stock Splits</th>\n",
       "    </tr>\n",
       "  </thead>\n",
       "  <tbody>\n",
       "    <tr>\n",
       "      <th>0</th>\n",
       "      <td>1999-01-22 00:00:00-05:00</td>\n",
       "      <td>0.040125</td>\n",
       "      <td>0.044783</td>\n",
       "      <td>0.035587</td>\n",
       "      <td>0.037618</td>\n",
       "      <td>2714688000</td>\n",
       "      <td>0.0</td>\n",
       "      <td>0.0</td>\n",
       "    </tr>\n",
       "    <tr>\n",
       "      <th>1</th>\n",
       "      <td>1999-01-25 00:00:00-05:00</td>\n",
       "      <td>0.040603</td>\n",
       "      <td>0.042036</td>\n",
       "      <td>0.037618</td>\n",
       "      <td>0.041559</td>\n",
       "      <td>510480000</td>\n",
       "      <td>0.0</td>\n",
       "      <td>0.0</td>\n",
       "    </tr>\n",
       "    <tr>\n",
       "      <th>2</th>\n",
       "      <td>1999-01-26 00:00:00-05:00</td>\n",
       "      <td>0.042036</td>\n",
       "      <td>0.042872</td>\n",
       "      <td>0.037737</td>\n",
       "      <td>0.038334</td>\n",
       "      <td>343200000</td>\n",
       "      <td>0.0</td>\n",
       "      <td>0.0</td>\n",
       "    </tr>\n",
       "    <tr>\n",
       "      <th>3</th>\n",
       "      <td>1999-01-27 00:00:00-05:00</td>\n",
       "      <td>0.038453</td>\n",
       "      <td>0.039409</td>\n",
       "      <td>0.036303</td>\n",
       "      <td>0.038215</td>\n",
       "      <td>244368000</td>\n",
       "      <td>0.0</td>\n",
       "      <td>0.0</td>\n",
       "    </tr>\n",
       "    <tr>\n",
       "      <th>4</th>\n",
       "      <td>1999-01-28 00:00:00-05:00</td>\n",
       "      <td>0.038215</td>\n",
       "      <td>0.038453</td>\n",
       "      <td>0.037856</td>\n",
       "      <td>0.038095</td>\n",
       "      <td>227520000</td>\n",
       "      <td>0.0</td>\n",
       "      <td>0.0</td>\n",
       "    </tr>\n",
       "  </tbody>\n",
       "</table>\n",
       "</div>"
      ],
      "text/plain": [
       "                       Date      Open      High       Low     Close  \\\n",
       "0 1999-01-22 00:00:00-05:00  0.040125  0.044783  0.035587  0.037618   \n",
       "1 1999-01-25 00:00:00-05:00  0.040603  0.042036  0.037618  0.041559   \n",
       "2 1999-01-26 00:00:00-05:00  0.042036  0.042872  0.037737  0.038334   \n",
       "3 1999-01-27 00:00:00-05:00  0.038453  0.039409  0.036303  0.038215   \n",
       "4 1999-01-28 00:00:00-05:00  0.038215  0.038453  0.037856  0.038095   \n",
       "\n",
       "       Volume  Dividends  Stock Splits  \n",
       "0  2714688000        0.0           0.0  \n",
       "1   510480000        0.0           0.0  \n",
       "2   343200000        0.0           0.0  \n",
       "3   244368000        0.0           0.0  \n",
       "4   227520000        0.0           0.0  "
      ]
     },
     "execution_count": 100,
     "metadata": {},
     "output_type": "execute_result"
    }
   ],
   "source": [
    "df.head()"
   ]
  },
  {
   "cell_type": "code",
   "execution_count": 101,
   "metadata": {},
   "outputs": [
    {
     "data": {
      "text/html": [
       "<div>\n",
       "<style scoped>\n",
       "    .dataframe tbody tr th:only-of-type {\n",
       "        vertical-align: middle;\n",
       "    }\n",
       "\n",
       "    .dataframe tbody tr th {\n",
       "        vertical-align: top;\n",
       "    }\n",
       "\n",
       "    .dataframe thead th {\n",
       "        text-align: right;\n",
       "    }\n",
       "</style>\n",
       "<table border=\"1\" class=\"dataframe\">\n",
       "  <thead>\n",
       "    <tr style=\"text-align: right;\">\n",
       "      <th></th>\n",
       "      <th>Date</th>\n",
       "      <th>Open</th>\n",
       "      <th>High</th>\n",
       "      <th>Low</th>\n",
       "      <th>Close</th>\n",
       "      <th>Volume</th>\n",
       "    </tr>\n",
       "  </thead>\n",
       "  <tbody>\n",
       "    <tr>\n",
       "      <th>0</th>\n",
       "      <td>1999-01-22 00:00:00-05:00</td>\n",
       "      <td>0.040125</td>\n",
       "      <td>0.044783</td>\n",
       "      <td>0.035587</td>\n",
       "      <td>0.037618</td>\n",
       "      <td>2714688000</td>\n",
       "    </tr>\n",
       "    <tr>\n",
       "      <th>1</th>\n",
       "      <td>1999-01-25 00:00:00-05:00</td>\n",
       "      <td>0.040603</td>\n",
       "      <td>0.042036</td>\n",
       "      <td>0.037618</td>\n",
       "      <td>0.041559</td>\n",
       "      <td>510480000</td>\n",
       "    </tr>\n",
       "    <tr>\n",
       "      <th>2</th>\n",
       "      <td>1999-01-26 00:00:00-05:00</td>\n",
       "      <td>0.042036</td>\n",
       "      <td>0.042872</td>\n",
       "      <td>0.037737</td>\n",
       "      <td>0.038334</td>\n",
       "      <td>343200000</td>\n",
       "    </tr>\n",
       "    <tr>\n",
       "      <th>3</th>\n",
       "      <td>1999-01-27 00:00:00-05:00</td>\n",
       "      <td>0.038453</td>\n",
       "      <td>0.039409</td>\n",
       "      <td>0.036303</td>\n",
       "      <td>0.038215</td>\n",
       "      <td>244368000</td>\n",
       "    </tr>\n",
       "    <tr>\n",
       "      <th>4</th>\n",
       "      <td>1999-01-28 00:00:00-05:00</td>\n",
       "      <td>0.038215</td>\n",
       "      <td>0.038453</td>\n",
       "      <td>0.037856</td>\n",
       "      <td>0.038095</td>\n",
       "      <td>227520000</td>\n",
       "    </tr>\n",
       "  </tbody>\n",
       "</table>\n",
       "</div>"
      ],
      "text/plain": [
       "                       Date      Open      High       Low     Close  \\\n",
       "0 1999-01-22 00:00:00-05:00  0.040125  0.044783  0.035587  0.037618   \n",
       "1 1999-01-25 00:00:00-05:00  0.040603  0.042036  0.037618  0.041559   \n",
       "2 1999-01-26 00:00:00-05:00  0.042036  0.042872  0.037737  0.038334   \n",
       "3 1999-01-27 00:00:00-05:00  0.038453  0.039409  0.036303  0.038215   \n",
       "4 1999-01-28 00:00:00-05:00  0.038215  0.038453  0.037856  0.038095   \n",
       "\n",
       "       Volume  \n",
       "0  2714688000  \n",
       "1   510480000  \n",
       "2   343200000  \n",
       "3   244368000  \n",
       "4   227520000  "
      ]
     },
     "execution_count": 101,
     "metadata": {},
     "output_type": "execute_result"
    }
   ],
   "source": [
    "# We declare the Dividends and Stock Splits unnecessary for our analysis and drop them\n",
    "\n",
    "df.drop(['Dividends', 'Stock Splits'], axis=1, inplace=True) \n",
    "df.head()"
   ]
  },
  {
   "cell_type": "code",
   "execution_count": 102,
   "metadata": {},
   "outputs": [
    {
     "name": "stdout",
     "output_type": "stream",
     "text": [
      "<class 'pandas.core.frame.DataFrame'>\n",
      "RangeIndex: 6477 entries, 0 to 6476\n",
      "Data columns (total 6 columns):\n",
      " #   Column  Non-Null Count  Dtype                           \n",
      "---  ------  --------------  -----                           \n",
      " 0   Date    6477 non-null   datetime64[ns, America/New_York]\n",
      " 1   Open    6477 non-null   float64                         \n",
      " 2   High    6477 non-null   float64                         \n",
      " 3   Low     6477 non-null   float64                         \n",
      " 4   Close   6477 non-null   float64                         \n",
      " 5   Volume  6477 non-null   int64                           \n",
      "dtypes: datetime64[ns, America/New_York](1), float64(4), int64(1)\n",
      "memory usage: 303.7 KB\n"
     ]
    }
   ],
   "source": [
    "# df.info() gives us the information about the data types of the columns and the number of non-null values in each column\n",
    "df.info()"
   ]
  },
  {
   "cell_type": "code",
   "execution_count": 103,
   "metadata": {},
   "outputs": [
    {
     "data": {
      "text/plain": [
       "Date      0\n",
       "Open      0\n",
       "High      0\n",
       "Low       0\n",
       "Close     0\n",
       "Volume    0\n",
       "dtype: int64"
      ]
     },
     "execution_count": 103,
     "metadata": {},
     "output_type": "execute_result"
    }
   ],
   "source": [
    "# find any null values in the dataset\n",
    "df.isnull().sum()"
   ]
  },
  {
   "cell_type": "code",
   "execution_count": 104,
   "metadata": {},
   "outputs": [
    {
     "data": {
      "text/html": [
       "<div>\n",
       "<style scoped>\n",
       "    .dataframe tbody tr th:only-of-type {\n",
       "        vertical-align: middle;\n",
       "    }\n",
       "\n",
       "    .dataframe tbody tr th {\n",
       "        vertical-align: top;\n",
       "    }\n",
       "\n",
       "    .dataframe thead th {\n",
       "        text-align: right;\n",
       "    }\n",
       "</style>\n",
       "<table border=\"1\" class=\"dataframe\">\n",
       "  <thead>\n",
       "    <tr style=\"text-align: right;\">\n",
       "      <th></th>\n",
       "      <th>Open</th>\n",
       "      <th>High</th>\n",
       "      <th>Low</th>\n",
       "      <th>Close</th>\n",
       "      <th>Volume</th>\n",
       "    </tr>\n",
       "  </thead>\n",
       "  <tbody>\n",
       "    <tr>\n",
       "      <th>count</th>\n",
       "      <td>6477.000000</td>\n",
       "      <td>6477.000000</td>\n",
       "      <td>6477.000000</td>\n",
       "      <td>6477.000000</td>\n",
       "      <td>6.477000e+03</td>\n",
       "    </tr>\n",
       "    <tr>\n",
       "      <th>mean</th>\n",
       "      <td>7.157595</td>\n",
       "      <td>7.292360</td>\n",
       "      <td>7.012781</td>\n",
       "      <td>7.159292</td>\n",
       "      <td>6.036708e+08</td>\n",
       "    </tr>\n",
       "    <tr>\n",
       "      <th>std</th>\n",
       "      <td>19.196762</td>\n",
       "      <td>19.564975</td>\n",
       "      <td>18.779888</td>\n",
       "      <td>19.190288</td>\n",
       "      <td>4.313157e+08</td>\n",
       "    </tr>\n",
       "    <tr>\n",
       "      <th>min</th>\n",
       "      <td>0.032005</td>\n",
       "      <td>0.032602</td>\n",
       "      <td>0.030571</td>\n",
       "      <td>0.031289</td>\n",
       "      <td>1.968000e+07</td>\n",
       "    </tr>\n",
       "    <tr>\n",
       "      <th>25%</th>\n",
       "      <td>0.255798</td>\n",
       "      <td>0.263202</td>\n",
       "      <td>0.249006</td>\n",
       "      <td>0.255655</td>\n",
       "      <td>3.432000e+08</td>\n",
       "    </tr>\n",
       "    <tr>\n",
       "      <th>50%</th>\n",
       "      <td>0.432056</td>\n",
       "      <td>0.438689</td>\n",
       "      <td>0.424528</td>\n",
       "      <td>0.432056</td>\n",
       "      <td>5.043000e+08</td>\n",
       "    </tr>\n",
       "    <tr>\n",
       "      <th>75%</th>\n",
       "      <td>4.300832</td>\n",
       "      <td>4.394205</td>\n",
       "      <td>4.256795</td>\n",
       "      <td>4.309253</td>\n",
       "      <td>7.348080e+08</td>\n",
       "    </tr>\n",
       "    <tr>\n",
       "      <th>max</th>\n",
       "      <td>139.788047</td>\n",
       "      <td>140.889999</td>\n",
       "      <td>136.869995</td>\n",
       "      <td>138.070007</td>\n",
       "      <td>9.230856e+09</td>\n",
       "    </tr>\n",
       "  </tbody>\n",
       "</table>\n",
       "</div>"
      ],
      "text/plain": [
       "              Open         High          Low        Close        Volume\n",
       "count  6477.000000  6477.000000  6477.000000  6477.000000  6.477000e+03\n",
       "mean      7.157595     7.292360     7.012781     7.159292  6.036708e+08\n",
       "std      19.196762    19.564975    18.779888    19.190288  4.313157e+08\n",
       "min       0.032005     0.032602     0.030571     0.031289  1.968000e+07\n",
       "25%       0.255798     0.263202     0.249006     0.255655  3.432000e+08\n",
       "50%       0.432056     0.438689     0.424528     0.432056  5.043000e+08\n",
       "75%       4.300832     4.394205     4.256795     4.309253  7.348080e+08\n",
       "max     139.788047   140.889999   136.869995   138.070007  9.230856e+09"
      ]
     },
     "execution_count": 104,
     "metadata": {},
     "output_type": "execute_result"
    }
   ],
   "source": [
    "# df.describe() gives us the statistical summary of the dataframe\n",
    "df.describe()"
   ]
  },
  {
   "cell_type": "markdown",
   "metadata": {},
   "source": [
    "## 3. Data Preprocessing\n",
    "\n",
    "We now define the features and the target variable. \n",
    "\n",
    "Features are the columns that we will use to predict the target variable. In this case, we will use the 'Close' column as the target variable. We will use the 'Open', 'High', 'Low', and 'Volume' columns as the features.\n",
    "\n",
    "Or in other words, we will use the opening price, highest price, lowest price, and the volume of the stock as the features to predict the closing price of the stock."
   ]
  },
  {
   "cell_type": "code",
   "execution_count": 105,
   "metadata": {},
   "outputs": [],
   "source": [
    "# obtain the columns needed for the analysis\n",
    "x = df[['Open', 'High', 'Low', 'Volume']]\n",
    "y = df['Close']"
   ]
  },
  {
   "cell_type": "markdown",
   "metadata": {},
   "source": [
    "We need to split the data into two segments: training data and testing data. We will use the training data to train the model and the testing data to evaluate the model.\n",
    "\n",
    "The training data helps the machine learn patterns and relationships in the data. Whereas the testing data evaluates how well the machine has learned and how it performs on new unseen data."
   ]
  },
  {
   "cell_type": "code",
   "execution_count": 106,
   "metadata": {},
   "outputs": [],
   "source": [
    "# split the data into training and testing sets\n",
    "\n",
    "x_train, x_test, y_train, y_test = train_test_split(x, y, test_size=0.2,shuffle=False, random_state=0)"
   ]
  },
  {
   "cell_type": "code",
   "execution_count": 107,
   "metadata": {},
   "outputs": [
    {
     "name": "stdout",
     "output_type": "stream",
     "text": [
      "x_train.shape=(5181, 4)\n",
      "x_test.shape=(1296, 4)\n",
      "y_train.shape=(5181,)\n",
      "y_test.shape=(1296,)\n"
     ]
    }
   ],
   "source": [
    "print(f\"{x_train.shape=}\")\n",
    "print(f\"{x_test.shape=}\")\n",
    "print(f\"{y_train.shape=}\")\n",
    "print(f\"{y_test.shape=}\")"
   ]
  },
  {
   "cell_type": "markdown",
   "metadata": {},
   "source": [
    "We will use Linear Regression to predict the closing price of the stock.\n",
    "\n",
    "Linear Regression is a statistical method which used to model the relationship between a dependent variable (target) and one or more independent variables (features).\n",
    "It assumes that the relationship is linear, meaning it can be represented by a straight line. \n",
    "\n",
    "In simple terms, it tries to find the best line that fits the data points.\n",
    "\n",
    "For our case, the equation of the line will be:\n",
    "\n",
    "$$y = m1 * x1 + m2 * x2 + m3 * x3 + m4 * x4 + b$$\n",
    "\n",
    "where:\n",
    "- y is the target variable (closing price)\n",
    "- x1, x2, x3, x4 are the features (open, high, low, volume)\n",
    "- m1, m2, m3, m4 are the coefficients of the features\n",
    "- b is the intercept\n",
    "\n",
    "The model tries to find the best values for the coefficients and the intercept that minimizes the error between the predicted values and the actual values."
   ]
  },
  {
   "cell_type": "markdown",
   "metadata": {},
   "source": [
    "## 4. Model Training and Evaluation"
   ]
  },
  {
   "cell_type": "code",
   "execution_count": 108,
   "metadata": {},
   "outputs": [
    {
     "name": "stdout",
     "output_type": "stream",
     "text": [
      "model.intercept_=np.float64(-0.0002092170988373665)\n",
      "model.coef_=array([-6.45088361e-01,  8.43449593e-01,  8.02000171e-01, -1.47418520e-14])\n"
     ]
    }
   ],
   "source": [
    "from sklearn.linear_model import LinearRegression\n",
    "\n",
    "# create a Linear Regression model\n",
    "model = LinearRegression()\n",
    "\n",
    "# fit the model to the training data (i.e. train the model)\n",
    "model.fit(x_train, y_train)\n",
    "\n",
    "# show the model's intercept and coefficients\n",
    "print(f\"{model.intercept_=}\")\n",
    "print(f\"{model.coef_=}\")"
   ]
  },
  {
   "cell_type": "code",
   "execution_count": 110,
   "metadata": {},
   "outputs": [
    {
     "data": {
      "text/html": [
       "<div>\n",
       "<style scoped>\n",
       "    .dataframe tbody tr th:only-of-type {\n",
       "        vertical-align: middle;\n",
       "    }\n",
       "\n",
       "    .dataframe tbody tr th {\n",
       "        vertical-align: top;\n",
       "    }\n",
       "\n",
       "    .dataframe thead th {\n",
       "        text-align: right;\n",
       "    }\n",
       "</style>\n",
       "<table border=\"1\" class=\"dataframe\">\n",
       "  <thead>\n",
       "    <tr style=\"text-align: right;\">\n",
       "      <th></th>\n",
       "      <th>Actual</th>\n",
       "      <th>Predicted</th>\n",
       "    </tr>\n",
       "  </thead>\n",
       "  <tbody>\n",
       "    <tr>\n",
       "      <th>5181</th>\n",
       "      <td>4.112158</td>\n",
       "      <td>4.103856</td>\n",
       "    </tr>\n",
       "    <tr>\n",
       "      <th>5182</th>\n",
       "      <td>4.021440</td>\n",
       "      <td>4.027052</td>\n",
       "    </tr>\n",
       "    <tr>\n",
       "      <th>5183</th>\n",
       "      <td>4.010991</td>\n",
       "      <td>4.022690</td>\n",
       "    </tr>\n",
       "    <tr>\n",
       "      <th>5184</th>\n",
       "      <td>4.154792</td>\n",
       "      <td>4.172367</td>\n",
       "    </tr>\n",
       "    <tr>\n",
       "      <th>5185</th>\n",
       "      <td>4.167479</td>\n",
       "      <td>4.202836</td>\n",
       "    </tr>\n",
       "  </tbody>\n",
       "</table>\n",
       "</div>"
      ],
      "text/plain": [
       "        Actual  Predicted\n",
       "5181  4.112158   4.103856\n",
       "5182  4.021440   4.027052\n",
       "5183  4.010991   4.022690\n",
       "5184  4.154792   4.172367\n",
       "5185  4.167479   4.202836"
      ]
     },
     "execution_count": 110,
     "metadata": {},
     "output_type": "execute_result"
    }
   ],
   "source": [
    "# show a table comparing the actual values to the predicted values\n",
    "\n",
    "y_pred = model.predict(x_test)\n",
    "dfr = pd.DataFrame({'Actual': y_test, 'Predicted': y_pred})\n",
    "dfr.head()"
   ]
  },
  {
   "cell_type": "code",
   "execution_count": 111,
   "metadata": {},
   "outputs": [
    {
     "data": {
      "text/html": [
       "<div>\n",
       "<style scoped>\n",
       "    .dataframe tbody tr th:only-of-type {\n",
       "        vertical-align: middle;\n",
       "    }\n",
       "\n",
       "    .dataframe tbody tr th {\n",
       "        vertical-align: top;\n",
       "    }\n",
       "\n",
       "    .dataframe thead th {\n",
       "        text-align: right;\n",
       "    }\n",
       "</style>\n",
       "<table border=\"1\" class=\"dataframe\">\n",
       "  <thead>\n",
       "    <tr style=\"text-align: right;\">\n",
       "      <th></th>\n",
       "      <th>Actual</th>\n",
       "      <th>Predicted</th>\n",
       "    </tr>\n",
       "  </thead>\n",
       "  <tbody>\n",
       "    <tr>\n",
       "      <th>count</th>\n",
       "      <td>1296.000000</td>\n",
       "      <td>1296.000000</td>\n",
       "    </tr>\n",
       "    <tr>\n",
       "      <th>mean</th>\n",
       "      <td>32.157527</td>\n",
       "      <td>32.148522</td>\n",
       "    </tr>\n",
       "    <tr>\n",
       "      <th>std</th>\n",
       "      <td>32.416372</td>\n",
       "      <td>32.395336</td>\n",
       "    </tr>\n",
       "    <tr>\n",
       "      <th>min</th>\n",
       "      <td>4.010991</td>\n",
       "      <td>4.022690</td>\n",
       "    </tr>\n",
       "    <tr>\n",
       "      <th>25%</th>\n",
       "      <td>12.983001</td>\n",
       "      <td>13.012026</td>\n",
       "    </tr>\n",
       "    <tr>\n",
       "      <th>50%</th>\n",
       "      <td>19.159296</td>\n",
       "      <td>19.104455</td>\n",
       "    </tr>\n",
       "    <tr>\n",
       "      <th>75%</th>\n",
       "      <td>42.087164</td>\n",
       "      <td>42.077385</td>\n",
       "    </tr>\n",
       "    <tr>\n",
       "      <th>max</th>\n",
       "      <td>138.070007</td>\n",
       "      <td>139.022772</td>\n",
       "    </tr>\n",
       "  </tbody>\n",
       "</table>\n",
       "</div>"
      ],
      "text/plain": [
       "            Actual    Predicted\n",
       "count  1296.000000  1296.000000\n",
       "mean     32.157527    32.148522\n",
       "std      32.416372    32.395336\n",
       "min       4.010991     4.022690\n",
       "25%      12.983001    13.012026\n",
       "50%      19.159296    19.104455\n",
       "75%      42.087164    42.077385\n",
       "max     138.070007   139.022772"
      ]
     },
     "execution_count": 111,
     "metadata": {},
     "output_type": "execute_result"
    }
   ],
   "source": [
    "dfr.describe()"
   ]
  },
  {
   "cell_type": "markdown",
   "metadata": {},
   "source": [
    "To evaluate the model, we will use the Mean Absolute Error (MAE) metrics. It is the average of the absolute differences between the predicted values and the actual values. It provides a simple, intuitive way to assess how far off teh model's predictions are from the actual values.\n",
    "\n",
    "Formula:\n",
    "\n",
    "$$MAE = \\frac{1}{n} \\sum_{i=1}^{n} |y_{i} - \\hat{y_{i}}|$$\n",
    "\n",
    "where:\n",
    "- n is the number of data points\n",
    "- y_{i} is the actual value\n",
    "- \\hat{y_{i}} is the predicted value\n",
    "\n",
    "Interpretation:\n",
    "\n",
    "- Lower MAE: Indicates that the model's predictions are closer to the actual values, which is generally better\n",
    "- Higher MAE: Indicates that the model's predictions are further from the actual values, which is generally worse\n",
    "\n",
    "The MAE metric is easy to understand and robust to outliers, but it does not penalize large errors as much as other metrics like Mean Squared Error (MSE).\n",
    "\n",
    "Usually, we will use a combination of metrics to evaluate the model, but for this tutorial and hackathon, we will stick with MAE."
   ]
  },
  {
   "cell_type": "code",
   "execution_count": 121,
   "metadata": {},
   "outputs": [
    {
     "name": "stdout",
     "output_type": "stream",
     "text": [
      "mae=np.float64(0.28304343148159256)\n"
     ]
    }
   ],
   "source": [
    "# calculate the Mean Absolute Error  \n",
    "\n",
    "mae = metrics.mean_absolute_error(y_test, y_pred)\n",
    "print(f\"{mae=}\")"
   ]
  },
  {
   "cell_type": "code",
   "execution_count": 113,
   "metadata": {},
   "outputs": [
    {
     "data": {
      "image/png": "[encoded data removed]",
      "text/plain": [
       "<Figure size 1000x500 with 1 Axes>"
      ]
     },
     "metadata": {},
     "output_type": "display_data"
    }
   ],
   "source": [
    "def scatter_plot(y_test, y_pred, title, xlabel, ylabel, dpi=100):\n",
    "    plt.figure(figsize=(10, 5), dpi=dpi)\n",
    "    plt.scatter(y_test, y_pred, color='tab:blue', marker='x')\n",
    "    plt.gca().set(title=title, xlabel=xlabel, ylabel=ylabel)\n",
    "    plt.show()\n",
    "\n",
    "scatter_plot(y_test, y_pred, title=\"Actual vs Predicted\", xlabel=\"Actual\", ylabel=\"Predicted\")"
   ]
  },
  {
   "cell_type": "code",
   "execution_count": 115,
   "metadata": {},
   "outputs": [
    {
     "data": {
      "image/png": "[encoded data removed]",
      "text/plain": [
       "<Figure size 1600x500 with 1 Axes>"
      ]
     },
     "metadata": {},
     "output_type": "display_data"
    }
   ],
   "source": [
    "# get the dates for the test data\n",
    "dates = df['Date'].iloc[y_test.index]\n",
    "\n",
    "# create a dataframe for the actual and predicted values\n",
    "dfp = pd.DataFrame({'Date': dates, 'Actual': y_test, 'Predicted': y_pred})\n",
    "\n",
    "# plot the actual and predicted values as line graphs\n",
    "def dfp_plot(x, y1, y2, title=\"\", xlabel=\"Date\", ylabel=\"Value\", dpi=100):\n",
    "    plt.figure(figsize=(16, 5), dpi=dpi)\n",
    "    plt.plot(x, y1, color='tab:blue', label='Actual')\n",
    "    plt.plot(x, y2, color='lightblue', label='Predicted')\n",
    "    plt.gca().set(title=title, xlabel=xlabel, ylabel=ylabel)\n",
    "    plt.legend()\n",
    "    plt.show()\n",
    "\n",
    "dfp_plot(dfp['Date'], dfp['Actual'], dfp['Predicted'], title=\"Actual vs Predicted\", ylabel=\"Value\")"
   ]
  },
  {
   "cell_type": "code",
   "execution_count": 117,
   "metadata": {},
   "outputs": [
    {
     "data": {
      "image/png": "[encoded data removed]",
      "text/plain": [
       "<Figure size 1600x500 with 1 Axes>"
      ]
     },
     "metadata": {},
     "output_type": "display_data"
    }
   ],
   "source": [
    "# it's hard to see the difference between the actual and predicted values so trim the date to a smaller range\n",
    "dfp_trim = dfp[(dfp['Date'] > '2021-01-01') & (dfp['Date'] < '2022-01-01')]\n",
    "dfp_plot(dfp_trim['Date'], dfp_trim['Actual'], dfp_trim['Predicted'], title=\"Actual vs Predicted\", ylabel=\"Value\")"
   ]
  },
  {
   "cell_type": "markdown",
   "metadata": {},
   "source": [
    "## 5. Suggested improvements"
   ]
  },
  {
   "cell_type": "markdown",
   "metadata": {},
   "source": [
    "### Data Preprocessing\n",
    "\n",
    "Was the data preprocessed correctly? Imbalance of data scale can affect the model's performance. For example, if one feature is in the range of 0-1 and another feature is in the range of 1000-10000, the model might not perform well. You can use techniques like normalization or standardization to scale the data.\n",
    "\n",
    "The hackathon requires you to use the last 30 days of the data to predict the next day's closing price. How can you modify the code to use the last 30 days of the data to predict the next day's closing price?\n",
    "\n",
    "The hackathon also requires you to predict the stocks for S&P 500. How can you modify the code to predict the stocks for S&P 500?\n",
    "\n",
    "### Model Type\n",
    "\n",
    "Linear Regression is a simple model. You can try other models like LSTM, ARIMA, SVR, GBM, etc. to see if they perform better.\n",
    "What about ensemble methods like Random Forest, Gradient Boosting, etc.?\n",
    "\n",
    "It might be interesting to try different models and see which one performs better.\n",
    "\n",
    "### Model Hyperparameters\n",
    "\n",
    "You can search up what this means, but in simple terms, hyperparameters are the parameters that are set before the learning process begins.\n",
    "You can tune the hyperparameters of the model to see if the model performs better. For example, you can change the learning rate, the number of iterations, the regularization parameter, etc.\n",
    "\n",
    "## Feature Engineering\n",
    "\n",
    "You can create new features from the existing features to improve the model's performance. For example, you can create moving averages, exponential moving averages, etc.\n",
    "It might be helpful to do some research on the stock market and see what features are important in predicting the stock price."
   ]
  }
 ],
 "metadata": {
  "kernelspec": {
   "display_name": ".venv",
   "language": "python",
   "name": "python3"
  },
  "language_info": {
   "codemirror_mode": {
    "name": "ipython",
    "version": 3
   },
   "file_extension": ".py",
   "mimetype": "text/x-python",
   "name": "python",
   "nbconvert_exporter": "python",
   "pygments_lexer": "ipython3",
   "version": "3.12.0"
  }
 },
 "nbformat": 4,
 "nbformat_minor": 2
}
