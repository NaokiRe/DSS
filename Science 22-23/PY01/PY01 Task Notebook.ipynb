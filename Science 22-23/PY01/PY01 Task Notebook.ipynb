{
 "cells": [
  {
   "cell_type": "markdown",
   "id": "db20bd40",
   "metadata": {},
   "source": [
    "# Part 1\n",
    "### 1.1: Spot the error! \n",
    "\n",
    "I want to print the following:\n",
    "\n",
    "`Hello, world!`\n",
    "\n",
    "`Data Science Society is my favourite society`\n",
    "\n",
    "`This is the best introduction to Python ever!`\n",
    "\n",
    "but for some reason my code isn't working, can you help fix it?"
   ]
  },
  {
   "cell_type": "code",
   "execution_count": null,
   "id": "d64b2f23",
   "metadata": {},
   "outputs": [],
   "source": [
    "print(Hello, world!)"
   ]
  },
  {
   "cell_type": "code",
   "execution_count": null,
   "id": "d1156b94",
   "metadata": {},
   "outputs": [],
   "source": [
    "Print(\"Data Science Society is the best society ever\")"
   ]
  },
  {
   "cell_type": "code",
   "execution_count": null,
   "id": "a414b034",
   "metadata": {},
   "outputs": [],
   "source": [
    "print('Hello, world! This is the best introduction to Python ever!\")"
   ]
  },
  {
   "cell_type": "markdown",
   "id": "b6f6f7e4",
   "metadata": {},
   "source": [
    "### 1.2: Fill in the blanks to write your own message \n",
    "\n",
    "Replace the letters with your own message:"
   ]
  },
  {
   "cell_type": "code",
   "execution_count": null,
   "id": "a8140f85",
   "metadata": {},
   "outputs": [],
   "source": [
    "print(\"My name is X\")"
   ]
  },
  {
   "cell_type": "code",
   "execution_count": null,
   "id": "80510374",
   "metadata": {},
   "outputs": [],
   "source": [
    "print(\"I am in year Y\")"
   ]
  },
  {
   "cell_type": "code",
   "execution_count": null,
   "id": "d2604b94",
   "metadata": {},
   "outputs": [],
   "source": [
    "print(\"I am studying Z\")"
   ]
  },
  {
   "cell_type": "markdown",
   "id": "72a3a9cc",
   "metadata": {},
   "source": [
    "How about we set your name, year, and subject to be a variable, and print the variable with a string?\n",
    "\n",
    "Do this using commas, f-strings, and str.format. "
   ]
  },
  {
   "cell_type": "code",
   "execution_count": null,
   "id": "3ed2dfa5",
   "metadata": {},
   "outputs": [],
   "source": [
    "name = \"\"\n",
    "year = \"\"\n",
    "subject = \"\"\n",
    "\n",
    "print(\"My name is \", name)\n",
    "print(f\"I am in year {year}\")\n",
    "print(\"I am studying {}\".format(subject))"
   ]
  },
  {
   "cell_type": "markdown",
   "id": "29d9bc08",
   "metadata": {},
   "source": [
    "Now, make your own sentence and put two variables in it."
   ]
  },
  {
   "cell_type": "code",
   "execution_count": null,
   "id": "fc28d8a1",
   "metadata": {},
   "outputs": [],
   "source": [
    "###############################\n",
    "### Put your code below ↓↓↓ ###\n",
    "###############################\n"
   ]
  },
  {
   "cell_type": "markdown",
   "id": "cc054c5b",
   "metadata": {},
   "source": [
    "### 1.3: Arithmetic Operations\n",
    "\n",
    "I've lost my calculator but I want to know the answer to the following questions:\n",
    "\n",
    "$$1) \\, 3 \\times 4 = \\,? $$\n",
    "\n",
    "$$2) \\, 81741 \\times 984134 = \\,? $$\n",
    "\n",
    "$$ 3) \\, 24 \\div 6 = \\,? $$\n",
    "\n",
    "$$4) \\, 45784567 \\div 3= \\,?$$\n",
    "\n",
    "\n",
    "\n",
    "Can you solve these for me, and then print each result in a message like this:\n",
    "\n",
    "`\"3 times 4 is ?\"`\n",
    "\n",
    "`\"81741 times 984134 is ?\"`\n",
    "\n",
    "`\"24 divided by 6 is ?\"`\n",
    "\n",
    "and so on..."
   ]
  },
  {
   "cell_type": "code",
   "execution_count": null,
   "id": "880c414a",
   "metadata": {},
   "outputs": [],
   "source": [
    "###############################\n",
    "### Put your code below ↓↓↓ ###\n",
    "###############################\n"
   ]
  },
  {
   "cell_type": "markdown",
   "id": "ffe4773d",
   "metadata": {},
   "source": [
    "For some reason, I can't seem to get the right answer to this, can you help me figure out what's wrong?"
   ]
  },
  {
   "cell_type": "code",
   "execution_count": null,
   "id": "5cd98d9d",
   "metadata": {},
   "outputs": [],
   "source": [
    "print(\"12 squared is\", 12^2)"
   ]
  },
  {
   "cell_type": "markdown",
   "id": "9dce163b",
   "metadata": {},
   "source": [
    " ### 1.4 Writing and solving equations\n",
    " \n",
    " Write some code to implement the following equation:\n",
    " \n",
    " $$ f(x) = \\frac{1}{4}(3x^4 - 30x^2+3) $$\n",
    " \n",
    " Then use your code to calculate $f(2.5)$:"
   ]
  },
  {
   "cell_type": "code",
   "execution_count": null,
   "id": "e8d4dc6e",
   "metadata": {},
   "outputs": [],
   "source": [
    "###############################\n",
    "### Put your code below ↓↓↓ ###\n",
    "###############################\n"
   ]
  },
  {
   "cell_type": "markdown",
   "id": "3082ef80",
   "metadata": {},
   "source": [
    "### 1.4.2: Triangles \n",
    "\n",
    "I have a right-angled triangle with the smaller side lengths being 6cm and 8cm. Can you write some code to tell me the length of the hypotenuse?"
   ]
  },
  {
   "cell_type": "code",
   "execution_count": null,
   "id": "f26fa5a8",
   "metadata": {},
   "outputs": [],
   "source": [
    "###############################\n",
    "### Put your code below ↓↓↓ ###\n",
    "###############################\n"
   ]
  },
  {
   "cell_type": "markdown",
   "id": "1a3dc59d",
   "metadata": {},
   "source": [
    "### 1.4.3: Quadratic Equation solving\n",
    "\n",
    "As you may already know, a quadratic equation is an equation of the form\n",
    "\n",
    "$$ax^2 + bx + c = d$$\n",
    "\n",
    "such an equation can be solved using the quadratic formula\n",
    "\n",
    "$$ x =  \\frac{-b \\pm \\sqrt{b^2 - 4ac}}{2a} $$\n",
    "\n",
    "If we are given $a, b, c,$ and $d$, we can find the solution (if it exists) of the equation.\n",
    "\n",
    "Therefore, use your python skills to code the quadratic formula, and use it solve the following equations:\n",
    "\n",
    "1. $x^2 + 5x +6 = 0$\n",
    "2. $x^2 + 9x + 14 = 0$\n",
    "3. $x^2 + 5x +1 = 0$\n",
    "4. $x^2 +1 = 0$\n",
    "\n",
    "Then print these out in the following format:\n",
    "\n",
    "`1. x = ? and ?`\n",
    "\n",
    "`2. x = ? and ?`\n",
    "\n",
    "and so on...\n",
    "\n",
    "If there is only one solution or no solutions, then print an appropriate message\n",
    "\n",
    "\n",
    "\n",
    "\n",
    "<div class=\"alert alert-block alert-info\">\n",
    "<b>Tip:</b> You will need to import the math module to use square roots. Also, assigning the numerator and denominator of the formula as two different variables might help reduce clutter.\n",
    "</div>"
   ]
  },
  {
   "cell_type": "code",
   "execution_count": null,
   "id": "15a55a34",
   "metadata": {},
   "outputs": [],
   "source": [
    "###############################\n",
    "### Put your code below ↓↓↓ ###\n",
    "###############################\n",
    "\n"
   ]
  },
  {
   "cell_type": "markdown",
   "id": "01656058",
   "metadata": {},
   "source": [
    "### Part 1.5: If statements \n",
    "\n",
    "Help! My If Statement isn't working! Can you fix it?"
   ]
  },
  {
   "cell_type": "code",
   "execution_count": null,
   "id": "7b8042bc",
   "metadata": {},
   "outputs": [],
   "source": [
    "x = 10\n",
    "y = 10\n",
    "\n",
    "if x - y = 0:\n",
    "    print(\"x and y are equal\")\n",
    "else:\n",
    "    print(\"x and y aren't equal\")"
   ]
  },
  {
   "cell_type": "markdown",
   "id": "334a1353",
   "metadata": {},
   "source": [
    "### Part 1.5.2: More If statements!\n",
    "\n",
    "Use an If statement to check if $567 \\times 21$ is bigger than $10000$."
   ]
  },
  {
   "cell_type": "code",
   "execution_count": null,
   "id": "1c8c1aa1",
   "metadata": {},
   "outputs": [],
   "source": [
    "###############################\n",
    "### Put your code below ↓↓↓ ###\n",
    "###############################\n"
   ]
  },
  {
   "cell_type": "markdown",
   "id": "1ac57088",
   "metadata": {},
   "source": [
    "Make an if statement that uses the \"else\" part of the if statement."
   ]
  },
  {
   "cell_type": "code",
   "execution_count": null,
   "id": "cf3b722a",
   "metadata": {},
   "outputs": [],
   "source": [
    "if #Your condition here:\n",
    "    print(\"Sentence here\")\n",
    "else:\n",
    "    print(\"Another sentence here\")"
   ]
  },
  {
   "cell_type": "markdown",
   "id": "3d82f067",
   "metadata": {},
   "source": [
    "Change the variable \"yourname\" to your name, and then add an \"elif\" part to this if statement to make it make more sense."
   ]
  },
  {
   "cell_type": "code",
   "execution_count": null,
   "id": "68231ff7",
   "metadata": {},
   "outputs": [],
   "source": [
    "yourname = \"\"\n",
    "\n",
    "if yourname == \"John\":\n",
    "    print(\"Your name is John\")\n",
    "#Put your else if here!    \n",
    "    \n",
    "else:\n",
    "    print(\"Your name doesn't exist :(\")"
   ]
  },
  {
   "cell_type": "markdown",
   "id": "1c8386e6",
   "metadata": {},
   "source": [
    "### Part 1.6: Using a For Loop\n",
    "\n",
    "I want to use a For Loop to print each character of these strings / lists, but it's not working! Help me fix it\n",
    "\n"
   ]
  },
  {
   "cell_type": "code",
   "execution_count": null,
   "id": "dd1a3e04",
   "metadata": {},
   "outputs": [],
   "source": [
    "for i in \"bananas\"\n",
    "    print(i)"
   ]
  },
  {
   "cell_type": "code",
   "execution_count": null,
   "id": "a43168be",
   "metadata": {},
   "outputs": [],
   "source": [
    "for j in apples:\n",
    "    print(j)"
   ]
  },
  {
   "cell_type": "code",
   "execution_count": null,
   "id": "76a24074",
   "metadata": {},
   "outputs": [],
   "source": [
    "for x in \"kiwi\":\n",
    "    print(y)"
   ]
  },
  {
   "cell_type": "code",
   "execution_count": null,
   "id": "03e21433",
   "metadata": {},
   "outputs": [],
   "source": [
    "ages = [12,13,54,4,10,16,20]\n",
    "\n",
    "for z in ages:\n",
    "print(z)"
   ]
  },
  {
   "cell_type": "markdown",
   "id": "bb6672ae",
   "metadata": {},
   "source": [
    "### Part 1.7: Using an If Statement and a For Loop together:\n",
    "\n",
    "I want to loop through this array of numbers, and I want to print Good if the number is 1, and Bad if it is 0, can you help me do this?\n",
    "\n",
    "The expected output should be something like:\n",
    "\n",
    "`Good`\n",
    "\n",
    "`Bad`\n",
    "\n",
    "`Bad`\n",
    "\n",
    "and so on"
   ]
  },
  {
   "cell_type": "code",
   "execution_count": null,
   "id": "53fc858c",
   "metadata": {},
   "outputs": [],
   "source": [
    "numbers = [0,1,1,0,1,0,0,0,1,1,0]"
   ]
  },
  {
   "cell_type": "markdown",
   "id": "ccc33c38",
   "metadata": {},
   "source": [
    "# Part 2: Extra hard problems if you're finished!\n",
    "\n",
    "You may have blazed through all the other questions already, so here are some extras to keep you busy! These are pretty difficult for a beginner so it's okay to ask us or look up your problems online.\n",
    "\n",
    "1. I want write a program to get the individual digits of a number and put it into a list:\n",
    "\n",
    "For example I want to turn `1234` into `[1,2,3,4]`\n",
    "\n",
    "Try doing this for the following numbers:\n",
    "\n",
    "428934\n",
    "\n",
    "23094982\n",
    "\n",
    "314159265358\n",
    "\n",
    "<div class=\"alert alert-block alert-info\">\n",
    "    <b>Tip:</b> It might be useful to use strings instead of integers!\n",
    "</div>\n",
    "\n",
    "2. Write a program that prints all the even numbers between 1 and 100\n",
    "\n",
    "\n",
    "3. Write a program that prints all numbers from 1 to 100, but if it's divisible by 3 and 5 write \"FizzBuzz\", if divisible by 3 write \"Fizz\", and if it's divisible by 5 write \"Buzz\"\n",
    "\n",
    "\n",
    "4. Write the first 100 Fibonacci Numbers!"
   ]
  },
  {
   "cell_type": "code",
   "execution_count": 15,
   "id": "b8da98e9",
   "metadata": {},
   "outputs": [],
   "source": [
    "#############\n",
    "# Question 1#\n",
    "#############"
   ]
  },
  {
   "cell_type": "code",
   "execution_count": 19,
   "id": "2ca0af4e",
   "metadata": {},
   "outputs": [],
   "source": [
    "#############\n",
    "# Question 2#\n",
    "#############"
   ]
  },
  {
   "cell_type": "code",
   "execution_count": null,
   "id": "e97c92e7",
   "metadata": {},
   "outputs": [],
   "source": [
    "#############\n",
    "# Question 3#\n",
    "#############"
   ]
  },
  {
   "cell_type": "code",
   "execution_count": null,
   "id": "37d67513",
   "metadata": {},
   "outputs": [],
   "source": [
    "#############\n",
    "# Question 4#\n",
    "#############"
   ]
  }
 ],
 "metadata": {
  "kernelspec": {
   "display_name": "Python 3 (ipykernel)",
   "language": "python",
   "name": "python3"
  },
  "language_info": {
   "codemirror_mode": {
    "name": "ipython",
    "version": 3
   },
   "file_extension": ".py",
   "mimetype": "text/x-python",
   "name": "python",
   "nbconvert_exporter": "python",
   "pygments_lexer": "ipython3",
   "version": "3.9.12"
  }
 },
 "nbformat": 4,
 "nbformat_minor": 5
}
