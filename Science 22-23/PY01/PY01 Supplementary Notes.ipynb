{
 "cells": [
  {
   "cell_type": "markdown",
   "id": "cfa73f80",
   "metadata": {},
   "source": [
    "# Introduction to Python!!\n",
    "<div class=\"alert alert-block alert-info\">\n",
    "<b>Note:</b> Markdown boxes are very useful, since they let us write formatted text into our notebook. We can even write maths equations using LaTeX:\n",
    "</div>\n",
    "\n",
    "\n",
    "$$ \\int_0^\\pi sin(x) = 2 $$\n",
    "\n",
    " ## Let's use our first function, print():\n",
    "\n",
    "* The `print()` function will output whatever is inside the brackets. If it's in quotation marks it will explicitly print the text.\n",
    "\n",
    "* Putting comments using hashtags in front of code lets us ignore whatever is after the hash symbol.\n"
   ]
  },
  {
   "cell_type": "code",
   "execution_count": null,
   "id": "00b882d8",
   "metadata": {
    "scrolled": true
   },
   "outputs": [],
   "source": [
    "#print(\"Hello, world!\")\n",
    "#print('Hello, world!')"
   ]
  },
  {
   "cell_type": "markdown",
   "id": "6a1b2662",
   "metadata": {},
   "source": [
    "* We can use either of the two types of quotation mark\n",
    "* But without quotation marks our code won't work:"
   ]
  },
  {
   "cell_type": "code",
   "execution_count": null,
   "id": "3cd66bd1",
   "metadata": {
    "scrolled": true
   },
   "outputs": [],
   "source": [
    "print(Hello, world!)"
   ]
  },
  {
   "cell_type": "markdown",
   "id": "7537f140",
   "metadata": {},
   "source": [
    "\n",
    "\n",
    "\n",
    "\n",
    "* Python is also case sensitive, PRINT ≠ print"
   ]
  },
  {
   "cell_type": "code",
   "execution_count": null,
   "id": "defc8ae6",
   "metadata": {
    "scrolled": true
   },
   "outputs": [],
   "source": [
    "PRINT(\"Hello, world!\")"
   ]
  },
  {
   "cell_type": "markdown",
   "id": "5d41cde0",
   "metadata": {},
   "source": [
    "## Assigning Variables:"
   ]
  },
  {
   "cell_type": "markdown",
   "id": "ea8fd782",
   "metadata": {},
   "source": [
    "* We can assign a variable called 'hello' that is equal to our string, and print that instead:"
   ]
  },
  {
   "cell_type": "code",
   "execution_count": null,
   "id": "4fd9787f",
   "metadata": {
    "scrolled": true
   },
   "outputs": [],
   "source": [
    "hello = \"Hello, world!\"\n",
    "print(hello)"
   ]
  },
  {
   "cell_type": "markdown",
   "id": "1e8bffce",
   "metadata": {},
   "source": [
    "## Basic Data types:"
   ]
  },
  {
   "cell_type": "code",
   "execution_count": null,
   "id": "6d04be32",
   "metadata": {
    "scrolled": true
   },
   "outputs": [],
   "source": [
    "type(\"Hello, world!\")"
   ]
  },
  {
   "cell_type": "code",
   "execution_count": null,
   "id": "1f0081ab",
   "metadata": {
    "scrolled": true
   },
   "outputs": [],
   "source": [
    "type(2)"
   ]
  },
  {
   "cell_type": "code",
   "execution_count": null,
   "id": "151b41d7",
   "metadata": {
    "scrolled": true
   },
   "outputs": [],
   "source": [
    "type(2.0)"
   ]
  },
  {
   "cell_type": "code",
   "execution_count": null,
   "id": "a4f4a061",
   "metadata": {
    "scrolled": true
   },
   "outputs": [],
   "source": [
    "type(True)"
   ]
  },
  {
   "cell_type": "markdown",
   "id": "79f7db42",
   "metadata": {},
   "source": [
    "<div class=\"alert alert-block alert-success\">\n",
    "<b>Extra:</b> There are many other types too, but for now this is all we need.\n",
    "</div>\n"
   ]
  },
  {
   "cell_type": "markdown",
   "id": "becac7d3",
   "metadata": {},
   "source": [
    "## Using Arithmetic Operators on strings, floats, and integers:"
   ]
  },
  {
   "cell_type": "code",
   "execution_count": null,
   "id": "f0920fa3",
   "metadata": {
    "scrolled": true
   },
   "outputs": [],
   "source": [
    "1 + 2"
   ]
  },
  {
   "cell_type": "code",
   "execution_count": null,
   "id": "456de67a",
   "metadata": {
    "scrolled": true
   },
   "outputs": [],
   "source": [
    "3 - 2"
   ]
  },
  {
   "cell_type": "code",
   "execution_count": null,
   "id": "358208d8",
   "metadata": {
    "scrolled": true
   },
   "outputs": [],
   "source": [
    "6 * 6 "
   ]
  },
  {
   "cell_type": "code",
   "execution_count": null,
   "id": "1bb8e95d",
   "metadata": {
    "scrolled": true
   },
   "outputs": [],
   "source": [
    "10 ^ 2"
   ]
  },
  {
   "cell_type": "markdown",
   "id": "d9634636",
   "metadata": {},
   "source": [
    "* The ^ symbol in python refers to a bitwise logic operation (specifically XOR), it's not for indices.\n",
    "\n",
    "<div class=\"alert alert-block alert-danger\">\n",
    "<b>Warning:</b> Don't make this mistake, or you'll really confuse yourself!\n",
    "</div>\n"
   ]
  },
  {
   "cell_type": "code",
   "execution_count": null,
   "id": "8a23e19e",
   "metadata": {
    "scrolled": true
   },
   "outputs": [],
   "source": [
    "10 ** 2"
   ]
  },
  {
   "cell_type": "code",
   "execution_count": null,
   "id": "b234919a",
   "metadata": {
    "scrolled": true
   },
   "outputs": [],
   "source": [
    "10 / 3"
   ]
  },
  {
   "cell_type": "markdown",
   "id": "40cf3a4c",
   "metadata": {},
   "source": [
    "* But doesn't $10 ÷ 3 = 3.33...$? Computers can only store numbers up to a certain precision, and so the last digits may be false\n",
    "\n",
    "* Floor divison can be done using `//` "
   ]
  },
  {
   "cell_type": "code",
   "execution_count": null,
   "id": "4e4f82ea",
   "metadata": {
    "scrolled": true
   },
   "outputs": [],
   "source": [
    "5 // 2"
   ]
  },
  {
   "cell_type": "code",
   "execution_count": null,
   "id": "5244d776",
   "metadata": {
    "scrolled": true
   },
   "outputs": [],
   "source": [
    "10.2 // 2"
   ]
  },
  {
   "cell_type": "markdown",
   "id": "89369b92",
   "metadata": {},
   "source": [
    "* Adding strings does something else, known as _concatenation_:"
   ]
  },
  {
   "cell_type": "code",
   "execution_count": null,
   "id": "cab2b121",
   "metadata": {
    "scrolled": true
   },
   "outputs": [],
   "source": [
    "\"2\" + \"3\""
   ]
  },
  {
   "cell_type": "code",
   "execution_count": null,
   "id": "ec1c01c6",
   "metadata": {
    "scrolled": true
   },
   "outputs": [],
   "source": [
    "\"Hello\" + \", world!\""
   ]
  },
  {
   "cell_type": "markdown",
   "id": "74ad4290",
   "metadata": {},
   "source": [
    "You can't square, multiply, or divide strings:"
   ]
  },
  {
   "cell_type": "code",
   "execution_count": null,
   "id": "039e0711",
   "metadata": {
    "scrolled": true
   },
   "outputs": [],
   "source": [
    "\"hello\"**2\n",
    "\"hello\" * 2\n",
    "\"hello\" / 2"
   ]
  },
  {
   "cell_type": "markdown",
   "id": "bba02e15",
   "metadata": {},
   "source": [
    "We can't square root numbers without importing math:"
   ]
  },
  {
   "cell_type": "code",
   "execution_count": null,
   "id": "3a3a1341",
   "metadata": {
    "scrolled": true
   },
   "outputs": [],
   "source": [
    "sqrt(2)"
   ]
  },
  {
   "cell_type": "code",
   "execution_count": null,
   "id": "97a7366a",
   "metadata": {
    "scrolled": true
   },
   "outputs": [],
   "source": [
    "import math \n",
    "math.sqrt(2)"
   ]
  },
  {
   "cell_type": "markdown",
   "id": "991ef1a2",
   "metadata": {},
   "source": [
    "# We can assign variables and write equations using them. Say we wanted to do \n",
    "\n",
    "$$ a^2 + b^2 = c^2$$\n",
    "\n",
    "for $a = 3, b = 4$, we can just do:"
   ]
  },
  {
   "cell_type": "code",
   "execution_count": null,
   "id": "4dc8262a",
   "metadata": {},
   "outputs": [],
   "source": [
    "a = 3\n",
    "b = 4\n",
    "c = math.sqrt(a**2 + b**2)\n",
    "\n",
    "print(c)"
   ]
  },
  {
   "cell_type": "markdown",
   "id": "4a542f69",
   "metadata": {},
   "source": [
    "## Different ways of printing variables and strings together:"
   ]
  },
  {
   "cell_type": "code",
   "execution_count": null,
   "id": "3a54d6dd",
   "metadata": {
    "scrolled": true
   },
   "outputs": [],
   "source": [
    "root = np.sqrt(2)\n",
    "\n",
    "print(f\"The square root of 2 is {root}\")"
   ]
  },
  {
   "cell_type": "code",
   "execution_count": null,
   "id": "c98c68af",
   "metadata": {
    "scrolled": true
   },
   "outputs": [],
   "source": [
    "print(\"The square root of 2 is\", root)"
   ]
  },
  {
   "cell_type": "code",
   "execution_count": null,
   "id": "eade53ec",
   "metadata": {
    "scrolled": true
   },
   "outputs": [],
   "source": [
    "print(\"The square root of 2 is {}\".format(root))"
   ]
  },
  {
   "cell_type": "code",
   "execution_count": null,
   "id": "ec3ec175",
   "metadata": {
    "scrolled": true
   },
   "outputs": [],
   "source": [
    "print(f\"The square root of 2 is {np.sqrt(2)}\")"
   ]
  },
  {
   "cell_type": "markdown",
   "id": "66a488e0",
   "metadata": {},
   "source": [
    "## Comparison Operators and using them in If Statements:"
   ]
  },
  {
   "cell_type": "code",
   "execution_count": null,
   "id": "7711490c",
   "metadata": {
    "scrolled": true
   },
   "outputs": [],
   "source": [
    "x = 1\n",
    "y = 2"
   ]
  },
  {
   "cell_type": "code",
   "execution_count": null,
   "id": "abc0b881",
   "metadata": {
    "scrolled": true
   },
   "outputs": [],
   "source": [
    "y >= 0"
   ]
  },
  {
   "cell_type": "code",
   "execution_count": null,
   "id": "78f57353",
   "metadata": {
    "scrolled": true
   },
   "outputs": [],
   "source": [
    "x == 100"
   ]
  },
  {
   "cell_type": "markdown",
   "id": "93587f3c",
   "metadata": {},
   "source": [
    "* Notice the double equals sign, a single equals sign is a variable assignment"
   ]
  },
  {
   "cell_type": "code",
   "execution_count": null,
   "id": "67114e39",
   "metadata": {
    "scrolled": true
   },
   "outputs": [],
   "source": [
    "x + y == 3"
   ]
  },
  {
   "cell_type": "code",
   "execution_count": null,
   "id": "6751c7dd",
   "metadata": {
    "scrolled": true
   },
   "outputs": [],
   "source": [
    "x + y != 3"
   ]
  },
  {
   "cell_type": "code",
   "execution_count": null,
   "id": "e60b83f2",
   "metadata": {
    "scrolled": true
   },
   "outputs": [],
   "source": [
    "if x == 0:\n",
    "    print(\"x is 0\")\n",
    "else:\n",
    "    print(\"x isn't 0\")\n",
    "    \n",
    "# Notice the colon after the condition, it's important!"
   ]
  },
  {
   "cell_type": "code",
   "execution_count": null,
   "id": "f3b53e97",
   "metadata": {
    "scrolled": true
   },
   "outputs": [],
   "source": [
    "if x = 0:\n",
    "    print(\"x is 0\")\n",
    "else:\n",
    "    print(\"x isn't 0\")\n",
    "\n",
    "# This won't work, we need a double equals sign"
   ]
  },
  {
   "cell_type": "code",
   "execution_count": null,
   "id": "5983fd0f",
   "metadata": {
    "scrolled": true
   },
   "outputs": [],
   "source": [
    "if x > 0:\n",
    "    print(\"x is positive.\")\n",
    "elif x < 0:\n",
    "    print(\"x is negative.\")\n",
    "else:\n",
    "    print(\"x is zero\")"
   ]
  },
  {
   "cell_type": "code",
   "execution_count": null,
   "id": "f5dd8764",
   "metadata": {
    "scrolled": true
   },
   "outputs": [],
   "source": [
    "if x > 0:\n",
    "print(\"x is positive.\")\n",
    "elif x < 0:\n",
    "print(\"x is negative.\")\n",
    "else:\n",
    "print(\"x is zero\")\n",
    "\n",
    "# Indentation is wrong!"
   ]
  },
  {
   "cell_type": "markdown",
   "id": "2df91c15",
   "metadata": {},
   "source": [
    "\n",
    "<div class=\"alert alert-block alert-danger\">\n",
    "<b>Warning:</b> Python is also indentation sensitive, so be careful once again!\n",
    "</div>"
   ]
  },
  {
   "cell_type": "markdown",
   "id": "257d1b9c",
   "metadata": {},
   "source": [
    "## Lists:"
   ]
  },
  {
   "cell_type": "code",
   "execution_count": null,
   "id": "b3b91e28",
   "metadata": {
    "scrolled": true
   },
   "outputs": [],
   "source": [
    "my_list = ['a','b','c','d','e']"
   ]
  },
  {
   "cell_type": "markdown",
   "id": "005471ca",
   "metadata": {},
   "source": [
    "Lists are indexed starting from 0, and each part of the list can be called using its index"
   ]
  },
  {
   "cell_type": "code",
   "execution_count": null,
   "id": "ea4b23df",
   "metadata": {
    "scrolled": true
   },
   "outputs": [],
   "source": [
    "my_list[0]"
   ]
  },
  {
   "cell_type": "markdown",
   "id": "fc62f098",
   "metadata": {},
   "source": [
    "We can slice lists using colons:"
   ]
  },
  {
   "cell_type": "code",
   "execution_count": null,
   "id": "8a1ac562",
   "metadata": {
    "scrolled": true
   },
   "outputs": [],
   "source": [
    "my_list[1:]"
   ]
  },
  {
   "cell_type": "code",
   "execution_count": null,
   "id": "a83b2796",
   "metadata": {
    "scrolled": true
   },
   "outputs": [],
   "source": [
    "my_list[:3] # Doesn't include index 3 "
   ]
  },
  {
   "cell_type": "code",
   "execution_count": null,
   "id": "dac563b3",
   "metadata": {
    "scrolled": true
   },
   "outputs": [],
   "source": [
    "my_list[2:4] # Doesn't include index 4"
   ]
  },
  {
   "cell_type": "code",
   "execution_count": null,
   "id": "5f89ab74",
   "metadata": {
    "scrolled": true
   },
   "outputs": [],
   "source": [
    "my_list[::-1]"
   ]
  },
  {
   "cell_type": "code",
   "execution_count": null,
   "id": "8379ccd7",
   "metadata": {},
   "outputs": [],
   "source": [
    "my_list[::2]"
   ]
  },
  {
   "cell_type": "markdown",
   "id": "541f052f",
   "metadata": {},
   "source": [
    "## For and While Loops:"
   ]
  },
  {
   "cell_type": "markdown",
   "id": "d84b9853",
   "metadata": {},
   "source": [
    "For loops are used to iterate a command a number of times, or for every element in a string or list:"
   ]
  },
  {
   "cell_type": "code",
   "execution_count": null,
   "id": "517d5e63",
   "metadata": {
    "scrolled": true
   },
   "outputs": [],
   "source": [
    "for i in my_list:\n",
    "    print(i)"
   ]
  },
  {
   "cell_type": "code",
   "execution_count": null,
   "id": "d2d21f3c",
   "metadata": {
    "scrolled": true
   },
   "outputs": [],
   "source": [
    "my_string = \"banana\"\n",
    "for x in my_string:\n",
    "    print(x)"
   ]
  },
  {
   "cell_type": "code",
   "execution_count": null,
   "id": "8860a8ca",
   "metadata": {
    "scrolled": true
   },
   "outputs": [],
   "source": [
    "for a in range(0,3):\n",
    "    print(\"Hi\")"
   ]
  },
  {
   "cell_type": "markdown",
   "id": "d97a206a",
   "metadata": {},
   "source": [
    "While loops are a bit like If statements. So long as a condition is met, it will keep doing what you tell it to do. Once that condition is broken it will stop.\n",
    "\n",
    "This while loop will print a number, and then keep adding 1 to it until it's equal to 10"
   ]
  },
  {
   "cell_type": "code",
   "execution_count": null,
   "id": "89d3405f",
   "metadata": {
    "scrolled": true
   },
   "outputs": [],
   "source": [
    "i = 1\n",
    "while i < 10:\n",
    "    print(i)\n",
    "    i += 1"
   ]
  },
  {
   "cell_type": "code",
   "execution_count": null,
   "id": "c66ce319",
   "metadata": {
    "scrolled": false
   },
   "outputs": [],
   "source": [
    "# This is an infinite loop, so I dont advise you run this for too long\n",
    "\n",
    "while 1 + 1 == 2:\n",
    "    print(\"AAA\")"
   ]
  }
 ],
 "metadata": {
  "kernelspec": {
   "display_name": "Python 3 (ipykernel)",
   "language": "python",
   "name": "python3"
  },
  "language_info": {
   "codemirror_mode": {
    "name": "ipython",
    "version": 3
   },
   "file_extension": ".py",
   "mimetype": "text/x-python",
   "name": "python",
   "nbconvert_exporter": "python",
   "pygments_lexer": "ipython3",
   "version": "3.9.12"
  }
 },
 "nbformat": 4,
 "nbformat_minor": 5
}
