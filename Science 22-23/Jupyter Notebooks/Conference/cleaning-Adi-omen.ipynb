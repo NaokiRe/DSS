{
 "cells": [
  {
   "cell_type": "markdown",
   "metadata": {},
   "source": [
    "We will use this dataset for this task:\n",
    "https://www.kaggle.com/datasets/atulanandjha/temperature-readings-iot-devices"
   ]
  },
  {
   "cell_type": "code",
   "execution_count": 1,
   "metadata": {},
   "outputs": [],
   "source": [
    "import os\n",
    "os.system('cmd /c \"pip install -q numpy pandas matplotlib\"') # On the assumption that Pip is used\n",
    "\n",
    "import pandas as pd\n",
    "import numpy as np\n",
    "import matplotlib.pyplot as plt"
   ]
  },
  {
   "cell_type": "markdown",
   "metadata": {},
   "source": [
    "We first import the dataset into a dataframe with Pandas and let's have a look at the first rows"
   ]
  },
  {
   "cell_type": "code",
   "execution_count": 2,
   "metadata": {},
   "outputs": [
    {
     "name": "stdout",
     "output_type": "stream",
     "text": [
      "                                        id  room_id/id        noted_date  temp out/in\n",
      "0      __export__.temp_log_196134_bd201015  Room Admin  08-12-2018 09:30    29     In\n",
      "1      __export__.temp_log_196131_7bca51bc  Room Admin  08-12-2018 09:30    29     In\n",
      "2      __export__.temp_log_196127_522915e3  Room Admin  08-12-2018 09:29    41    Out\n",
      "3      __export__.temp_log_196128_be0919cf  Room Admin  08-12-2018 09:29    41    Out\n",
      "4      __export__.temp_log_196126_d30b72fb  Room Admin  08-12-2018 09:29    31     In\n",
      "...                                    ...         ...               ...   ...    ...\n",
      "97601   __export__.temp_log_91076_7fbd08ca  Room Admin  28-07-2018 07:07    31     In\n",
      "97602  __export__.temp_log_147733_62c03f31  Room Admin  28-07-2018 07:07    31     In\n",
      "97603  __export__.temp_log_100386_84093a68  Room Admin  28-07-2018 07:06    31     In\n",
      "97604  __export__.temp_log_123297_4d8e690b  Room Admin  28-07-2018 07:06    31     In\n",
      "97605  __export__.temp_log_133741_32958703  Room Admin  28-07-2018 07:06    31     In\n",
      "\n",
      "[97606 rows x 5 columns]\n"
     ]
    }
   ],
   "source": [
    "df = pd.read_csv('IOT-temp.csv', na_filter=False)\n",
    "with pd.option_context('expand_frame_repr', False):\n",
    "    print (df)"
   ]
  },
  {
   "cell_type": "markdown",
   "metadata": {},
   "source": [
    "So we can see a lot of problems with each column:\n",
    "\n",
    "- id: Probably useless for any data analytics task\n",
    "- room_id/id: Looks like this column only has the value 'Room Admin' - needs further verification\n",
    "- noted_date: Now we want to change noted_date to a number as a date cannot be fed into a model\n",
    "- temp: We probably want a decimal number for temperature, but this is an integer\n",
    "- out/in: By the looks of the data it seems like there are more 'in' than 'out', have to validate!\n",
    "\n",
    "Let's try to remove these problems now, starting with removing `id` first!"
   ]
  },
  {
   "cell_type": "code",
   "execution_count": 3,
   "metadata": {},
   "outputs": [
    {
     "name": "stdout",
     "output_type": "stream",
     "text": [
      "       room_id/id        noted_date  temp out/in\n",
      "0      Room Admin  08-12-2018 09:30    29     In\n",
      "1      Room Admin  08-12-2018 09:30    29     In\n",
      "2      Room Admin  08-12-2018 09:29    41    Out\n",
      "3      Room Admin  08-12-2018 09:29    41    Out\n",
      "4      Room Admin  08-12-2018 09:29    31     In\n",
      "...           ...               ...   ...    ...\n",
      "97601  Room Admin  28-07-2018 07:07    31     In\n",
      "97602  Room Admin  28-07-2018 07:07    31     In\n",
      "97603  Room Admin  28-07-2018 07:06    31     In\n",
      "97604  Room Admin  28-07-2018 07:06    31     In\n",
      "97605  Room Admin  28-07-2018 07:06    31     In\n",
      "\n",
      "[97606 rows x 4 columns]\n"
     ]
    }
   ],
   "source": [
    "df = df.drop(['id'], axis=1) # Removes the ID Column\n",
    "print (df)"
   ]
  },
  {
   "cell_type": "markdown",
   "metadata": {},
   "source": [
    "Now let's see if our hypothesis on room_id/id is correct"
   ]
  },
  {
   "cell_type": "code",
   "execution_count": 4,
   "metadata": {},
   "outputs": [
    {
     "name": "stdout",
     "output_type": "stream",
     "text": [
      "{'Room Admin'}\n"
     ]
    }
   ],
   "source": [
    "room_id = set(df['room_id/id'])\n",
    "print (room_id)"
   ]
  },
  {
   "cell_type": "markdown",
   "metadata": {},
   "source": [
    "As we can see the column `room_id/id` only has one element, so we can remove that column as it is not useful"
   ]
  },
  {
   "cell_type": "code",
   "execution_count": 5,
   "metadata": {},
   "outputs": [
    {
     "name": "stdout",
     "output_type": "stream",
     "text": [
      "             noted_date  temp out/in\n",
      "0      08-12-2018 09:30    29     In\n",
      "1      08-12-2018 09:30    29     In\n",
      "2      08-12-2018 09:29    41    Out\n",
      "3      08-12-2018 09:29    41    Out\n",
      "4      08-12-2018 09:29    31     In\n",
      "...                 ...   ...    ...\n",
      "97601  28-07-2018 07:07    31     In\n",
      "97602  28-07-2018 07:07    31     In\n",
      "97603  28-07-2018 07:06    31     In\n",
      "97604  28-07-2018 07:06    31     In\n",
      "97605  28-07-2018 07:06    31     In\n",
      "\n",
      "[97606 rows x 3 columns]\n"
     ]
    }
   ],
   "source": [
    "df = df.drop(['room_id/id'], axis=1)\n",
    "print (df)"
   ]
  },
  {
   "cell_type": "markdown",
   "metadata": {},
   "source": [
    "We can see that some 'noted_date' are repeated even with the same 'out/in' column value.  We need to merge the duplicated data as well as changing the datatype of values, i.e. noted_date from dates to numbers, and temperature to a decimal number"
   ]
  },
  {
   "cell_type": "code",
   "execution_count": 6,
   "metadata": {},
   "outputs": [
    {
     "name": "stdout",
     "output_type": "stream",
     "text": [
      "                noted_date  temp out/in\n",
      "0      1544261400000000000  29.0     In\n",
      "1      1544261340000000000  41.0    Out\n",
      "2      1544261340000000000  31.0     In\n",
      "3      1544261280000000000  29.0     In\n",
      "4      1544261160000000000  29.0     In\n",
      "...                    ...   ...    ...\n",
      "38706  1532761620000000000  32.0    Out\n",
      "38707  1532761620000000000  31.0     In\n",
      "38708  1532761620000000000  32.0    Out\n",
      "38709  1532761620000000000  31.0     In\n",
      "38710  1532761560000000000  31.0     In\n",
      "\n",
      "[38711 rows x 3 columns]\n"
     ]
    }
   ],
   "source": [
    "df_list = np.append(df.values, np.ones((df.values.shape[0], 1)), axis=1)\n",
    "dup_removed = [df_list[0].tolist()]\n",
    "for i in range(1, df_list.shape[0]):\n",
    "    if dup_removed[-1][0] == df_list[i][0] and dup_removed[-1][2] == df_list[i][2]:\n",
    "        dup_removed[-1][1] += df_list[i][1]\n",
    "        dup_removed[-1][3] += 1\n",
    "    else:\n",
    "        dup_removed.append(df_list[i].tolist())\n",
    "dup_removed = np.array([[i[0], i[1]/i[3], i[2]] for i in dup_removed])\n",
    "df = pd.DataFrame(dup_removed, columns=list(df))\n",
    "\n",
    "df['noted_date'] = pd.to_numeric(pd.to_datetime(df['noted_date'], format='%d-%m-%Y %H:%M'))\n",
    "df['temp'] = pd.to_numeric(df['temp'])\n",
    "print (df)"
   ]
  },
  {
   "cell_type": "markdown",
   "metadata": {},
   "source": [
    "Now we should rescale `noted_date` to values from 0 to 1, or in general scale it down."
   ]
  },
  {
   "cell_type": "code",
   "execution_count": 7,
   "metadata": {},
   "outputs": [
    {
     "name": "stdout",
     "output_type": "stream",
     "text": [
      "       noted_date  temp out/in\n",
      "0        1.000000  29.0     In\n",
      "1        0.999995  41.0    Out\n",
      "2        0.999995  31.0     In\n",
      "3        0.999990  29.0     In\n",
      "4        0.999979  29.0     In\n",
      "...           ...   ...    ...\n",
      "38706    0.000005  32.0    Out\n",
      "38707    0.000005  31.0     In\n",
      "38708    0.000005  32.0    Out\n",
      "38709    0.000005  31.0     In\n",
      "38710    0.000000  31.0     In\n",
      "\n",
      "[38711 rows x 3 columns]\n"
     ]
    }
   ],
   "source": [
    "df['noted_date'] = (df['noted_date'] - min(df['noted_date'])) / (max(df['noted_date']) - min(df['noted_date']))\n",
    "print (df)"
   ]
  },
  {
   "cell_type": "markdown",
   "metadata": {},
   "source": [
    "We can investigate the frequency of in and out in the column 'out/in' after shrinking the dataframe."
   ]
  },
  {
   "cell_type": "code",
   "execution_count": 8,
   "metadata": {},
   "outputs": [
    {
     "name": "stdout",
     "output_type": "stream",
     "text": [
      "Counter({'Out': 26484, 'In': 12227})\n"
     ]
    }
   ],
   "source": [
    "from collections import Counter\n",
    "print (Counter(df['out/in']))"
   ]
  },
  {
   "cell_type": "markdown",
   "metadata": {},
   "source": [
    "We can now see the distribution of 'temp' and 'noted_date'"
   ]
  },
  {
   "cell_type": "code",
   "execution_count": 9,
   "metadata": {},
   "outputs": [
    {
     "data": {
      "text/plain": [
       "<matplotlib.collections.PathCollection at 0x2734b329d90>"
      ]
     },
     "execution_count": 9,
     "metadata": {},
     "output_type": "execute_result"
    },
    {
     "data": {
      "image/png": "[encoded data removed]",
      "text/plain": [
       "<Figure size 432x288 with 1 Axes>"
      ]
     },
     "metadata": {
      "needs_background": "light"
     },
     "output_type": "display_data"
    }
   ],
   "source": [
    "plt.scatter(df['noted_date'], df['temp'])"
   ]
  }
 ],
 "metadata": {
  "kernelspec": {
   "display_name": "Python 3.9.13 64-bit",
   "language": "python",
   "name": "python3"
  },
  "language_info": {
   "codemirror_mode": {
    "name": "ipython",
    "version": 3
   },
   "file_extension": ".py",
   "mimetype": "text/x-python",
   "name": "python",
   "nbconvert_exporter": "python",
   "pygments_lexer": "ipython3",
   "version": "3.9.13"
  },
  "orig_nbformat": 4,
  "vscode": {
   "interpreter": {
    "hash": "11938c6bc6919ae2720b4d5011047913343b08a43b18698fd82dedb0d4417594"
   }
  }
 },
 "nbformat": 4,
 "nbformat_minor": 2
}
