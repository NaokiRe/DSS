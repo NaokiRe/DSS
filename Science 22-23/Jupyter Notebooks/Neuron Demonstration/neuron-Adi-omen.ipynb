{
 "cells": [
  {
   "cell_type": "code",
   "execution_count": 1,
   "metadata": {},
   "outputs": [
    {
     "name": "stderr",
     "output_type": "stream",
     "text": [
      "100%|██████████| 10/10 [00:01<00:00,  5.31it/s]\n"
     ]
    },
    {
     "data": {
      "text/plain": [
       "<Figure size 432x288 with 0 Axes>"
      ]
     },
     "metadata": {},
     "output_type": "display_data"
    }
   ],
   "source": [
    "import torch, numpy as np, matplotlib.pyplot as plt\n",
    "from torch import nn, from_numpy\n",
    "from sklearn.preprocessing import MinMaxScaler\n",
    "from tqdm import tqdm\n",
    "\n",
    "class FeedforwardNN(nn.Module):\n",
    "    def __init__(self):\n",
    "        super(FeedforwardNN, self).__init__()\n",
    "        self.nn = nn.Sequential(nn.Linear(1, 1))\n",
    "    def forward(self, x):\n",
    "        return self.nn(x)\n",
    "    \n",
    "def train(x, y, epoch=5, scaler=None):\n",
    "    x, y = x.cuda().float(), y.cuda().float()\n",
    "    model = FeedforwardNN().cuda()\n",
    "    criterion = nn.MSELoss()\n",
    "    optim = torch.optim.SGD(model.parameters(), lr=0.1, momentum=0.01)\n",
    "    x_scaler, y_scaler = scaler\n",
    "    for epoch in tqdm(range(epoch)):\n",
    "        output = model(x)\n",
    "        loss = criterion(output, y)\n",
    "        optim.zero_grad()\n",
    "        loss.backward()\n",
    "        optim.step()\n",
    "\n",
    "        ys = y_scaler.inverse_transform(model(from_numpy(np.linspace(0, 1, 100).reshape(-1, 1)).cuda().float()).cpu().detach().numpy())\n",
    "        plt.plot(x_scaler.inverse_transform(np.linspace(0, 1, 100).reshape(-1, 1)), ys)\n",
    "        plt.scatter(x_scaler.inverse_transform(x.cpu().detach().float()), y_scaler.inverse_transform(y.cpu().detach().float()))\n",
    "        plt.title(loss.cpu().detach().numpy())\n",
    "        plt.savefig('epoch'+str(epoch)+'.jpg')\n",
    "        plt.clf()\n",
    "\n",
    "    return model\n",
    "\n",
    "x_scaler, y_scaler = MinMaxScaler(), MinMaxScaler()\n",
    "height, weight = [163.3, 178, 172.5, 174.2, 170.7, 173.1, 177.6, 175, 173.3, 162.7], [46.64, 59.68, 54.11, 56.4, 49.44, 61.93, 63.67, 62.48, 59.64, 48.39]\n",
    "x = from_numpy(x_scaler.fit_transform(np.array(height).reshape(-1, 1)))\n",
    "y = from_numpy(y_scaler.fit_transform(np.array(weight).reshape(-1, 1)))\n",
    "model = train(x, y, epoch=10, scaler = [x_scaler, y_scaler])"
   ]
  },
  {
   "cell_type": "code",
   "execution_count": 2,
   "metadata": {},
   "outputs": [],
   "source": [
    "# Taken from https://stackoverflow.com/questions/44947505/how-to-make-a-movie-out-of-images-in-python\n",
    "\n",
    "import cv2\n",
    "import os, glob\n",
    "video_name = 'training.mp4'\n",
    "\n",
    "images = glob.glob('*.jpg')\n",
    "frame = cv2.imread(os.path.join(os.getcwd(), images[0]))\n",
    "height, width, layers = frame.shape\n",
    "\n",
    "video = cv2.VideoWriter(video_name, 0, 1, 5, (width, height))\n",
    "\n",
    "for image in images:\n",
    "    video.write(cv2.imread(os.path.join(os.getcwd(), image)))\n",
    "\n",
    "cv2.destroyAllWindows()\n",
    "video.release()"
   ]
  }
 ],
 "metadata": {
  "kernelspec": {
   "display_name": "Python 3.9.13 64-bit",
   "language": "python",
   "name": "python3"
  },
  "language_info": {
   "codemirror_mode": {
    "name": "ipython",
    "version": 3
   },
   "file_extension": ".py",
   "mimetype": "text/x-python",
   "name": "python",
   "nbconvert_exporter": "python",
   "pygments_lexer": "ipython3",
   "version": "3.9.13"
  },
  "orig_nbformat": 4,
  "vscode": {
   "interpreter": {
    "hash": "819ab141cced30163ac0ec1ae8a8662b06c7d3dbd31e5ddd218169c385aa095c"
   }
  }
 },
 "nbformat": 4,
 "nbformat_minor": 2
}
