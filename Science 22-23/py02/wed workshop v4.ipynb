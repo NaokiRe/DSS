{
  "metadata": {
    "language_info": {
      "codemirror_mode": {
        "name": "python",
        "version": 3
      },
      "file_extension": ".py",
      "mimetype": "text/x-python",
      "name": "python",
      "nbconvert_exporter": "python",
      "pygments_lexer": "ipython3",
      "version": "3.8"
    },
    "kernelspec": {
      "name": "python",
      "display_name": "Python (Pyodide)",
      "language": "python"
    }
  },
  "nbformat_minor": 4,
  "nbformat": 4,
  "cells": [
    {
      "cell_type": "markdown",
      "source": "## [Py02] - Computational thinking and logic",
      "metadata": {}
    },
    {
      "cell_type": "markdown",
      "source": "## Recap stuff",
      "metadata": {}
    },
    {
      "cell_type": "code",
      "source": "print(\"hello world\")",
      "metadata": {
        "trusted": true
      },
      "execution_count": 1,
      "outputs": [
        {
          "name": "stdout",
          "text": "hello world\n",
          "output_type": "stream"
        }
      ]
    },
    {
      "cell_type": "code",
      "source": "# define an integer and print it out\nnum = 1\nprint(num)",
      "metadata": {
        "trusted": true
      },
      "execution_count": 15,
      "outputs": [
        {
          "name": "stdout",
          "text": "1\n",
          "output_type": "stream"
        }
      ]
    },
    {
      "cell_type": "markdown",
      "source": "We could also define a `float`.\n\nThe difference between an integer and a float is that integer is a whole number and a float is a decimal",
      "metadata": {}
    },
    {
      "cell_type": "code",
      "source": "num = 1.34\nprint(num)",
      "metadata": {
        "trusted": true
      },
      "execution_count": 16,
      "outputs": [
        {
          "name": "stdout",
          "text": "1.34\n",
          "output_type": "stream"
        }
      ]
    },
    {
      "cell_type": "markdown",
      "source": "Another thing you need to do when you work with numbers is to do comparision.\n\nWe will go through the comparison operators in a bit.",
      "metadata": {}
    },
    {
      "cell_type": "code",
      "source": "# define a string\nstr_1 = \"maths\"\nprint(str_1)",
      "metadata": {
        "trusted": true
      },
      "execution_count": 3,
      "outputs": [
        {
          "name": "stdout",
          "text": "maths\n",
          "output_type": "stream"
        }
      ]
    },
    {
      "cell_type": "code",
      "source": "#define a boolean value\nbool_1 = True\nprint(bool_1)",
      "metadata": {
        "trusted": true
      },
      "execution_count": 4,
      "outputs": [
        {
          "name": "stdout",
          "text": "True\n",
          "output_type": "stream"
        }
      ]
    },
    {
      "cell_type": "markdown",
      "source": "A key point here is the use of indentation (the white space at the beginning of a line) to define what code to run if that condition is met. This is often taken as four `spaces` or one `tab` which is used to tell the interpreter what code to run based on the conditional statement. Another key point here also is the use of `:` which is used to tell the program that this is the end of the conditional, after this point expect indented code. Without these things then the code would not run.",
      "metadata": {}
    },
    {
      "cell_type": "markdown",
      "source": "## Start new content",
      "metadata": {}
    },
    {
      "cell_type": "markdown",
      "source": "### 1. Conditional statement",
      "metadata": {}
    },
    {
      "cell_type": "markdown",
      "source": "#### a. if statement",
      "metadata": {}
    },
    {
      "cell_type": "markdown",
      "source": "Indentation",
      "metadata": {}
    },
    {
      "cell_type": "markdown",
      "source": "let's look at the simplest conditionals we can write",
      "metadata": {}
    },
    {
      "cell_type": "code",
      "source": "if True:\n    print(\"Conditional is True\")",
      "metadata": {
        "trusted": true
      },
      "execution_count": 5,
      "outputs": [
        {
          "name": "stdout",
          "text": "Conditional is True\n",
          "output_type": "stream"
        }
      ]
    },
    {
      "cell_type": "markdown",
      "source": "make sure else is back on base line, so that it is not in the if block",
      "metadata": {}
    },
    {
      "cell_type": "code",
      "source": "language = \"Python\"\nif language == \"Python\":\n    print(\"Language is Python\")\nelse:\n    print(\"No match\")",
      "metadata": {},
      "execution_count": null,
      "outputs": []
    },
    {
      "cell_type": "markdown",
      "source": "change it to java",
      "metadata": {}
    },
    {
      "cell_type": "code",
      "source": "language = \"Java\"\nif language == \"Python\":\n    print(\"Language is Python\")\nelse:\n    print(\"No match\")",
      "metadata": {
        "trusted": true
      },
      "execution_count": 6,
      "outputs": [
        {
          "name": "stdout",
          "text": "No match\n",
          "output_type": "stream"
        }
      ]
    },
    {
      "cell_type": "markdown",
      "source": "What if we want to check multiple languages\nand execute different code for each one we encounter\nSo this is when the elif statement comes in?\nLet's check if the language is equal to Python, if not, is it equal to Java?",
      "metadata": {}
    },
    {
      "cell_type": "code",
      "source": "language = \"Java\"\nif language == \"Python\":\n    print(\"Language is Python\")\nelif language == \"Java\":\n    print(\"Language is Java\")\nelse:\n    print(\"No match\")",
      "metadata": {
        "trusted": true
      },
      "execution_count": 7,
      "outputs": [
        {
          "name": "stdout",
          "text": "Language is Java\n",
          "output_type": "stream"
        }
      ]
    },
    {
      "cell_type": "markdown",
      "source": "\"Explain the loop\"",
      "metadata": {}
    },
    {
      "cell_type": "markdown",
      "source": "if we want to check more languages, we could simply do it by adding elif statement, as many as we want",
      "metadata": {}
    },
    {
      "cell_type": "code",
      "source": "x = 10\ny = 20\nz = 30\nif not x == 10:\n    print(\"correct values\")\nelse:\n    print(\"incorrect values\")",
      "metadata": {
        "trusted": true
      },
      "execution_count": 15,
      "outputs": [
        {
          "name": "stdout",
          "text": "incorrect values\n",
          "output_type": "stream"
        }
      ]
    },
    {
      "cell_type": "code",
      "source": "# check if a string contains a letter\nprint(\"A\" in \"Alpha\")",
      "metadata": {
        "trusted": true
      },
      "execution_count": 32,
      "outputs": [
        {
          "name": "stdout",
          "text": "True\n",
          "output_type": "stream"
        }
      ]
    },
    {
      "cell_type": "markdown",
      "source": "The value returned here from these conditions is called a Boolean. This is a value type that can only take the values of either `True` or `False` and is used primarily to indicate whether a condition is met. We can check this as follows:",
      "metadata": {}
    },
    {
      "cell_type": "code",
      "source": "print(type(x==3))\nprint(type(x<1))",
      "metadata": {
        "trusted": true
      },
      "execution_count": 35,
      "outputs": [
        {
          "name": "stdout",
          "text": "<class 'bool'>\n<class 'bool'>\n",
          "output_type": "stream"
        }
      ]
    },
    {
      "cell_type": "markdown",
      "source": "#### b. logical conditions/comparison operators",
      "metadata": {}
    },
    {
      "cell_type": "markdown",
      "source": "We want to know whether two values are equal, greater than, less than.\n\nTo test this, we could use comparison operators.",
      "metadata": {}
    },
    {
      "cell_type": "markdown",
      "source": "Equals: $ a == b $\n<br>\nNot equal: $a != b$\n<br>\nGreater than: $ a > b $\n<br>\nSmaller than: $ a < b$\n<br>\nLess than or equal to: $ a <= b$\n<br>\nGreater than or equal to: $ a >= b$",
      "metadata": {}
    },
    {
      "cell_type": "markdown",
      "source": "These conditions allow you to check whether something is true or false within the data. For example, we can check whether the value assigned to one value is equal to something else:",
      "metadata": {}
    },
    {
      "cell_type": "markdown",
      "source": "Let's check if two variables are equal.",
      "metadata": {}
    },
    {
      "cell_type": "code",
      "source": "num_1 = 3\nnum_2 = 2",
      "metadata": {
        "trusted": true
      },
      "execution_count": 18,
      "outputs": []
    },
    {
      "cell_type": "markdown",
      "source": "Now let's run through all these comparisons.\n\nFirst, let's check if two variables are equal.",
      "metadata": {}
    },
    {
      "cell_type": "code",
      "source": "print(num_1 == num_2)",
      "metadata": {
        "trusted": true
      },
      "execution_count": 19,
      "outputs": [
        {
          "name": "stdout",
          "text": "False\n",
          "output_type": "stream"
        }
      ]
    },
    {
      "cell_type": "markdown",
      "source": "Now you don't want to have the single `equal` sign because that means assign values to a variable. \n\nDouble equal means checking equality.\n\nIf I want to check if they weren't equal, then we could use `!=` (exclamation)",
      "metadata": {}
    },
    {
      "cell_type": "code",
      "source": "print(num_1 != num_2)",
      "metadata": {
        "trusted": true
      },
      "execution_count": 20,
      "outputs": [
        {
          "name": "stdout",
          "text": "True\n",
          "output_type": "stream"
        }
      ]
    },
    {
      "cell_type": "code",
      "source": "print(num_1 > num_2)\nprint(num_1 < num_2)",
      "metadata": {},
      "execution_count": null,
      "outputs": []
    },
    {
      "cell_type": "markdown",
      "source": "In addition, we may get some values that look like numbers but are actually strings.\n\nFor example",
      "metadata": {}
    },
    {
      "cell_type": "code",
      "source": "num_1 = '100'\nnum_2 = '300'\ntype(num_1)",
      "metadata": {
        "trusted": true
      },
      "execution_count": 21,
      "outputs": [
        {
          "execution_count": 21,
          "output_type": "execute_result",
          "data": {
            "text/plain": "str"
          },
          "metadata": {}
        }
      ]
    },
    {
      "cell_type": "markdown",
      "source": "What if you want to add the numbers together",
      "metadata": {}
    },
    {
      "cell_type": "code",
      "source": "print(num_1 + num_2)",
      "metadata": {
        "trusted": true
      },
      "execution_count": 22,
      "outputs": [
        {
          "name": "stdout",
          "text": "100300\n",
          "output_type": "stream"
        }
      ]
    },
    {
      "cell_type": "markdown",
      "source": "This is not the result that we thought it would be.\n\nThis is the string rule which concatenates the strings together.\n\nTo add the numbers up in a mathematical way, we would convert the strings to integers/floats. We call that casting.",
      "metadata": {}
    },
    {
      "cell_type": "code",
      "source": "num_1 = int('100')\nnum_2 = int('300')\nnum_1 + num_2",
      "metadata": {
        "trusted": true
      },
      "execution_count": 24,
      "outputs": [
        {
          "execution_count": 24,
          "output_type": "execute_result",
          "data": {
            "text/plain": "400"
          },
          "metadata": {}
        }
      ]
    },
    {
      "cell_type": "markdown",
      "source": "In addition to these comparisons, we also have some boolean operations that we could use",
      "metadata": {}
    },
    {
      "cell_type": "markdown",
      "source": "#### c. Boolean Operation: and, or, not",
      "metadata": {}
    },
    {
      "cell_type": "markdown",
      "source": "- __and__ returns True if both statements are true;\n- __or__ returns True if one of the statements is true;\n- __not__ reverse the result, returns False if the result is true;",
      "metadata": {}
    },
    {
      "cell_type": "markdown",
      "source": "For example, let me create two variables here, call one of these use",
      "metadata": {}
    },
    {
      "cell_type": "code",
      "source": "user = \"Admin\"\nlogged_in = True",
      "metadata": {
        "trusted": true
      },
      "execution_count": 9,
      "outputs": []
    },
    {
      "cell_type": "markdown",
      "source": "Let's say we only wanted to execute some code when use = admin, and login is true.\n\nTo do this, we could use the `and` keyword",
      "metadata": {}
    },
    {
      "cell_type": "code",
      "source": "if user == \"Admin\" and logged_in:\n    print(\"admin page\")\nelse:\n    print(\"fail to log in\")",
      "metadata": {
        "trusted": true
      },
      "execution_count": 13,
      "outputs": [
        {
          "name": "stdout",
          "text": "admin page\n",
          "output_type": "stream"
        }
      ]
    },
    {
      "cell_type": "markdown",
      "source": "change the logged_in variable to false and run it again\n\nand makes sure that both of the conditionals have to be true\n\nIf we want one of these to be true, then we use `or` keyword\n\nchange and to or and run the code again",
      "metadata": {}
    },
    {
      "cell_type": "markdown",
      "source": "`not` is just used to switch the boolean\n\nIt will change true to false and change false to true\n\nfor example:",
      "metadata": {}
    },
    {
      "cell_type": "code",
      "source": "if not logged_in:\n    print(\"log in fail\")\nelse:\n    print(\"logged in succefully\")",
      "metadata": {
        "trusted": true
      },
      "execution_count": 14,
      "outputs": [
        {
          "name": "stdout",
          "text": "logged in succefully\n",
          "output_type": "stream"
        }
      ]
    },
    {
      "cell_type": "markdown",
      "source": "logged in is true, so switches the not logged_in to false, the statement is not met, so we skip the block and go to the else statement",
      "metadata": {}
    },
    {
      "cell_type": "markdown",
      "source": "### 2. Loops",
      "metadata": {}
    },
    {
      "cell_type": "markdown",
      "source": "#### a. for loop",
      "metadata": {}
    },
    {
      "cell_type": "markdown",
      "source": "\nA **FOR** loop, in contrast to the **WHILE** loop, doesn't require you to increment a variable as it will do it itself. So, FOR a variable, x, in a certain list/ dictionary/ string, the variable will take every value in the list, in order. Look at the following examples:\n",
      "metadata": {}
    },
    {
      "cell_type": "markdown",
      "source": "We've got a list of numbers and we want loop through this.\n\nTo do this, let's do a `for` loop\n",
      "metadata": {}
    },
    {
      "cell_type": "code",
      "source": "nums = [1, 2, 3, 4, 5]\nfor num in nums:\n    print(num)",
      "metadata": {
        "trusted": true
      },
      "execution_count": 2,
      "outputs": [
        {
          "name": "stdout",
          "text": "1\n2\n3\n4\n5\n",
          "output_type": "stream"
        }
      ]
    },
    {
      "cell_type": "markdown",
      "source": "What we are doing here is we create a loop, and we go through each element in the list.\n\nEach time through the loop, this num variable will be equal to the next item in the list.\n\nSo the first time through, it will be equal to one, and the next time 2, and so on.",
      "metadata": {}
    },
    {
      "cell_type": "markdown",
      "source": "Now let's look at two important keywords, `break`, and `continue`\n\n`break` will completely break out of the loop\n\n`continue` will move on to the next iteration of the loop\n\nFor example, we are looking for a certain number in a list. Once we find it, we don't need to continue looping through that list.\n\nThis is when the `break` statement comes in handy.",
      "metadata": {}
    },
    {
      "cell_type": "code",
      "source": "for num in nums:\n    if num == 3:\n        print(\"found 3\")\n        break\n    print(num)",
      "metadata": {
        "trusted": true
      },
      "execution_count": 5,
      "outputs": [
        {
          "name": "stdout",
          "text": "1\n2\nfound 3\n",
          "output_type": "stream"
        }
      ]
    },
    {
      "cell_type": "markdown",
      "source": "What if we just want to skip a value, not the whole statement.\n\nTo do this, we could use the `continue` statement, when we will skip to the next iteration of the loop.",
      "metadata": {}
    },
    {
      "cell_type": "code",
      "source": "for num in nums:\n    if num == 3:\n        print(\"found 3\")\n        continue\n    print(num)",
      "metadata": {
        "trusted": true
      },
      "execution_count": 6,
      "outputs": [
        {
          "name": "stdout",
          "text": "1\n2\nfound 3\n4\n5\n",
          "output_type": "stream"
        }
      ]
    },
    {
      "cell_type": "markdown",
      "source": "Now let's look at something that we might run into, which is a loop within a loop.",
      "metadata": {}
    },
    {
      "cell_type": "code",
      "source": "for num in nums:\n    for letter in \"abc\":\n        print(num, letter)",
      "metadata": {
        "trusted": true
      },
      "execution_count": 7,
      "outputs": [
        {
          "name": "stdout",
          "text": "1 a\n1 b\n1 c\n2 a\n2 b\n2 c\n3 a\n3 b\n3 c\n4 a\n4 b\n4 c\n5 a\n5 b\n5 c\n",
          "output_type": "stream"
        }
      ]
    },
    {
      "cell_type": "markdown",
      "source": "What this does is to give us every combination of number and letters.",
      "metadata": {}
    },
    {
      "cell_type": "markdown",
      "source": "## range()",
      "metadata": {}
    },
    {
      "cell_type": "markdown",
      "source": "There is going to be times when we just want to loop through something a certain number of times.\n\nThere is a built-in function called `range()` which is really useful for this.\n\nFor example, we could print a certain number for 5 times.",
      "metadata": {}
    },
    {
      "cell_type": "code",
      "source": "for i in range(5):\n    print(3)",
      "metadata": {
        "trusted": true
      },
      "execution_count": 8,
      "outputs": [
        {
          "name": "stdout",
          "text": "3\n3\n3\n3\n3\n",
          "output_type": "stream"
        }
      ]
    },
    {
      "cell_type": "markdown",
      "source": "To loop through a set of code a specified number of times, we can use the range() function,\nThe range() function returns a sequence of numbers, starting from 0 by default, and increments by 1 (by default), and ends at a specified number.\n\n",
      "metadata": {}
    },
    {
      "cell_type": "markdown",
      "source": "#### b. while loop",
      "metadata": {}
    },
    {
      "cell_type": "markdown",
      "source": "Now let's take a look at the while loop.\n\nOur `for` loop iterated through a certain number of values.\n\nBut `while` loop will keep going until a certain condition is met, or we hit a break.",
      "metadata": {}
    },
    {
      "cell_type": "code",
      "source": "x = 0\nwhile x < 10:\n    print(x)\n    x += 1",
      "metadata": {
        "trusted": true
      },
      "execution_count": 9,
      "outputs": [
        {
          "name": "stdout",
          "text": "0\n1\n2\n3\n4\n5\n6\n7\n8\n9\n",
          "output_type": "stream"
        }
      ]
    },
    {
      "cell_type": "markdown",
      "source": "This loop will go on forever until this condition (x < 10) is false.\n\nSo if we want to end this loop at some point, then x will be greater than or equal to 10 at some point, to do this we could increment i by 1",
      "metadata": {}
    },
    {
      "cell_type": "markdown",
      "source": "At any point, you can just `break` out of a loop, like what we did in the for loop.\n",
      "metadata": {}
    },
    {
      "cell_type": "code",
      "source": "x = 0\nwhile x < 10:\n    if x == 5:\n        break\n    print(x)\n    x += 1",
      "metadata": {
        "trusted": true
      },
      "execution_count": 10,
      "outputs": [
        {
          "name": "stdout",
          "text": "0\n1\n2\n3\n4\n",
          "output_type": "stream"
        }
      ]
    },
    {
      "cell_type": "markdown",
      "source": "With the continue statement we can stop the current iteration, and continue with the next:\n\n",
      "metadata": {}
    },
    {
      "cell_type": "code",
      "source": "i = 0\nwhile i < 6:\n    if i == 3:\n    continue\n    print(i)\n    i += 1 ",
      "metadata": {
        "trusted": true
      },
      "execution_count": null,
      "outputs": []
    },
    {
      "cell_type": "code",
      "source": "",
      "metadata": {},
      "execution_count": null,
      "outputs": []
    },
    {
      "cell_type": "code",
      "source": "",
      "metadata": {},
      "execution_count": null,
      "outputs": []
    },
    {
      "cell_type": "code",
      "source": "",
      "metadata": {},
      "execution_count": null,
      "outputs": []
    }
  ]
}