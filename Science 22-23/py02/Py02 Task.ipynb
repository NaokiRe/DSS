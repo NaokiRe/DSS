{
  "metadata": {
    "language_info": {
      "codemirror_mode": {
        "name": "python",
        "version": 3
      },
      "file_extension": ".py",
      "mimetype": "text/x-python",
      "name": "python",
      "nbconvert_exporter": "python",
      "pygments_lexer": "ipython3",
      "version": "3.8"
    },
    "kernelspec": {
      "name": "python",
      "display_name": "Python (Pyodide)",
      "language": "python"
    }
  },
  "nbformat_minor": 4,
  "nbformat": 4,
  "cells": [
    {
      "cell_type": "markdown",
      "source": "### Exercise 1 - Identify the Data Type\n\n#### 1a. The following code example would print the data type of x, what data type would that be?\n`x = 5`\n<br>\n`print(type(x))`\n<br>\n\n#### 1b. The statement below would print a Boolean value, which one?\n`print(10 > 9)`",
      "metadata": {}
    },
    {
      "cell_type": "markdown",
      "source": "### Exercise 2 - If statement\n\n#### 2a. Print `\"Hello World\"` if a is greater than b.\nGiven:\n<br>\n`a = 50`\n<br>\n`b = 20`\n<br>\n<br>\nThe code could look like:\n<br>\n`if _____:`\n<br>\n  `  print(______)`\n  \n  \n#### 2b. Test if `a` is greater than `b`, AND if `c` is greater than a:\nTip: You need to use an `and` statement in the condition\n<br>\n`a = 3`\n<br>\n`b = 4`\n<br>\n`c = 5`\n<br>\nYour code could look like:\n<br>\n`if ______:`\n<br>\n`    print(\"a is greater than b and c is greater than a\")`\n\n\n#### 2c. Check which number is greater and give the corresponding answer.\nTip: Use elif\n<br>\n`a = e^2`\n<br>\n`b = pi^2`\n<br>\nYou code could look like:",
      "metadata": {}
    },
    {
      "cell_type": "code",
      "source": "import math\nimport numpy as np\n# importing libraries allows you to define pi and exponential easily\na = math.exp(2)\nb = np.pi ** 2\n# if  condition:\n#    print()\n# elif  condition:\n#    print()\n# else:\n#    print()",
      "metadata": {
        "trusted": true
      },
      "execution_count": 16,
      "outputs": []
    },
    {
      "cell_type": "code",
      "source": "import math\nimport numpy as np\na = math.exp(2)\nb = np.pi ** 2\nif a > b:\n    print(\"a > b\")\nelif a == b:\n    print(\"a = b\")\nelse:\n    print(\"a < b\")",
      "metadata": {
        "jupyter": {
          "source_hidden": true
        }
      },
      "execution_count": null,
      "outputs": []
    },
    {
      "cell_type": "markdown",
      "source": "#### 2d. Check if any number is greater than 10\nTip: Use `or`",
      "metadata": {}
    },
    {
      "cell_type": "code",
      "source": "a = 5\nb = 15\n#if condition:\n#    print(sentence)",
      "metadata": {
        "trusted": true
      },
      "execution_count": 14,
      "outputs": []
    },
    {
      "cell_type": "markdown",
      "source": "### Exercise 3 - While statement\n\n#### 3a. Spot the error\nI want to print the numbers from 1 to 6.\n\nHere are my codes:\n<br>\n`x = 1`\n<br>\n`while x <= 6:`\n<br>\n`    print(x)`",
      "metadata": {}
    },
    {
      "cell_type": "markdown",
      "source": "#### 3b. Print `i` as long as `i` is less than 10 but skip 7.",
      "metadata": {}
    },
    {
      "cell_type": "code",
      "source": "i = 1\n#while condition:\n#    print(i)\n#    i = i + 1",
      "metadata": {},
      "execution_count": null,
      "outputs": []
    },
    {
      "cell_type": "markdown",
      "source": "### Exercise 4 - For statement\n\n#### 4a. Loop through the items in the fruits list.",
      "metadata": {}
    },
    {
      "cell_type": "code",
      "source": "fruits = [\"kiwi\", \"apple\", \"peach\"]\n#for condition:\n#    print(sentence)",
      "metadata": {
        "trusted": true
      },
      "execution_count": 17,
      "outputs": []
    },
    {
      "cell_type": "code",
      "source": "fruits = [\"kiwi\", \"apple\", \"peach\"]\nfor i in fruits:\n    print(i)",
      "metadata": {
        "jupyter": {
          "source_hidden": true
        }
      },
      "execution_count": null,
      "outputs": []
    },
    {
      "cell_type": "markdown",
      "source": "#### 4b. print number from 1 to 100",
      "metadata": {}
    },
    {
      "cell_type": "markdown",
      "source": "#### 4c. print numbers from 1 to 100 but skip 50",
      "metadata": {}
    }
  ]
}