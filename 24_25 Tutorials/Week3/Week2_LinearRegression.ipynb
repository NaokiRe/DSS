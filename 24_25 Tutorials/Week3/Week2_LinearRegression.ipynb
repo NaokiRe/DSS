{
  "cells": [
    {
      "cell_type": "markdown",
      "metadata": {
        "id": "zHbHIgAd-RTO"
      },
      "source": [
        "# Linear Regression - PyTorch"
      ]
    },
    {
      "cell_type": "markdown",
      "metadata": {
        "id": "-MphlXQ0-RTR"
      },
      "source": [
        "### Importing relevant libraries"
      ]
    },
    {
      "cell_type": "code",
      "execution_count": 1,
      "metadata": {
        "id": "daHDxlsq-RTS"
      },
      "outputs": [],
      "source": [
        "import torch\n",
        "import numpy as np\n",
        "import pandas as pd\n",
        "import matplotlib.pyplot as plt"
      ]
    },
    {
      "cell_type": "markdown",
      "metadata": {
        "id": "CEwKweeO-RTT"
      },
      "source": [
        "### Generating Synthetic Data\n",
        "\n",
        "We first need to generate data to train our linear regression model on.\n",
        "\n",
        "In order to do so, `torch.arange` is called, which creates a tensor X containing a bunch of values between -5 and 5 with incremements of 0.1. This tensor is then shaped into a colomn vector, so you can think of X as a 1D vector containing all of the x co-ordinate data on the graph.\n",
        "\n",
        "Next, a tensor called func is created by applying a linear function of y = -5x. This applies the function y = -5x all of the elements of X, which generates the corresponding y co-ordinate for each x co-ordinate."
      ]
    },
    {
      "cell_type": "code",
      "execution_count": 2,
      "metadata": {
        "id": "qiLvlBKc-RTU"
      },
      "outputs": [],
      "source": [
        "# x co-ordinates of data points\n",
        "X = torch.arange(-5, 5, 0.1).view(-1, 1)\n",
        "# y co-ordinates of data points\n",
        "func = -5 * X"
      ]
    },
    {
      "cell_type": "markdown",
      "metadata": {
        "id": "IwU5fsL6-RTU"
      },
      "source": [
        "#### Noise\n",
        "\n",
        "We then add noise to the data points in func, to simulate a noisy data set.\n",
        "\n",
        "`torch.randn(X.size())` generates random numbers from a standard normal distribution of the shape of X, and this is then scaled by 0.4 to be added to the data points.\n",
        "\n",
        "These noise-adjusted values are stored in tensor Y."
      ]
    },
    {
      "cell_type": "code",
      "execution_count": 19,
      "metadata": {
        "id": "EkI90ezb-RTU"
      },
      "outputs": [],
      "source": [
        "#adding gaussian noise\n",
        "Y = func + 0.4 * torch.randn(X.size())"
      ]
    },
    {
      "cell_type": "markdown",
      "metadata": {
        "id": "7SnaUgpB-RTV"
      },
      "source": [
        "### Visualising Generated Data\n",
        "\n",
        "Now, we can use matplotlib to view our generated data."
      ]
    },
    {
      "cell_type": "code",
      "execution_count": 10,
      "metadata": {
        "id": "IQIUg-zl-RTV",
        "outputId": "d5fb2d81-6997-47c6-ba40-721d5821505f"
      },
      "outputs": [
        {
          "data": {
            "image/png": "[encoded data removed]",
            "text/plain": [
              "<Figure size 640x480 with 1 Axes>"
            ]
          },
          "metadata": {},
          "output_type": "display_data"
        }
      ],
      "source": [
        "plt.plot(X.numpy(), Y.numpy(), 'b+', label='Y')\n",
        "plt.plot(X.numpy(), func.numpy(), 'r', label='func')\n",
        "plt.xlabel('x')\n",
        "plt.ylabel('y')\n",
        "plt.legend()\n",
        "plt.grid('True', color='y')\n",
        "plt.show()"
      ]
    },
    {
      "cell_type": "markdown",
      "metadata": {
        "id": "l_iq8cGP-RTW"
      },
      "source": [
        "### Initialising Parameters\n",
        "\n",
        "In order to begin training, we first initialise some arbitrary values for a and b, where Y = a + bX. This is so that we have a starting point to begin training the data on. `a` and `b` are initialised as torch.tensor objects with requires_grad=True to track gradients during optimisation."
      ]
    },
    {
      "cell_type": "code",
      "execution_count": 20,
      "metadata": {
        "id": "PYl9bdbm-RTW"
      },
      "outputs": [],
      "source": [
        "a = torch.tensor(-20.0, requires_grad=True)\n",
        "b = torch.tensor(-10.0, requires_grad=True)"
      ]
    },
    {
      "cell_type": "markdown",
      "metadata": {
        "id": "fNM9QVWW-RTW"
      },
      "source": [
        "### Forward Pass Function\n",
        "\n",
        "Next we define a function called `forward(x)` which takes an input tensor `x` and computes the linear regression prediction using the parameters `a` and `b`."
      ]
    },
    {
      "cell_type": "code",
      "execution_count": 21,
      "metadata": {
        "id": "SgEo2jor-RTX"
      },
      "outputs": [],
      "source": [
        "# forward pass function for prediction\n",
        "def forward(x):\n",
        "    return  a + b * x"
      ]
    },
    {
      "cell_type": "markdown",
      "metadata": {
        "id": "_-Ite9S3-RTX"
      },
      "source": [
        "### Cost Criterion Function (MSE)\n",
        "\n",
        "In order to quantify the prediction accuracy, the mean squared error between the predicted values `y_pred` and `y` are calculated."
      ]
    },
    {
      "cell_type": "code",
      "execution_count": 22,
      "metadata": {
        "id": "JX80rd53-RTX"
      },
      "outputs": [],
      "source": [
        "def cost_function(y_pred, y):\n",
        "    return  torch.mean((y - y_pred) ** 2)"
      ]
    },
    {
      "cell_type": "markdown",
      "metadata": {
        "id": "xEUUxlxB-RTY"
      },
      "source": [
        "### Gradient Descent Optimisation\n",
        "\n",
        "Here, we define some training parameters.\n",
        "\n",
        "- learning_rate: size of the steps taken during each iteration of the process.\n",
        "- costs: stores a list to calculate the MSE cost at each iteration of the training loop (which we'll see below).\n",
        "- n_iter: this is the number of iterations (AKA epochs). Each epoch will involve a forward pass to compute predictions, a backward pass to calculate gradients and update parameters, and also will record the cost.\n",
        "\n",
        "*Please note that there is a trade off between speed of convergence and stability - a lower learning rate has slower convergence but is more stable, while a higher learning rate may have faster convergence, but with the added risk of overshooting the minimum*"
      ]
    },
    {
      "cell_type": "code",
      "execution_count": 23,
      "metadata": {
        "id": "28fsTXcC-RTY"
      },
      "outputs": [],
      "source": [
        "# size of steps taken in each epoch\n",
        "learning_rate = 0.1\n",
        "#list to store loss values at each epoch\n",
        "costs = []\n",
        "# number of epochs\n",
        "num_epochs = 20"
      ]
    },
    {
      "cell_type": "code",
      "execution_count": 30,
      "metadata": {},
      "outputs": [],
      "source": [
        "# gradient descent function\n",
        "\n",
        "def gradient_descent(x, y, learning_rate=0.1):\n",
        "\n",
        "    # forward pass\n",
        "    Y_pred = forward(x)\n",
        "    # calculate cost\n",
        "    cost = cost_function(Y_pred, y)\n",
        "    # backward pass\n",
        "    cost.backward()\n",
        "    # updating the parameters after each epoch\n",
        "    b.data = b.data - learning_rate * b.grad\n",
        "    a.data = a.data - learning_rate * a.grad\n",
        "\n",
        "    return cost\n",
        "\n",
        "    "
      ]
    },
    {
      "cell_type": "markdown",
      "metadata": {
        "id": "Jesf0T4M-RTY"
      },
      "source": [
        "### Training Loop\n",
        "\n",
        "This is where the values of a and b are iterativly adjusted so as to reduce the average mean squared error."
      ]
    },
    {
      "cell_type": "code",
      "execution_count": 31,
      "metadata": {
        "id": "ABuSAs3R-RTY"
      },
      "outputs": [],
      "source": [
        "for i in range (num_epochs):\n",
        "\n",
        "    cost = gradient_descent(X, Y, learning_rate)\n",
        "    costs.append(cost)\n",
        "\n",
        "    b.grad.data.zero_()\n",
        "    a.grad.data.zero_() \n",
        "\n",
        "    # print('{}, \\t{}, \\t{}, \\t{}'.format(i, cost.item(), b.item(), a.item()))\n"
      ]
    },
    {
      "cell_type": "code",
      "execution_count": 32,
      "metadata": {
        "id": "kAGSEB3j-RTZ"
      },
      "outputs": [
        {
          "ename": "AttributeError",
          "evalue": "'NoneType' object has no attribute 'detach'",
          "output_type": "error",
          "traceback": [
            "\u001b[1;31m---------------------------------------------------------------------------\u001b[0m",
            "\u001b[1;31mAttributeError\u001b[0m                            Traceback (most recent call last)",
            "Cell \u001b[1;32mIn[32], line 5\u001b[0m\n\u001b[0;32m      2\u001b[0m plt\u001b[38;5;241m.\u001b[39mylabel(\u001b[38;5;124m'\u001b[39m\u001b[38;5;124mCost\u001b[39m\u001b[38;5;124m'\u001b[39m)\n\u001b[0;32m      4\u001b[0m epochs \u001b[38;5;241m=\u001b[39m \u001b[38;5;28mlist\u001b[39m(\u001b[38;5;28mrange\u001b[39m(\u001b[38;5;241m1\u001b[39m, num_epochs \u001b[38;5;241m+\u001b[39m \u001b[38;5;241m1\u001b[39m))\n\u001b[1;32m----> 5\u001b[0m costs_np \u001b[38;5;241m=\u001b[39m \u001b[43m[\u001b[49m\u001b[43mcost\u001b[49m\u001b[38;5;241;43m.\u001b[39;49m\u001b[43mdetach\u001b[49m\u001b[43m(\u001b[49m\u001b[43m)\u001b[49m\u001b[38;5;241;43m.\u001b[39;49m\u001b[43mnumpy\u001b[49m\u001b[43m(\u001b[49m\u001b[43m)\u001b[49m\u001b[43m \u001b[49m\u001b[38;5;28;43;01mfor\u001b[39;49;00m\u001b[43m \u001b[49m\u001b[43mcost\u001b[49m\u001b[43m \u001b[49m\u001b[38;5;129;43;01min\u001b[39;49;00m\u001b[43m \u001b[49m\u001b[43mcosts\u001b[49m\u001b[43m]\u001b[49m\n\u001b[0;32m      6\u001b[0m plt\u001b[38;5;241m.\u001b[39mplot(epochs, costs_np)\n",
            "Cell \u001b[1;32mIn[32], line 5\u001b[0m, in \u001b[0;36m<listcomp>\u001b[1;34m(.0)\u001b[0m\n\u001b[0;32m      2\u001b[0m plt\u001b[38;5;241m.\u001b[39mylabel(\u001b[38;5;124m'\u001b[39m\u001b[38;5;124mCost\u001b[39m\u001b[38;5;124m'\u001b[39m)\n\u001b[0;32m      4\u001b[0m epochs \u001b[38;5;241m=\u001b[39m \u001b[38;5;28mlist\u001b[39m(\u001b[38;5;28mrange\u001b[39m(\u001b[38;5;241m1\u001b[39m, num_epochs \u001b[38;5;241m+\u001b[39m \u001b[38;5;241m1\u001b[39m))\n\u001b[1;32m----> 5\u001b[0m costs_np \u001b[38;5;241m=\u001b[39m [\u001b[43mcost\u001b[49m\u001b[38;5;241;43m.\u001b[39;49m\u001b[43mdetach\u001b[49m()\u001b[38;5;241m.\u001b[39mnumpy() \u001b[38;5;28;01mfor\u001b[39;00m cost \u001b[38;5;129;01min\u001b[39;00m costs]\n\u001b[0;32m      6\u001b[0m plt\u001b[38;5;241m.\u001b[39mplot(epochs, costs_np)\n",
            "\u001b[1;31mAttributeError\u001b[0m: 'NoneType' object has no attribute 'detach'"
          ]
        },
        {
          "data": {
            "image/png": "[encoded data removed]",
            "text/plain": [
              "<Figure size 640x480 with 1 Axes>"
            ]
          },
          "metadata": {},
          "output_type": "display_data"
        }
      ],
      "source": [
        "plt.xlabel('Epochs')\n",
        "plt.ylabel('Cost')\n",
        "\n",
        "epochs = list(range(1, num_epochs + 1))\n",
        "costs_np = [cost.detach().numpy() for cost in costs]\n",
        "plt.plot(epochs, costs_np)"
      ]
    },
    {
      "cell_type": "markdown",
      "metadata": {},
      "source": [
        "# Extension - Linear Regression - From Scratch"
      ]
    },
    {
      "cell_type": "markdown",
      "metadata": {},
      "source": [
        "Let's take a more realistic example, where we have a dataset of multiple features and we want to predict the target variable.\n",
        "\n"
      ]
    },
    {
      "cell_type": "markdown",
      "metadata": {},
      "source": [
        "## Load in necessary csv files\n",
        "\n",
        "- If writing local code, no need to do this step\n",
        "\n",
        "If on Colab, download advertising.csv (in the content directory) and upload it to the current directory by:\n",
        "Clicking on Files icon (on the left side bar of the screen) -> Upload to session storage -> Select the file from your local machine"
      ]
    },
    {
      "cell_type": "code",
      "execution_count": 33,
      "metadata": {},
      "outputs": [],
      "source": [
        "# variables to store mean and std for each feature\n",
        "mu = []\n",
        "std = []\n",
        "\n",
        "# Function to Normalise the data\n",
        "def normalise(data):    \n",
        "\tfor i in range(0,data.shape[1]-1):\n",
        "\t\tdata[:,i] = ((data[:,i] - np.mean(data[:,i]))/np.std(data[:, i]))\n",
        "\t\tmu.append(np.mean(data[:,i]))\n",
        "\t\tstd.append(np.std(data[:, i]))"
      ]
    },
    {
      "cell_type": "code",
      "execution_count": 34,
      "metadata": {},
      "outputs": [],
      "source": [
        "def load_data(filename=\"/content/advertising.csv\"):\n",
        "    df = pd.read_csv(filename, sep=\",\", index_col=False)\n",
        "    # show the first 5 rows of the data\n",
        "    print(df.head())\n",
        "    data = np.array(df, dtype=float)\n",
        "    plot_TV_sales_data(data[:,:3], data[:, -1])\n",
        "    normalise(data)\n",
        "    return data[:,:3], data[:, -1]\n",
        "\n",
        "def plot_TV_sales_data(x, y):\n",
        "\tplt.xlabel('TV')\n",
        "\tplt.ylabel('sales')\n",
        "\tplt.plot(x[:,0], y, 'bo')\n",
        "\tplt.show()"
      ]
    },
    {
      "cell_type": "code",
      "execution_count": 35,
      "metadata": {},
      "outputs": [
        {
          "name": "stdout",
          "output_type": "stream",
          "text": [
            "      TV  Radio  Newspaper  Sales\n",
            "0  230.1   37.8       69.2   22.1\n",
            "1   44.5   39.3       45.1   10.4\n",
            "2   17.2   45.9       69.3   12.0\n",
            "3  151.5   41.3       58.5   16.5\n",
            "4  180.8   10.8       58.4   17.9\n"
          ]
        },
        {
          "data": {
            "image/png": "[encoded data removed]",
            "text/plain": [
              "<Figure size 640x480 with 1 Axes>"
            ]
          },
          "metadata": {},
          "output_type": "display_data"
        }
      ],
      "source": [
        "# load data and show some values as pd dataframe\n",
        "# x,y = load_data()\n",
        "# run this instead if local machine\n",
        "x,y = load_data(\"./content/advertising.csv\")\n"
      ]
    },
    {
      "cell_type": "code",
      "execution_count": 36,
      "metadata": {},
      "outputs": [],
      "source": [
        "# we have to add a column of ones to the input data - because we have a bias term\n",
        "x = np.hstack([np.ones((x.shape[0], 1)), x])\n",
        "\n",
        "# initialize the weights\n",
        "a_b = np.zeros((x.shape[1], 1))"
      ]
    },
    {
      "cell_type": "code",
      "execution_count": 39,
      "metadata": {},
      "outputs": [],
      "source": [
        "# re-define the forward pass function using matrix multiplication\n",
        "def forward(x, a_b):\n",
        "    return np.matmul(x, a_b) \n",
        "\n",
        "# re-define the cost function using matrix operations\n",
        "def cost_function(x, y, a_b):\n",
        "    return ((forward(x, a_b) - y).T@(forward(x, a_b) - y)) / (2*x.shape[0])"
      ]
    },
    {
      "cell_type": "code",
      "execution_count": 40,
      "metadata": {},
      "outputs": [],
      "source": [
        "# re define gradient Descent\n",
        "\n",
        "def gradient_descent(x, y, a_b, learning_rate=0.1):\n",
        "    # get m - the number of data points\n",
        "    m = x.shape[0]\n",
        "\n",
        "    # calculate the forward pass\n",
        "    forward_pass = forward(x, a_b)\n",
        "\n",
        "    # calculate the cost\n",
        "    cost = cost_function(x, y, a_b)\n",
        "\n",
        "    # calculate the derivative of the cost function\n",
        "    cost_ = (1/m)*(x.T@(forward_pass - y))\n",
        "\n",
        "    # update the parameters\n",
        "    a_b = a_b - learning_rate*cost_\n",
        "\n",
        "\n",
        "    return a_b, cost"
      ]
    },
    {
      "cell_type": "code",
      "execution_count": 41,
      "metadata": {},
      "outputs": [
        {
          "name": "stdout",
          "output_type": "stream",
          "text": [
            "0, \t244.20500000000055\n",
            "10, \t29.68962693428999\n",
            "20, \t3.609565518713035\n",
            "30, \t0.4388389002906028\n",
            "40, \t0.0533525654015355\n",
            "50, \t0.00648642641534302\n",
            "60, \t0.0007885980238253876\n",
            "70, \t9.587510955346146e-05\n",
            "80, \t1.1656175078008248e-05\n",
            "90, \t1.4171187713022046e-06\n"
          ]
        }
      ],
      "source": [
        "# The Training Loop\n",
        "\n",
        "cost_all = []\n",
        "learning_rate = 0.1\n",
        "num_epochs = 100\n",
        "\n",
        "for i in range(num_epochs):\n",
        "    # calculate cost\n",
        "    a_b, cost = gradient_descent(x, y, a_b, learning_rate) \n",
        "\n",
        "    # append cost to list\n",
        "    cost_all.append(cost)\n",
        "    \n",
        "    if i % 10 == 0:\n",
        "        print('{}, \\t{}'.format(i, cost[0][0]))\n"
      ]
    },
    {
      "cell_type": "code",
      "execution_count": 42,
      "metadata": {},
      "outputs": [
        {
          "data": {
            "image/png": "[encoded data removed]",
            "text/plain": [
              "<Figure size 640x480 with 1 Axes>"
            ]
          },
          "metadata": {},
          "output_type": "display_data"
        }
      ],
      "source": [
        "# for testing and plotting cost\n",
        "\n",
        "def plot_cost(cost_all, num_epochs):\n",
        "\tplt.xlabel('Epochs')\n",
        "\tplt.ylabel('Cost')\n",
        "\tplt.plot(num_epochs, cost_all, 'm', linewidth = \"5\")\n",
        "\tplt.show()\n",
        "\n",
        "n_epochs = []\n",
        "costplot = []\n",
        "count = 0\n",
        "for i in cost_all:\n",
        "\tcostplot.append(i[0][0])\n",
        "\tn_epochs.append(count)\n",
        "\tcount += 1\n",
        "costplot = np.array(costplot)\n",
        "n_epochs = np.array(n_epochs)\n",
        "plot_cost(costplot, n_epochs)\n"
      ]
    },
    {
      "cell_type": "code",
      "execution_count": null,
      "metadata": {},
      "outputs": [],
      "source": []
    }
  ],
  "metadata": {
    "colab": {
      "provenance": []
    },
    "kernelspec": {
      "display_name": "Python 3",
      "language": "python",
      "name": "python3"
    },
    "language_info": {
      "codemirror_mode": {
        "name": "ipython",
        "version": 3
      },
      "file_extension": ".py",
      "mimetype": "text/x-python",
      "name": "python",
      "nbconvert_exporter": "python",
      "pygments_lexer": "ipython3",
      "version": "3.11.4"
    }
  },
  "nbformat": 4,
  "nbformat_minor": 0
}
