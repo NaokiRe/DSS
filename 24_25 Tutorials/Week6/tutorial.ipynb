{
 "cells": [
  {
   "cell_type": "markdown",
   "metadata": {
    "id": "yKSkXwCQEFMH"
   },
   "source": [
    "# Pandas Tutorial"
   ]
  },
  {
   "cell_type": "markdown",
   "metadata": {
    "id": "4E18s4TMEFML"
   },
   "source": [
    "### Importing libraries"
   ]
  },
  {
   "cell_type": "markdown",
   "metadata": {
    "id": "DtVEUqDbEFML"
   },
   "source": [
    "Use *pip install pandas* or *conda install pandas*"
   ]
  },
  {
   "cell_type": "code",
   "execution_count": 100,
   "metadata": {
    "executionInfo": {
     "elapsed": 4,
     "status": "ok",
     "timestamp": 1698850154343,
     "user": {
      "displayName": "Cheuk Yin Ng",
      "userId": "02415143734337371772"
     },
     "user_tz": 0
    },
    "id": "WnJJSdOiEFML"
   },
   "outputs": [],
   "source": [
    "import pandas as pd\n",
    "import numpy as np\n",
    "import matplotlib.pyplot as plt"
   ]
  },
  {
   "cell_type": "markdown",
   "metadata": {
    "id": "daLWqUMDEFMN"
   },
   "source": [
    "### Basic Syntax"
   ]
  },
  {
   "cell_type": "markdown",
   "metadata": {
    "id": "3j3hi9T4EFMN"
   },
   "source": [
    "#### Series\n",
    "\n",
    "Series are essentially a column in a table. It can have a title and custom indices"
   ]
  },
  {
   "cell_type": "code",
   "execution_count": null,
   "metadata": {
    "colab": {
     "base_uri": "https://localhost:8080/"
    },
    "executionInfo": {
     "elapsed": 258,
     "status": "ok",
     "timestamp": 1698756692532,
     "user": {
      "displayName": "Cheuk Yin Ng",
      "userId": "02415143734337371772"
     },
     "user_tz": 0
    },
    "id": "uRwNbh2vEFMN",
    "outputId": "91e808f6-7919-4d85-c7b8-6239b426737e"
   },
   "outputs": [],
   "source": [
    "series"
   ]
  },
  {
   "cell_type": "markdown",
   "metadata": {
    "id": "IdaRbD80EFMO"
   },
   "source": [
    "It can be spliced like a list in python"
   ]
  },
  {
   "cell_type": "code",
   "execution_count": null,
   "metadata": {
    "colab": {
     "base_uri": "https://localhost:8080/"
    },
    "executionInfo": {
     "elapsed": 219,
     "status": "ok",
     "timestamp": 1698579488158,
     "user": {
      "displayName": "Lila Açanal",
      "userId": "16501017019878579976"
     },
     "user_tz": 0
    },
    "id": "IAl9T3A6EFMP",
    "outputId": "a8063761-31d2-4280-ba0e-fff808d42269"
   },
   "outputs": [],
   "source": []
  },
  {
   "cell_type": "code",
   "execution_count": null,
   "metadata": {
    "colab": {
     "base_uri": "https://localhost:8080/"
    },
    "executionInfo": {
     "elapsed": 536,
     "status": "ok",
     "timestamp": 1698579491946,
     "user": {
      "displayName": "Lila Açanal",
      "userId": "16501017019878579976"
     },
     "user_tz": 0
    },
    "id": "uXKklpHfEFMP",
    "outputId": "faf1e123-961c-456a-be10-4dd0fcaaba97"
   },
   "outputs": [],
   "source": []
  },
  {
   "cell_type": "markdown",
   "metadata": {
    "id": "50U9ZjMgEFMP"
   },
   "source": [
    "#### The dataframe"
   ]
  },
  {
   "cell_type": "code",
   "execution_count": 104,
   "metadata": {
    "colab": {
     "base_uri": "https://localhost:8080/",
     "height": 142
    },
    "executionInfo": {
     "elapsed": 4,
     "status": "ok",
     "timestamp": 1698579496462,
     "user": {
      "displayName": "Lila Açanal",
      "userId": "16501017019878579976"
     },
     "user_tz": 0
    },
    "id": "SNvQkqKTEFMP",
    "outputId": "3e0d9c4c-1603-4bc3-8ea3-295eacc5fbb4"
   },
   "outputs": [],
   "source": [
    "data = {\"a\":[1,2,3], \"b\":[4,5,6], \"c\":[7,8,9]} # this is known as a dictionary\n",
    "df = pd.DataFrame(data)\n",
    "df"
   ]
  },
  {
   "cell_type": "code",
   "execution_count": null,
   "metadata": {
    "colab": {
     "base_uri": "https://localhost:8080/",
     "height": 142
    },
    "executionInfo": {
     "elapsed": 231,
     "status": "ok",
     "timestamp": 1698579501799,
     "user": {
      "displayName": "Lila Açanal",
      "userId": "16501017019878579976"
     },
     "user_tz": 0
    },
    "id": "i5ptXnnTEFMQ",
    "outputId": "907507c9-5bf7-479e-f932-a75e4fae7d95"
   },
   "outputs": [],
   "source": [
    "col_df"
   ]
  },
  {
   "cell_type": "code",
   "execution_count": null,
   "metadata": {
    "colab": {
     "base_uri": "https://localhost:8080/",
     "height": 80
    },
    "executionInfo": {
     "elapsed": 206,
     "status": "ok",
     "timestamp": 1698579505093,
     "user": {
      "displayName": "Lila Açanal",
      "userId": "16501017019878579976"
     },
     "user_tz": 0
    },
    "id": "ur-vr8a0EFMQ",
    "outputId": "fc2e0795-a05c-4fac-f378-e5f4022df498"
   },
   "outputs": [],
   "source": [
    "new_row"
   ]
  },
  {
   "cell_type": "code",
   "execution_count": null,
   "metadata": {
    "colab": {
     "base_uri": "https://localhost:8080/",
     "height": 173
    },
    "executionInfo": {
     "elapsed": 213,
     "status": "ok",
     "timestamp": 1698579507027,
     "user": {
      "displayName": "Lila Açanal",
      "userId": "16501017019878579976"
     },
     "user_tz": 0
    },
    "id": "MEsI-_x0EFMQ",
    "outputId": "699a0cc3-c06d-434a-c8af-e165b716866b"
   },
   "outputs": [],
   "source": [
    "row_df"
   ]
  },
  {
   "cell_type": "code",
   "execution_count": null,
   "metadata": {
    "colab": {
     "base_uri": "https://localhost:8080/",
     "height": 175
    },
    "executionInfo": {
     "elapsed": 323,
     "status": "ok",
     "timestamp": 1698579005494,
     "user": {
      "displayName": "Hazel",
      "userId": "09231924503958231039"
     },
     "user_tz": 0
    },
    "id": "QKZlD401EFMQ",
    "outputId": "af2d313b-5901-4194-a409-b21c914a725e"
   },
   "outputs": [],
   "source": [
    "row_df"
   ]
  },
  {
   "cell_type": "code",
   "execution_count": null,
   "metadata": {
    "colab": {
     "base_uri": "https://localhost:8080/",
     "height": 143
    },
    "executionInfo": {
     "elapsed": 218,
     "status": "ok",
     "timestamp": 1698579045598,
     "user": {
      "displayName": "Hazel",
      "userId": "09231924503958231039"
     },
     "user_tz": 0
    },
    "id": "-iU43_sqEFMQ",
    "outputId": "354d8a5c-8211-4152-e00c-a4cee295cfa0"
   },
   "outputs": [],
   "source": [
    "col_df"
   ]
  },
  {
   "cell_type": "code",
   "execution_count": null,
   "metadata": {
    "colab": {
     "base_uri": "https://localhost:8080/",
     "height": 143
    },
    "executionInfo": {
     "elapsed": 251,
     "status": "ok",
     "timestamp": 1698579585872,
     "user": {
      "displayName": "Hazel",
      "userId": "09231924503958231039"
     },
     "user_tz": 0
    },
    "id": "ARSHPnBWEFMR",
    "outputId": "e63d2381-7567-4e5f-cef5-a0310d343849"
   },
   "outputs": [],
   "source": [
    "col_df"
   ]
  },
  {
   "cell_type": "code",
   "execution_count": null,
   "metadata": {
    "colab": {
     "base_uri": "https://localhost:8080/",
     "height": 143
    },
    "executionInfo": {
     "elapsed": 349,
     "status": "ok",
     "timestamp": 1698579589261,
     "user": {
      "displayName": "Hazel",
      "userId": "09231924503958231039"
     },
     "user_tz": 0
    },
    "id": "i0tSHWi2EFMR",
    "outputId": "008a986f-66ca-4d5a-d200-92f22c23b49b"
   },
   "outputs": [],
   "source": [
    "col_df"
   ]
  },
  {
   "cell_type": "markdown",
   "metadata": {
    "id": "xoap-2PmEFMR"
   },
   "source": [
    "*Exercise 1: Add your name and age to col_df as a new row*"
   ]
  },
  {
   "cell_type": "code",
   "execution_count": 112,
   "metadata": {
    "colab": {
     "base_uri": "https://localhost:8080/",
     "height": 234
    },
    "executionInfo": {
     "elapsed": 586,
     "status": "error",
     "timestamp": 1698756634596,
     "user": {
      "displayName": "Cheuk Yin Ng",
      "userId": "02415143734337371772"
     },
     "user_tz": 0
    },
    "id": "E2_FRJ_tO704",
    "outputId": "06715a8a-d7ca-459f-8484-f6b5853ac405"
   },
   "outputs": [],
   "source": []
  },
  {
   "cell_type": "markdown",
   "metadata": {
    "id": "IzpLRST-EFMR"
   },
   "source": [
    "*Exercise 2: Add a new column called 'Surname', with a made up surname for each character*"
   ]
  },
  {
   "cell_type": "code",
   "execution_count": 113,
   "metadata": {
    "colab": {
     "base_uri": "https://localhost:8080/",
     "height": 175
    },
    "executionInfo": {
     "elapsed": 6,
     "status": "ok",
     "timestamp": 1698579985668,
     "user": {
      "displayName": "Hazel",
      "userId": "09231924503958231039"
     },
     "user_tz": 0
    },
    "id": "uI193rW_QK-Y",
    "outputId": "91ea3d75-10a7-4a8a-82d4-6fd1f1f85f1d"
   },
   "outputs": [],
   "source": []
  },
  {
   "cell_type": "markdown",
   "metadata": {
    "id": "SlESM25WEFMR"
   },
   "source": [
    "#### External data"
   ]
  },
  {
   "cell_type": "markdown",
   "metadata": {
    "id": "3CHa-kDdEFMR"
   },
   "source": [
    "The head of all dataframes is taken for easier viewing"
   ]
  },
  {
   "cell_type": "code",
   "execution_count": 114,
   "metadata": {
    "id": "Fhl2EIyLEFMR"
   },
   "outputs": [],
   "source": [
    "real_estate = pd.read_csv(\"data/real_estate.csv\")"
   ]
  },
  {
   "cell_type": "code",
   "execution_count": null,
   "metadata": {
    "colab": {
     "base_uri": "https://localhost:8080/"
    },
    "executionInfo": {
     "elapsed": 894,
     "status": "ok",
     "timestamp": 1698757707768,
     "user": {
      "displayName": "Cheuk Yin Ng",
      "userId": "02415143734337371772"
     },
     "user_tz": 0
    },
    "id": "nGvsCaGkEFMR",
    "outputId": "58a885ff-e035-423d-ca1c-3d026ea952a2"
   },
   "outputs": [],
   "source": []
  },
  {
   "cell_type": "code",
   "execution_count": null,
   "metadata": {},
   "outputs": [],
   "source": []
  },
  {
   "cell_type": "code",
   "execution_count": null,
   "metadata": {},
   "outputs": [],
   "source": []
  },
  {
   "cell_type": "code",
   "execution_count": null,
   "metadata": {
    "colab": {
     "base_uri": "https://localhost:8080/"
    },
    "executionInfo": {
     "elapsed": 348,
     "status": "ok",
     "timestamp": 1698580903671,
     "user": {
      "displayName": "Hazel",
      "userId": "09231924503958231039"
     },
     "user_tz": 0
    },
    "id": "OHV5GuBUEFMS",
    "outputId": "6be3d142-5a32-4cbc-926b-0afd06301d25"
   },
   "outputs": [],
   "source": [
    " #returns the number of null values in each column"
   ]
  },
  {
   "cell_type": "code",
   "execution_count": null,
   "metadata": {
    "colab": {
     "base_uri": "https://localhost:8080/",
     "height": 345
    },
    "executionInfo": {
     "elapsed": 221,
     "status": "ok",
     "timestamp": 1698580905228,
     "user": {
      "displayName": "Hazel",
      "userId": "09231924503958231039"
     },
     "user_tz": 0
    },
    "id": "mLJIBh40EFMS",
    "outputId": "4f571122-d383-4b8f-83ac-31348109ffa3"
   },
   "outputs": [],
   "source": [
    " #returns the first 5 rows"
   ]
  },
  {
   "cell_type": "code",
   "execution_count": null,
   "metadata": {
    "colab": {
     "base_uri": "https://localhost:8080/",
     "height": 206
    },
    "executionInfo": {
     "elapsed": 202,
     "status": "ok",
     "timestamp": 1698580908066,
     "user": {
      "displayName": "Hazel",
      "userId": "09231924503958231039"
     },
     "user_tz": 0
    },
    "id": "-ywF_o2wEFMS",
    "outputId": "4e0cb0cc-7157-4280-cc38-372a91a1d3bd"
   },
   "outputs": [],
   "source": [
    "#columns can be accessed by name"
   ]
  },
  {
   "cell_type": "code",
   "execution_count": null,
   "metadata": {
    "colab": {
     "base_uri": "https://localhost:8080/",
     "height": 206
    },
    "executionInfo": {
     "elapsed": 243,
     "status": "ok",
     "timestamp": 1698581024019,
     "user": {
      "displayName": "Hazel",
      "userId": "09231924503958231039"
     },
     "user_tz": 0
    },
    "id": "_KmoaNv4EFMS",
    "outputId": "955ca315-25fb-490e-90e6-8425f85f8c7e"
   },
   "outputs": [],
   "source": [
    " #or using iloc"
   ]
  },
  {
   "cell_type": "code",
   "execution_count": null,
   "metadata": {
    "colab": {
     "base_uri": "https://localhost:8080/"
    },
    "executionInfo": {
     "elapsed": 4,
     "status": "ok",
     "timestamp": 1698581026031,
     "user": {
      "displayName": "Hazel",
      "userId": "09231924503958231039"
     },
     "user_tz": 0
    },
    "id": "feusTU59EFMS",
    "outputId": "c526a114-14d8-475a-d5f7-ca552afe23ec"
   },
   "outputs": [],
   "source": [
    " #iloc is used to select rows and columns by their index location"
   ]
  },
  {
   "cell_type": "code",
   "execution_count": null,
   "metadata": {
    "colab": {
     "base_uri": "https://localhost:8080/",
     "height": 345
    },
    "executionInfo": {
     "elapsed": 360,
     "status": "ok",
     "timestamp": 1698581031621,
     "user": {
      "displayName": "Hazel",
      "userId": "09231924503958231039"
     },
     "user_tz": 0
    },
    "id": "-lwnu-JKEFMS",
    "outputId": "29836cb3-c75b-45bd-876a-b1932936b8ab"
   },
   "outputs": [],
   "source": [
    " #selecting rows based on a condition"
   ]
  },
  {
   "cell_type": "code",
   "execution_count": null,
   "metadata": {
    "colab": {
     "base_uri": "https://localhost:8080/"
    },
    "executionInfo": {
     "elapsed": 227,
     "status": "ok",
     "timestamp": 1698581060181,
     "user": {
      "displayName": "Hazel",
      "userId": "09231924503958231039"
     },
     "user_tz": 0
    },
    "id": "6TxHMPqlEFMT",
    "outputId": "1f82a685-ad37-42a0-cb07-2d6a5f8dd926"
   },
   "outputs": [],
   "source": [
    " #selecting a column based on a condition"
   ]
  },
  {
   "cell_type": "markdown",
   "metadata": {
    "id": "LHiMf5zPEFMT"
   },
   "source": [
    "*Exercise 3: Show the address of all commercial properties*"
   ]
  },
  {
   "cell_type": "code",
   "execution_count": 123,
   "metadata": {
    "colab": {
     "base_uri": "https://localhost:8080/",
     "height": 424
    },
    "executionInfo": {
     "elapsed": 214,
     "status": "ok",
     "timestamp": 1698581580929,
     "user": {
      "displayName": "Hazel",
      "userId": "09231924503958231039"
     },
     "user_tz": 0
    },
    "id": "IE6T2G7YUpnq",
    "outputId": "66261d08-e746-4d08-ec39-de3e700adba3"
   },
   "outputs": [],
   "source": []
  },
  {
   "cell_type": "markdown",
   "metadata": {
    "id": "gqkSpXguEFMT"
   },
   "source": [
    "*Exercise 4: Show all data for properties that are in Avon*"
   ]
  },
  {
   "cell_type": "code",
   "execution_count": 124,
   "metadata": {
    "colab": {
     "base_uri": "https://localhost:8080/",
     "height": 632
    },
    "executionInfo": {
     "elapsed": 597,
     "status": "ok",
     "timestamp": 1698581197635,
     "user": {
      "displayName": "Hazel",
      "userId": "09231924503958231039"
     },
     "user_tz": 0
    },
    "id": "Vtp5QpnuU_TX",
    "outputId": "ccb5149f-9d66-4081-98d4-799171386a4d"
   },
   "outputs": [],
   "source": []
  },
  {
   "cell_type": "markdown",
   "metadata": {
    "id": "A0c_VlZIEFMT"
   },
   "source": [
    "*Exercise 5: Show the first 10 rows of the sales ratio and the address in one dataframe*"
   ]
  },
  {
   "cell_type": "code",
   "execution_count": 125,
   "metadata": {
    "colab": {
     "base_uri": "https://localhost:8080/",
     "height": 363
    },
    "executionInfo": {
     "elapsed": 207,
     "status": "ok",
     "timestamp": 1698581255616,
     "user": {
      "displayName": "Hazel",
      "userId": "09231924503958231039"
     },
     "user_tz": 0
    },
    "id": "geHrkKOoVFy_",
    "outputId": "e8f8b34a-29c5-486d-ba5e-1871d3cbb5d0"
   },
   "outputs": [],
   "source": []
  },
  {
   "cell_type": "code",
   "execution_count": null,
   "metadata": {
    "colab": {
     "base_uri": "https://localhost:8080/"
    },
    "executionInfo": {
     "elapsed": 341,
     "status": "ok",
     "timestamp": 1698581625166,
     "user": {
      "displayName": "Hazel",
      "userId": "09231924503958231039"
     },
     "user_tz": 0
    },
    "id": "zTwvxklZEFMT",
    "outputId": "09b662fc-4ce8-4af3-ba53-72521913d891"
   },
   "outputs": [],
   "source": [
    " #returns the unique values in a column"
   ]
  },
  {
   "cell_type": "code",
   "execution_count": null,
   "metadata": {
    "colab": {
     "base_uri": "https://localhost:8080/"
    },
    "executionInfo": {
     "elapsed": 2,
     "status": "ok",
     "timestamp": 1698582431290,
     "user": {
      "displayName": "Hazel",
      "userId": "09231924503958231039"
     },
     "user_tz": 0
    },
    "id": "N-kD4RMHEFMT",
    "outputId": "84afd9e0-ff4e-4ef5-fba8-c79a51568b82"
   },
   "outputs": [],
   "source": [
    " #returns the number of times each unique value appears in a column"
   ]
  },
  {
   "cell_type": "code",
   "execution_count": null,
   "metadata": {
    "colab": {
     "base_uri": "https://localhost:8080/",
     "height": 345
    },
    "executionInfo": {
     "elapsed": 387,
     "status": "ok",
     "timestamp": 1698582321191,
     "user": {
      "displayName": "Hazel",
      "userId": "09231924503958231039"
     },
     "user_tz": 0
    },
    "id": "_t1xjUswEFMT",
    "outputId": "30a75c05-cbdb-44ab-96cc-66a3ef0abf49"
   },
   "outputs": [],
   "source": [
    " #selecting rows where a column is null"
   ]
  },
  {
   "cell_type": "code",
   "execution_count": null,
   "metadata": {
    "colab": {
     "base_uri": "https://localhost:8080/",
     "height": 397
    },
    "executionInfo": {
     "elapsed": 250,
     "status": "ok",
     "timestamp": 1698581734497,
     "user": {
      "displayName": "Hazel",
      "userId": "09231924503958231039"
     },
     "user_tz": 0
    },
    "id": "TMf1up9bEFMU",
    "outputId": "12d7bbd7-b6a1-4138-b617-11494a5f1bf1"
   },
   "outputs": [],
   "source": [
    " #selecting rows where a column is not null"
   ]
  },
  {
   "cell_type": "code",
   "execution_count": null,
   "metadata": {
    "colab": {
     "base_uri": "https://localhost:8080/"
    },
    "executionInfo": {
     "elapsed": 394,
     "status": "ok",
     "timestamp": 1698581780775,
     "user": {
      "displayName": "Hazel",
      "userId": "09231924503958231039"
     },
     "user_tz": 0
    },
    "id": "66uCoy7yEFMZ",
    "outputId": "6eef7fc5-7fe9-46f5-d3b2-be0d74dd4153"
   },
   "outputs": [],
   "source": [
    " #selecting rows where a column is not equal to a value\n",
    "#REMEMBER BRACKETS"
   ]
  },
  {
   "cell_type": "code",
   "execution_count": null,
   "metadata": {
    "colab": {
     "base_uri": "https://localhost:8080/"
    },
    "executionInfo": {
     "elapsed": 221,
     "status": "ok",
     "timestamp": 1698581789493,
     "user": {
      "displayName": "Hazel",
      "userId": "09231924503958231039"
     },
     "user_tz": 0
    },
    "id": "V3AU2CNHEFMa",
    "outputId": "0bc96a2d-4572-45bd-cfe6-e3a0049752ca"
   },
   "outputs": [],
   "source": []
  },
  {
   "cell_type": "code",
   "execution_count": null,
   "metadata": {
    "colab": {
     "base_uri": "https://localhost:8080/",
     "height": 632
    },
    "executionInfo": {
     "elapsed": 333,
     "status": "ok",
     "timestamp": 1698581884216,
     "user": {
      "displayName": "Hazel",
      "userId": "09231924503958231039"
     },
     "user_tz": 0
    },
    "id": "LgFweE5cEFMa",
    "outputId": "5fdd3734-8352-4e90-e984-68c1b6f2d9fd"
   },
   "outputs": [],
   "source": [
    " #selecting rows where a column is equal to any value in a list"
   ]
  },
  {
   "cell_type": "markdown",
   "metadata": {
    "id": "_DMU-TP-EFMa"
   },
   "source": [
    "*Exercise 6: What will the following code return:*\n",
    "\n",
    "real_estate[real_estate['List Year']==2020]"
   ]
  },
  {
   "cell_type": "code",
   "execution_count": 133,
   "metadata": {
    "id": "Z2PLBZXYEFMa"
   },
   "outputs": [],
   "source": []
  },
  {
   "cell_type": "markdown",
   "metadata": {
    "id": "lqEFrxrUEFMa"
   },
   "source": [
    "*Exercise 7: How many addresses are null?*"
   ]
  },
  {
   "cell_type": "code",
   "execution_count": 134,
   "metadata": {
    "colab": {
     "base_uri": "https://localhost:8080/"
    },
    "executionInfo": {
     "elapsed": 5,
     "status": "ok",
     "timestamp": 1698582493172,
     "user": {
      "displayName": "Hazel",
      "userId": "09231924503958231039"
     },
     "user_tz": 0
    },
    "id": "kypVbftGX8xb",
    "outputId": "c0333933-b1c4-48a0-c776-a617a7321859"
   },
   "outputs": [],
   "source": []
  },
  {
   "cell_type": "markdown",
   "metadata": {
    "id": "EXAE1zUWEFMa"
   },
   "source": [
    "*Exercise 8: What will the following code return:*\n",
    "\n",
    "real_estate['Property Type'][real_estate['Residential Type']=='Two Family'].unique()"
   ]
  },
  {
   "cell_type": "code",
   "execution_count": 135,
   "metadata": {
    "colab": {
     "base_uri": "https://localhost:8080/"
    },
    "executionInfo": {
     "elapsed": 253,
     "status": "ok",
     "timestamp": 1698582254711,
     "user": {
      "displayName": "Hazel",
      "userId": "09231924503958231039"
     },
     "user_tz": 0
    },
    "id": "DhuJNEM-EFMa",
    "outputId": "6bc36720-9c46-4021-e1c3-25cbe7c20b24"
   },
   "outputs": [],
   "source": []
  },
  {
   "cell_type": "code",
   "execution_count": 136,
   "metadata": {
    "colab": {
     "base_uri": "https://localhost:8080/"
    },
    "executionInfo": {
     "elapsed": 229,
     "status": "ok",
     "timestamp": 1698582264830,
     "user": {
      "displayName": "Hazel",
      "userId": "09231924503958231039"
     },
     "user_tz": 0
    },
    "id": "0YgGH1o1EFMa",
    "outputId": "94fa750c-7658-451e-e97f-0a3eb3cfc381"
   },
   "outputs": [],
   "source": []
  },
  {
   "cell_type": "markdown",
   "metadata": {
    "id": "LTLXqa6cEFMa"
   },
   "source": [
    "*Exercise 9: What will the following code return:*\n",
    "\n",
    "real_estate[real_estate['Residential Type']=='Single Family'][real_estate['Property Type'].isin(twofam)]['Property Type'].unique()"
   ]
  },
  {
   "cell_type": "code",
   "execution_count": 137,
   "metadata": {
    "colab": {
     "base_uri": "https://localhost:8080/"
    },
    "executionInfo": {
     "elapsed": 2,
     "status": "ok",
     "timestamp": 1698582271234,
     "user": {
      "displayName": "Hazel",
      "userId": "09231924503958231039"
     },
     "user_tz": 0
    },
    "id": "GbEEBGzEEFMa",
    "outputId": "12b65865-daf3-40f2-f8bb-feca58da8269"
   },
   "outputs": [],
   "source": []
  },
  {
   "cell_type": "markdown",
   "metadata": {
    "id": "fD0WLETWEFMa"
   },
   "source": [
    "*Exercise 10: Find how many unique towns are in the dataset*"
   ]
  },
  {
   "cell_type": "code",
   "execution_count": 138,
   "metadata": {
    "colab": {
     "base_uri": "https://localhost:8080/"
    },
    "executionInfo": {
     "elapsed": 461,
     "status": "ok",
     "timestamp": 1698582853627,
     "user": {
      "displayName": "Hazel",
      "userId": "09231924503958231039"
     },
     "user_tz": 0
    },
    "id": "80Ux2A-SapwK",
    "outputId": "19c1e194-5790-47c9-cf62-0595472446bb"
   },
   "outputs": [],
   "source": []
  },
  {
   "cell_type": "markdown",
   "metadata": {
    "id": "ScQxn3XKEFMb"
   },
   "source": [
    "*Exercise 11: Find how many towns have a condo for sale and not a four family house (hint: revise how to use \".isin()\")*"
   ]
  },
  {
   "cell_type": "code",
   "execution_count": 139,
   "metadata": {
    "colab": {
     "base_uri": "https://localhost:8080/"
    },
    "executionInfo": {
     "elapsed": 228,
     "status": "ok",
     "timestamp": 1698582973766,
     "user": {
      "displayName": "Hazel",
      "userId": "09231924503958231039"
     },
     "user_tz": 0
    },
    "id": "SiuT-4mLbCcq",
    "outputId": "7bd5eae5-13e2-4104-9267-3b4de1af215f"
   },
   "outputs": [],
   "source": []
  },
  {
   "cell_type": "code",
   "execution_count": null,
   "metadata": {
    "colab": {
     "base_uri": "https://localhost:8080/"
    },
    "executionInfo": {
     "elapsed": 285,
     "status": "ok",
     "timestamp": 1698582219454,
     "user": {
      "displayName": "Hazel",
      "userId": "09231924503958231039"
     },
     "user_tz": 0
    },
    "id": "XLJG57ldEFMb",
    "outputId": "a70586a9-1cc6-4a41-d033-d7e11c33a1a0"
   },
   "outputs": [],
   "source": []
  },
  {
   "cell_type": "code",
   "execution_count": null,
   "metadata": {
    "colab": {
     "base_uri": "https://localhost:8080/"
    },
    "executionInfo": {
     "elapsed": 6,
     "status": "ok",
     "timestamp": 1698582227554,
     "user": {
      "displayName": "Hazel",
      "userId": "09231924503958231039"
     },
     "user_tz": 0
    },
    "id": "wWmBeJgHEFMb",
    "outputId": "b332cb1c-2635-4793-91c2-7d54b6c1f2f1"
   },
   "outputs": [],
   "source": [
    " #changing the data type of a column\n"
   ]
  },
  {
   "cell_type": "code",
   "execution_count": null,
   "metadata": {
    "colab": {
     "base_uri": "https://localhost:8080/"
    },
    "executionInfo": {
     "elapsed": 320,
     "status": "ok",
     "timestamp": 1698582234738,
     "user": {
      "displayName": "Hazel",
      "userId": "09231924503958231039"
     },
     "user_tz": 0
    },
    "id": "34XjzNjAEFMb",
    "outputId": "22f177b0-200f-44a1-929f-3de371c4a2d8"
   },
   "outputs": [],
   "source": [
    "string_list"
   ]
  },
  {
   "cell_type": "code",
   "execution_count": null,
   "metadata": {
    "colab": {
     "base_uri": "https://localhost:8080/"
    },
    "executionInfo": {
     "elapsed": 361,
     "status": "ok",
     "timestamp": 1698583167542,
     "user": {
      "displayName": "Hazel",
      "userId": "09231924503958231039"
     },
     "user_tz": 0
    },
    "id": "Xh7WaWO2EFMb",
    "outputId": "cff8b43c-f1b9-4be6-f714-387aeaf98a5f"
   },
   "outputs": [],
   "source": []
  },
  {
   "cell_type": "code",
   "execution_count": null,
   "metadata": {
    "colab": {
     "base_uri": "https://localhost:8080/"
    },
    "executionInfo": {
     "elapsed": 214,
     "status": "ok",
     "timestamp": 1698583166183,
     "user": {
      "displayName": "Hazel",
      "userId": "09231924503958231039"
     },
     "user_tz": 0
    },
    "id": "irrh6jlkEFMb",
    "outputId": "17ea81c6-2551-498d-d34b-4654fe5493a7"
   },
   "outputs": [],
   "source": []
  },
  {
   "cell_type": "code",
   "execution_count": null,
   "metadata": {
    "colab": {
     "base_uri": "https://localhost:8080/"
    },
    "executionInfo": {
     "elapsed": 202,
     "status": "ok",
     "timestamp": 1698583243683,
     "user": {
      "displayName": "Hazel",
      "userId": "09231924503958231039"
     },
     "user_tz": 0
    },
    "id": "-fqxfv7dEFMb",
    "outputId": "f89c588e-fd8d-48dc-be51-33254c1a142a"
   },
   "outputs": [],
   "source": []
  },
  {
   "cell_type": "markdown",
   "metadata": {
    "id": "7E5zAl7HEFMb"
   },
   "source": [
    "#### Visualisation"
   ]
  },
  {
   "cell_type": "code",
   "execution_count": null,
   "metadata": {
    "colab": {
     "base_uri": "https://localhost:8080/",
     "height": 505
    },
    "executionInfo": {
     "elapsed": 710,
     "status": "ok",
     "timestamp": 1698583247224,
     "user": {
      "displayName": "Hazel",
      "userId": "09231924503958231039"
     },
     "user_tz": 0
    },
    "id": "ehhKTUCWEFMb",
    "outputId": "1ca53afa-0646-4110-a425-2f40773878c4"
   },
   "outputs": [],
   "source": [
    "#creating bar charts\n",
    "\n",
    "\n",
    "#sort_values() sorts the years in ascending order\n",
    "#astype(str) converts the years to strings\n",
    "#unique() returns the unique years\n",
    "#value_counts() counts the number of times each year appears in the series"
   ]
  },
  {
   "cell_type": "code",
   "execution_count": null,
   "metadata": {
    "colab": {
     "base_uri": "https://localhost:8080/",
     "height": 505
    },
    "executionInfo": {
     "elapsed": 1683,
     "status": "ok",
     "timestamp": 1698578379219,
     "user": {
      "displayName": "Jenna Kam",
      "userId": "18280338072753204776"
     },
     "user_tz": 0
    },
    "id": "YbQV1V6qEFMb",
    "outputId": "a0b1db6f-b842-4b76-d366-c98db6a9ead8"
   },
   "outputs": [],
   "source": [
    "#plotting two scatterplots side by side\n",
    "\n",
    "\n",
    "#remove outliers\n"
   ]
  },
  {
   "cell_type": "code",
   "execution_count": null,
   "metadata": {
    "colab": {
     "base_uri": "https://localhost:8080/",
     "height": 505
    },
    "executionInfo": {
     "elapsed": 1672,
     "status": "ok",
     "timestamp": 1698578380887,
     "user": {
      "displayName": "Jenna Kam",
      "userId": "18280338072753204776"
     },
     "user_tz": 0
    },
    "id": "dIxo5EVWEFMc",
    "outputId": "13cc8ac3-2a7a-49af-ca5f-50c62504a573"
   },
   "outputs": [],
   "source": []
  },
  {
   "cell_type": "code",
   "execution_count": null,
   "metadata": {
    "colab": {
     "base_uri": "https://localhost:8080/",
     "height": 505
    },
    "executionInfo": {
     "elapsed": 395,
     "status": "ok",
     "timestamp": 1698578381276,
     "user": {
      "displayName": "Jenna Kam",
      "userId": "18280338072753204776"
     },
     "user_tz": 0
    },
    "id": "mDXvyAh5EFMc",
    "outputId": "dfa8e74f-a24d-4a43-fb85-3dae5e07b209"
   },
   "outputs": [],
   "source": []
  }
 ],
 "metadata": {
  "colab": {
   "provenance": []
  },
  "kernelspec": {
   "display_name": "Python 3",
   "language": "python",
   "name": "python3"
  },
  "language_info": {
   "codemirror_mode": {
    "name": "ipython",
    "version": 3
   },
   "file_extension": ".py",
   "mimetype": "text/x-python",
   "name": "python",
   "nbconvert_exporter": "python",
   "pygments_lexer": "ipython3",
   "version": "3.11.4"
  },
  "orig_nbformat": 4
 },
 "nbformat": 4,
 "nbformat_minor": 0
}
