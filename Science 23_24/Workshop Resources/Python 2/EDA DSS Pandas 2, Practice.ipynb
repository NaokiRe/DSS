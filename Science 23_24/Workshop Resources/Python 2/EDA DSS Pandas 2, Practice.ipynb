{
 "cells": [
  {
   "cell_type": "markdown",
   "id": "9b1a8eb6",
   "metadata": {},
   "source": [
    "Step 1: Import the libraries\n",
    "\n",
    "Step 2: Read the data and see the information and a few entries\n",
    "\n",
    "Step 3: list Catagorical and Numerical Variables\n",
    "\n",
    "Step 4: Plot histrgrams and box plots\n",
    "\n",
    "Step 5: Plot pair plots\n",
    "\n",
    "Step 6: Plot heat map"
   ]
  },
  {
   "cell_type": "markdown",
   "id": "9005af71",
   "metadata": {},
   "source": [
    "# Step 1:\n",
    "###### Import the libraries"
   ]
  },
  {
   "cell_type": "code",
   "execution_count": null,
   "id": "ede19c0a",
   "metadata": {},
   "outputs": [],
   "source": []
  },
  {
   "cell_type": "markdown",
   "id": "cf27882f",
   "metadata": {},
   "source": [
    "# Step 2:\n",
    "###### Read the data, view the first 10 entries, and print information about the types of  entries (ie Object, float, int etc) of all the columns"
   ]
  },
  {
   "cell_type": "code",
   "execution_count": null,
   "id": "4981cdca",
   "metadata": {},
   "outputs": [],
   "source": []
  },
  {
   "cell_type": "markdown",
   "id": "636ab974",
   "metadata": {},
   "source": [
    "# Step 3:\n",
    "###### List the catagorical and numerical varaiables / columns"
   ]
  },
  {
   "cell_type": "code",
   "execution_count": null,
   "id": "352b3bff",
   "metadata": {},
   "outputs": [],
   "source": []
  },
  {
   "cell_type": "markdown",
   "id": "c1963b73",
   "metadata": {},
   "source": [
    "# Step 4:\n",
    "###### Plot histograms and box plots with values of skewness printed"
   ]
  },
  {
   "cell_type": "code",
   "execution_count": null,
   "id": "7767f265",
   "metadata": {},
   "outputs": [],
   "source": []
  },
  {
   "cell_type": "markdown",
   "id": "0b67997a",
   "metadata": {},
   "source": [
    "# Step 5:\n",
    "###### Plot pair plots of any 5 numeric variables"
   ]
  },
  {
   "cell_type": "code",
   "execution_count": null,
   "id": "4d854873",
   "metadata": {},
   "outputs": [],
   "source": []
  },
  {
   "cell_type": "markdown",
   "id": "673015ec",
   "metadata": {},
   "source": [
    "# Step 6:\n",
    "###### Plot heat maps for all of the numeric variables"
   ]
  },
  {
   "cell_type": "code",
   "execution_count": null,
   "id": "111ee868",
   "metadata": {},
   "outputs": [],
   "source": []
  }
 ],
 "metadata": {
  "kernelspec": {
   "display_name": "Python 3 (ipykernel)",
   "language": "python",
   "name": "python3"
  },
  "language_info": {
   "codemirror_mode": {
    "name": "ipython",
    "version": 3
   },
   "file_extension": ".py",
   "mimetype": "text/x-python",
   "name": "python",
   "nbconvert_exporter": "python",
   "pygments_lexer": "ipython3",
   "version": "3.10.9"
  }
 },
 "nbformat": 4,
 "nbformat_minor": 5
}
