{
 "cells": [
  {
   "cell_type": "markdown",
   "id": "78edb2f7-befa-4e6e-860b-2b099ff89ae1",
   "metadata": {
    "tags": []
   },
   "source": [
    "# Pandas 0 Exercise"
   ]
  },
  {
   "cell_type": "markdown",
   "id": "c19c4319-760d-4285-ae2a-6df80a9f885e",
   "metadata": {
    "id": "4E18s4TMEFML"
   },
   "source": [
    "### Importing libraries"
   ]
  },
  {
   "cell_type": "markdown",
   "id": "f86a0981-28d1-4139-913e-bd479bbec460",
   "metadata": {
    "id": "DtVEUqDbEFML"
   },
   "source": [
    "Use *pip install pandas* or *conda install pandas*"
   ]
  },
  {
   "cell_type": "code",
   "execution_count": 2,
   "id": "5def75ab-7249-406c-aa5c-ee6e6003e08a",
   "metadata": {
    "id": "WnJJSdOiEFML"
   },
   "outputs": [],
   "source": [
    "import pandas as pd\n",
    "import numpy as np\n",
    "import matplotlib.pyplot as plt"
   ]
  },
  {
   "cell_type": "markdown",
   "id": "d03fff4b-7751-4274-a756-8f69eb363204",
   "metadata": {
    "id": "xoap-2PmEFMR"
   },
   "source": [
    "*Exercise 1: Add your name and age to col_df as a new row*"
   ]
  },
  {
   "cell_type": "code",
   "execution_count": null,
   "id": "ed5d13f9-a6b2-4c99-9eaf-9ee648b0bf11",
   "metadata": {},
   "outputs": [],
   "source": []
  },
  {
   "cell_type": "markdown",
   "id": "b51d89c1-7270-4d72-acb9-4b164298739e",
   "metadata": {
    "id": "IzpLRST-EFMR"
   },
   "source": [
    "*Exercise 2: Add a new column called 'Surname', with a made up surname for each character*"
   ]
  },
  {
   "cell_type": "code",
   "execution_count": null,
   "id": "f99573b2-43bf-4e2b-99e5-0a8f2f9304c8",
   "metadata": {},
   "outputs": [],
   "source": []
  },
  {
   "cell_type": "code",
   "execution_count": null,
   "id": "504fc721-ce92-4ca9-a23e-7078bce74ed1",
   "metadata": {},
   "outputs": [],
   "source": [
    "# for google colab (please see demonstration)\n",
    "#real_estate = pd.read_csv('/content/drive/MyDrive/dataset/iris.csv')"
   ]
  },
  {
   "cell_type": "code",
   "execution_count": null,
   "id": "e42d5700-7f96-4c3e-9301-2bb0f4428969",
   "metadata": {
    "id": "Fhl2EIyLEFMR"
   },
   "outputs": [],
   "source": [
    "real_estate = pd.read_csv(\"real_estate_tutorial.csv\")"
   ]
  },
  {
   "cell_type": "markdown",
   "id": "1579aecd-e76e-4265-99b3-8299ff4a03bd",
   "metadata": {
    "id": "LHiMf5zPEFMT"
   },
   "source": [
    "*Exercise 3: Show the address of all commercial properties*"
   ]
  },
  {
   "cell_type": "code",
   "execution_count": null,
   "id": "ee8c8c56-0f69-4dce-9ed3-3db3f2b2fd0c",
   "metadata": {},
   "outputs": [],
   "source": []
  },
  {
   "cell_type": "markdown",
   "id": "0cb11604-262b-43a8-b67f-e390525467c1",
   "metadata": {
    "id": "gqkSpXguEFMT"
   },
   "source": [
    "*Exercise 4: Show all data for properties that are in Avon*"
   ]
  },
  {
   "cell_type": "code",
   "execution_count": null,
   "id": "8c14b317-d0a1-41d4-a464-0f87f5c688b0",
   "metadata": {},
   "outputs": [],
   "source": []
  },
  {
   "cell_type": "markdown",
   "id": "cc7bd717-22ba-4028-9574-a1b27f745ff6",
   "metadata": {
    "id": "A0c_VlZIEFMT"
   },
   "source": [
    "*Exercise 5: Show the first 10 rows of the sales ratio and the address in one dataframe*"
   ]
  },
  {
   "cell_type": "code",
   "execution_count": null,
   "id": "05c1cff4-87f2-4baf-a8e0-393a21cca2e8",
   "metadata": {},
   "outputs": [],
   "source": []
  },
  {
   "cell_type": "markdown",
   "id": "c792e866-51e7-4081-92f5-514e51aa728c",
   "metadata": {
    "id": "_DMU-TP-EFMa"
   },
   "source": [
    "*Exercise 6: What will the following code return:*\n",
    "\n",
    "real_estate[real_estate['List Year']==2020]"
   ]
  },
  {
   "cell_type": "code",
   "execution_count": null,
   "id": "22fa06b2-93c8-449a-a200-434e892cff5d",
   "metadata": {},
   "outputs": [],
   "source": []
  },
  {
   "cell_type": "markdown",
   "id": "0594f287-b7d1-4757-a5a3-42dbf6a9c202",
   "metadata": {
    "id": "lqEFrxrUEFMa"
   },
   "source": [
    "*Exercise 7: How many addresses are null?*"
   ]
  },
  {
   "cell_type": "code",
   "execution_count": null,
   "id": "7c5ea8e3-3152-4d65-87bb-09e2dcb3c3b7",
   "metadata": {},
   "outputs": [],
   "source": []
  },
  {
   "cell_type": "markdown",
   "id": "d76d9927-3b00-4c0c-a591-33c51f253358",
   "metadata": {
    "id": "EXAE1zUWEFMa"
   },
   "source": [
    "*Exercise 8: What will the following code return:*\n",
    "\n",
    "real_estate['Property Type'][real_estate['Residential Type']=='Two Family'].unique()"
   ]
  },
  {
   "cell_type": "code",
   "execution_count": null,
   "id": "b12a1516-d20e-482c-a923-24f26c255fe1",
   "metadata": {},
   "outputs": [],
   "source": []
  },
  {
   "cell_type": "markdown",
   "id": "5ffaaa45-b7d2-41e0-b4c1-75f8357da191",
   "metadata": {
    "id": "LTLXqa6cEFMa"
   },
   "source": [
    "*Exercise 9: What will the following code return:*\n",
    "\n",
    "real_estate[real_estate['Residential Type']=='Single Family'][real_estate['Property Type'].isin(twofam)]['Property Type'].unique()"
   ]
  },
  {
   "cell_type": "code",
   "execution_count": null,
   "id": "cf2f770e-eacf-4c77-a960-175ae4259c9a",
   "metadata": {},
   "outputs": [],
   "source": []
  },
  {
   "cell_type": "markdown",
   "id": "a7e8f8dd-2d1f-4efd-ab05-5c012629b664",
   "metadata": {
    "id": "fD0WLETWEFMa"
   },
   "source": [
    "*Exercise 10: Find how many unique towns are in the dataset*"
   ]
  },
  {
   "cell_type": "code",
   "execution_count": null,
   "id": "3c836677-579a-4fa1-836b-520a903ba004",
   "metadata": {},
   "outputs": [],
   "source": []
  },
  {
   "cell_type": "markdown",
   "id": "e5cce512-e893-47e5-8ef0-7a326b15c629",
   "metadata": {
    "id": "ScQxn3XKEFMb"
   },
   "source": [
    "*Exercise 11: Find how many towns have a condo for sale and not a four family house (hint: revise how to use \".isin()\")*"
   ]
  },
  {
   "cell_type": "code",
   "execution_count": null,
   "id": "94f0e678-53fb-4b66-b592-e93415f88878",
   "metadata": {},
   "outputs": [],
   "source": []
  }
 ],
 "metadata": {
  "kernelspec": {
   "display_name": "Python 3 (ipykernel)",
   "language": "python",
   "name": "python3"
  },
  "language_info": {
   "codemirror_mode": {
    "name": "ipython",
    "version": 3
   },
   "file_extension": ".py",
   "mimetype": "text/x-python",
   "name": "python",
   "nbconvert_exporter": "python",
   "pygments_lexer": "ipython3",
   "version": "3.9.12"
  }
 },
 "nbformat": 4,
 "nbformat_minor": 5
}
