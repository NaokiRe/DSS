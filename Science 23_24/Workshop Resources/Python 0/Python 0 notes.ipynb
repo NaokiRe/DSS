{
 "cells": [
  {
   "cell_type": "markdown",
   "id": "3fc6a979",
   "metadata": {},
   "source": [
    "# Python"
   ]
  },
  {
   "cell_type": "markdown",
   "id": "9f043dfa",
   "metadata": {},
   "source": [
    "### Index\n",
    "##### 1. Variables\n",
    "##### 2. Data Types\n",
    "##### 3. Mathematical Operations\n",
    "##### 4. Strings"
   ]
  },
  {
   "cell_type": "markdown",
   "id": "81f0c701",
   "metadata": {},
   "source": [
    "*Lets Get Started*"
   ]
  },
  {
   "cell_type": "markdown",
   "id": "3d5cf026",
   "metadata": {},
   "source": [
    "# 1. Variables"
   ]
  },
  {
   "cell_type": "code",
   "execution_count": null,
   "id": "e68d7b44",
   "metadata": {},
   "outputs": [],
   "source": [
    "x = 5\n",
    "print(x)"
   ]
  },
  {
   "cell_type": "code",
   "execution_count": null,
   "id": "a804f414",
   "metadata": {},
   "outputs": [],
   "source": []
  },
  {
   "cell_type": "code",
   "execution_count": null,
   "id": "f71a23ea",
   "metadata": {},
   "outputs": [],
   "source": [
    "x = 'Sally'\n",
    "\n",
    "# Make sure to put letters/words/sentences or strings as we call it, inside quotation marks\n",
    "\n",
    "print(x)"
   ]
  },
  {
   "cell_type": "code",
   "execution_count": null,
   "id": "25c13753",
   "metadata": {},
   "outputs": [],
   "source": []
  },
  {
   "cell_type": "code",
   "execution_count": null,
   "id": "2187dfca",
   "metadata": {},
   "outputs": [],
   "source": [
    "# This is called unpacking the variables\n",
    "\n",
    "a, b, c = 'Apple', 'Banana', 'Cherry'\n",
    "\n",
    "print(a)"
   ]
  },
  {
   "cell_type": "code",
   "execution_count": null,
   "id": "8740272c",
   "metadata": {},
   "outputs": [],
   "source": [
    "print(b)"
   ]
  },
  {
   "cell_type": "code",
   "execution_count": null,
   "id": "b917e56d",
   "metadata": {},
   "outputs": [],
   "source": [
    "print(c)"
   ]
  },
  {
   "cell_type": "code",
   "execution_count": null,
   "id": "a761fcfc",
   "metadata": {},
   "outputs": [],
   "source": []
  },
  {
   "cell_type": "code",
   "execution_count": null,
   "id": "c70461a9",
   "metadata": {},
   "outputs": [],
   "source": [
    "Animals = [\"Cat\", \"Dog\", \"Cow\"]\n",
    "x, y, z = Animals"
   ]
  },
  {
   "cell_type": "code",
   "execution_count": null,
   "id": "79330b5e",
   "metadata": {},
   "outputs": [],
   "source": [
    "print(x)\n",
    "print(y)\n",
    "print(z)"
   ]
  },
  {
   "cell_type": "markdown",
   "id": "e647fc4f",
   "metadata": {},
   "source": [
    "# 2. Data Types"
   ]
  },
  {
   "cell_type": "markdown",
   "id": "5428f33d",
   "metadata": {},
   "source": [
    "*Strings (str)* are the letters, words, or the sentences (always surrounded by quotation marks)\n",
    "\n",
    "\n",
    "*Integers (int)* are the whole numbers\n",
    "\n",
    "\n",
    "*Floats (float)* are the decimals\n",
    "\n",
    "\n",
    "*Booleans (bool)* represent either True or False"
   ]
  },
  {
   "cell_type": "markdown",
   "id": "c35baa33",
   "metadata": {},
   "source": [
    "#### Strings"
   ]
  },
  {
   "cell_type": "code",
   "execution_count": 1,
   "id": "a07f4f83",
   "metadata": {},
   "outputs": [
    {
     "name": "stdout",
     "output_type": "stream",
     "text": [
      "Earth is beautiful\n"
     ]
    }
   ],
   "source": [
    "# Adding strings together is call concatenation\n",
    "\n",
    "a = 'Earth'\n",
    "b = ' '\n",
    "c = 'is'\n",
    "d = 'beautiful'\n",
    "\n",
    "print(a + b + c + b + d)"
   ]
  },
  {
   "cell_type": "code",
   "execution_count": null,
   "id": "5e4394af",
   "metadata": {},
   "outputs": [],
   "source": []
  },
  {
   "cell_type": "code",
   "execution_count": null,
   "id": "7a4fadb7",
   "metadata": {},
   "outputs": [],
   "source": [
    "# Changing 3 from an interger to a string\n",
    "\n",
    "y = str(3)\n",
    "print(type(y))"
   ]
  },
  {
   "cell_type": "code",
   "execution_count": null,
   "id": "0d8a1d05",
   "metadata": {},
   "outputs": [],
   "source": [
    "y+2"
   ]
  },
  {
   "cell_type": "markdown",
   "id": "1afa1ee5",
   "metadata": {},
   "source": [
    "#### Integers"
   ]
  },
  {
   "cell_type": "code",
   "execution_count": null,
   "id": "744d5d34",
   "metadata": {},
   "outputs": [],
   "source": [
    "x = '3'\n",
    "y = int(x)"
   ]
  },
  {
   "cell_type": "code",
   "execution_count": null,
   "id": "4e76fbb1",
   "metadata": {},
   "outputs": [],
   "source": [
    "print(type(y))"
   ]
  },
  {
   "cell_type": "code",
   "execution_count": null,
   "id": "e26a1fdd",
   "metadata": {},
   "outputs": [],
   "source": [
    "x+9"
   ]
  },
  {
   "cell_type": "markdown",
   "id": "a41b2647",
   "metadata": {},
   "source": [
    "#### Floats"
   ]
  },
  {
   "cell_type": "code",
   "execution_count": null,
   "id": "eb7e8db0",
   "metadata": {},
   "outputs": [],
   "source": [
    "x = 1.3\n",
    "y = 3\n",
    "z = float(y)\n",
    "print(z)"
   ]
  },
  {
   "cell_type": "markdown",
   "id": "7a0d8d34",
   "metadata": {},
   "source": [
    "#### Booleans"
   ]
  },
  {
   "cell_type": "code",
   "execution_count": null,
   "id": "6b74856e",
   "metadata": {},
   "outputs": [],
   "source": [
    "text = 'The best things in life are free'\n",
    "print('free' in text)"
   ]
  },
  {
   "cell_type": "code",
   "execution_count": null,
   "id": "5cb0e5ae",
   "metadata": {},
   "outputs": [],
   "source": [
    "print('expensive' not in text)"
   ]
  },
  {
   "cell_type": "markdown",
   "id": "98d450b4",
   "metadata": {},
   "source": [
    "Here are some statements which can either be True or False\n",
    "\n",
    "\n",
    "a == b means a is equal to b\n",
    "\n",
    "\n",
    "\n",
    "a != b means a is NOT equal to b\n",
    "\n",
    "\n",
    "\n",
    "a > b means a is greater than b\n",
    "\n",
    "\n",
    "\n",
    "a >= b means a is greater than OR equal to b\n",
    "\n",
    "\n",
    "\n",
    "a < b means a is less than b\n",
    "\n",
    "\n",
    "\n",
    "a <= b means a is less than OR equals to b\n",
    "\n",
    "\n"
   ]
  },
  {
   "cell_type": "code",
   "execution_count": null,
   "id": "b8598a24",
   "metadata": {},
   "outputs": [],
   "source": [
    "x = 5==6\n",
    "print(x)"
   ]
  },
  {
   "cell_type": "code",
   "execution_count": null,
   "id": "763bd8a6",
   "metadata": {},
   "outputs": [],
   "source": [
    "print(type(x))"
   ]
  },
  {
   "cell_type": "code",
   "execution_count": null,
   "id": "ac662b9f",
   "metadata": {},
   "outputs": [],
   "source": []
  },
  {
   "cell_type": "code",
   "execution_count": null,
   "id": "26f201d7",
   "metadata": {},
   "outputs": [],
   "source": [
    "import numpy as np\n",
    "\n",
    "y = np.pi >= 3\n",
    "print(y)"
   ]
  },
  {
   "cell_type": "code",
   "execution_count": null,
   "id": "79ad3c22",
   "metadata": {},
   "outputs": [],
   "source": [
    "print(type(y))"
   ]
  },
  {
   "cell_type": "code",
   "execution_count": null,
   "id": "0ccfdc8d",
   "metadata": {},
   "outputs": [],
   "source": []
  },
  {
   "cell_type": "code",
   "execution_count": null,
   "id": "f7d71531",
   "metadata": {},
   "outputs": [],
   "source": [
    "x = bool(0)\n",
    "y = bool()\n",
    "z = bool('d')\n",
    "print(x)\n",
    "print(y)\n",
    "print(z)"
   ]
  },
  {
   "cell_type": "markdown",
   "id": "21df3d75",
   "metadata": {},
   "source": [
    "# 3. Mathematial Operations"
   ]
  },
  {
   "cell_type": "markdown",
   "id": "f32749d8",
   "metadata": {},
   "source": [
    "###### Additon & Subtraction"
   ]
  },
  {
   "cell_type": "code",
   "execution_count": 1,
   "id": "4135a3b3",
   "metadata": {},
   "outputs": [
    {
     "name": "stdout",
     "output_type": "stream",
     "text": [
      "5.6\n"
     ]
    }
   ],
   "source": [
    "a = 4.3\n",
    "b = 1.3\n",
    "c = a + b\n",
    "print(c)"
   ]
  },
  {
   "cell_type": "markdown",
   "id": "bc7e111e",
   "metadata": {},
   "source": [
    "###### Multiplication and Divison"
   ]
  },
  {
   "cell_type": "code",
   "execution_count": 2,
   "id": "0e30e567",
   "metadata": {},
   "outputs": [
    {
     "name": "stdout",
     "output_type": "stream",
     "text": [
      "5.59\n"
     ]
    }
   ],
   "source": [
    "a = 4.3\n",
    "b = 1.3\n",
    "c = a * b\n",
    "print(c)"
   ]
  },
  {
   "cell_type": "code",
   "execution_count": 3,
   "id": "2417b4a2",
   "metadata": {},
   "outputs": [
    {
     "name": "stdout",
     "output_type": "stream",
     "text": [
      "3.3076923076923075\n"
     ]
    }
   ],
   "source": [
    "d = a / b\n",
    "print(d)"
   ]
  },
  {
   "cell_type": "code",
   "execution_count": 4,
   "id": "468f6c36",
   "metadata": {},
   "outputs": [
    {
     "name": "stdout",
     "output_type": "stream",
     "text": [
      "3.0\n"
     ]
    }
   ],
   "source": [
    "e = a // b\n",
    "print(e)"
   ]
  },
  {
   "cell_type": "markdown",
   "id": "957fc4d9",
   "metadata": {},
   "source": [
    "###### Exponent"
   ]
  },
  {
   "cell_type": "code",
   "execution_count": null,
   "id": "499fa98a",
   "metadata": {},
   "outputs": [],
   "source": [
    "f = a ** b\n",
    "print(f)"
   ]
  },
  {
   "cell_type": "markdown",
   "id": "b9954343",
   "metadata": {},
   "source": [
    "###### Advanced Operations"
   ]
  },
  {
   "cell_type": "markdown",
   "id": "d27a69be",
   "metadata": {},
   "source": [
    "Sum of elements of a list"
   ]
  },
  {
   "cell_type": "code",
   "execution_count": null,
   "id": "8fa2be19",
   "metadata": {},
   "outputs": [],
   "source": [
    "import numpy as np\n",
    "\n",
    "a = [1,2,3]\n",
    "np.sum(a)"
   ]
  },
  {
   "cell_type": "markdown",
   "id": "640e9112",
   "metadata": {},
   "source": [
    "Dot product of a and b"
   ]
  },
  {
   "cell_type": "code",
   "execution_count": null,
   "id": "9ec0ecac",
   "metadata": {},
   "outputs": [],
   "source": [
    "b = [6,7,8]\n",
    "np.dot(a,b)"
   ]
  },
  {
   "cell_type": "markdown",
   "id": "b895fb96",
   "metadata": {},
   "source": [
    "Cross product of a and b"
   ]
  },
  {
   "cell_type": "code",
   "execution_count": null,
   "id": "853d2023",
   "metadata": {},
   "outputs": [],
   "source": [
    "np.cross(a,b)"
   ]
  },
  {
   "cell_type": "markdown",
   "id": "3b96fcaa",
   "metadata": {},
   "source": [
    "# 4. Strings"
   ]
  },
  {
   "cell_type": "code",
   "execution_count": null,
   "id": "574fcc98",
   "metadata": {},
   "outputs": [],
   "source": [
    "txt = 'Pluto IS a planet! Vote for Pluto'"
   ]
  },
  {
   "cell_type": "code",
   "execution_count": null,
   "id": "2c9013ed",
   "metadata": {},
   "outputs": [],
   "source": [
    "txt1 = txt.upper()\n",
    "print(txt1)"
   ]
  },
  {
   "cell_type": "code",
   "execution_count": null,
   "id": "f84cc6eb",
   "metadata": {},
   "outputs": [],
   "source": [
    "txt2 = txt.lower()\n",
    "print(txt2)"
   ]
  },
  {
   "cell_type": "code",
   "execution_count": null,
   "id": "cb6c5656",
   "metadata": {},
   "outputs": [],
   "source": [
    "txt3 = txt.replace('a planet', 'not a planet')\n",
    "print(txt3)"
   ]
  }
 ],
 "metadata": {
  "kernelspec": {
   "display_name": "Python 3 (ipykernel)",
   "language": "python",
   "name": "python3"
  },
  "language_info": {
   "codemirror_mode": {
    "name": "ipython",
    "version": 3
   },
   "file_extension": ".py",
   "mimetype": "text/x-python",
   "name": "python",
   "nbconvert_exporter": "python",
   "pygments_lexer": "ipython3",
   "version": "3.9.12"
  }
 },
 "nbformat": 4,
 "nbformat_minor": 5
}
