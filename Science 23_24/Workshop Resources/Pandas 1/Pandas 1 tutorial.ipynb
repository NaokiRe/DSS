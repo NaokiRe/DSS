{
 "cells": [
  {
   "cell_type": "markdown",
   "id": "4e43ed0e-85e8-400e-b7ce-06c623331a1b",
   "metadata": {},
   "source": [
    "# Pandas 1 tutorial"
   ]
  },
  {
   "cell_type": "markdown",
   "id": "717ea4c7-ae89-45c2-8af2-e97a7d2cba06",
   "metadata": {},
   "source": [
    "Let's get deeper to the dataframe"
   ]
  },
  {
   "cell_type": "code",
   "execution_count": 1,
   "id": "8254ba5c-abeb-45ae-82f0-edae4b057f51",
   "metadata": {
    "id": "WnJJSdOiEFML"
   },
   "outputs": [],
   "source": [
    "import pandas as pd\n",
    "import numpy as np\n",
    "import matplotlib.pyplot as plt"
   ]
  },
  {
   "cell_type": "code",
   "execution_count": 2,
   "id": "1dffc0b4-d742-4af2-ba1e-701701d49c6e",
   "metadata": {
    "id": "Fhl2EIyLEFMR"
   },
   "outputs": [],
   "source": [
    "real_estate = pd.read_csv(\"real_estate_tutorial.csv\")"
   ]
  },
  {
   "cell_type": "markdown",
   "id": "e865b94f-b596-41d2-a69c-ef38f2ffc221",
   "metadata": {},
   "source": [
    "Unique values"
   ]
  },
  {
   "cell_type": "code",
   "execution_count": 3,
   "id": "6cffb62c-aaf1-44a4-a938-9e2ee16e4631",
   "metadata": {
    "colab": {
     "base_uri": "https://localhost:8080/"
    },
    "executionInfo": {
     "elapsed": 341,
     "status": "ok",
     "timestamp": 1698581625166,
     "user": {
      "displayName": "Hazel",
      "userId": "09231924503958231039"
     },
     "user_tz": 0
    },
    "id": "zTwvxklZEFMT",
    "outputId": "09b662fc-4ce8-4af3-ba53-72521913d891"
   },
   "outputs": [
    {
     "data": {
      "text/plain": [
       "array(['Commercial', 'Residential', 'Vacant Land', nan, 'Apartments',\n",
       "       'Industrial', 'Public Utility'], dtype=object)"
      ]
     },
     "execution_count": 3,
     "metadata": {},
     "output_type": "execute_result"
    }
   ],
   "source": [
    "real_estate['Property Type'].unique() #returns the unique values in a column"
   ]
  },
  {
   "cell_type": "code",
   "execution_count": 20,
   "id": "6d7d5786-a850-4ce4-8232-473752344089",
   "metadata": {
    "colab": {
     "base_uri": "https://localhost:8080/"
    },
    "executionInfo": {
     "elapsed": 2,
     "status": "ok",
     "timestamp": 1698582431290,
     "user": {
      "displayName": "Hazel",
      "userId": "09231924503958231039"
     },
     "user_tz": 0
    },
    "id": "N-kD4RMHEFMT",
    "outputId": "84afd9e0-ff4e-4ef5-fba8-c79a51568b82"
   },
   "outputs": [
    {
     "data": {
      "text/plain": [
       "Residential       8925\n",
       "Vacant Land        495\n",
       "Commercial         342\n",
       "Apartments          76\n",
       "Industrial          32\n",
       "Public Utility       1\n",
       "Name: Property Type, dtype: int64"
      ]
     },
     "execution_count": 20,
     "metadata": {},
     "output_type": "execute_result"
    }
   ],
   "source": [
    "real_estate['Property Type'].value_counts() #returns the number of times each unique value appears in a column"
   ]
  },
  {
   "cell_type": "markdown",
   "id": "a20a304a-e273-4d10-b50e-4bf63a29a4f2",
   "metadata": {},
   "source": [
    "Finding rows with null values"
   ]
  },
  {
   "cell_type": "code",
   "execution_count": 4,
   "id": "9e907c7b-995b-41b9-bd4a-029254307409",
   "metadata": {
    "colab": {
     "base_uri": "https://localhost:8080/",
     "height": 345
    },
    "executionInfo": {
     "elapsed": 387,
     "status": "ok",
     "timestamp": 1698582321191,
     "user": {
      "displayName": "Hazel",
      "userId": "09231924503958231039"
     },
     "user_tz": 0
    },
    "id": "_t1xjUswEFMT",
    "outputId": "30a75c05-cbdb-44ab-96cc-66a3ef0abf49"
   },
   "outputs": [
    {
     "data": {
      "text/html": [
       "<div>\n",
       "<style scoped>\n",
       "    .dataframe tbody tr th:only-of-type {\n",
       "        vertical-align: middle;\n",
       "    }\n",
       "\n",
       "    .dataframe tbody tr th {\n",
       "        vertical-align: top;\n",
       "    }\n",
       "\n",
       "    .dataframe thead th {\n",
       "        text-align: right;\n",
       "    }\n",
       "</style>\n",
       "<table border=\"1\" class=\"dataframe\">\n",
       "  <thead>\n",
       "    <tr style=\"text-align: right;\">\n",
       "      <th></th>\n",
       "      <th>Serial Number</th>\n",
       "      <th>List Year</th>\n",
       "      <th>Date Recorded</th>\n",
       "      <th>Town</th>\n",
       "      <th>Address</th>\n",
       "      <th>Assessed Value</th>\n",
       "      <th>Sale Amount</th>\n",
       "      <th>Sales Ratio</th>\n",
       "      <th>Property Type</th>\n",
       "      <th>Residential Type</th>\n",
       "      <th>Non Use Code</th>\n",
       "      <th>Assessor Remarks</th>\n",
       "      <th>OPM remarks</th>\n",
       "      <th>Location</th>\n",
       "    </tr>\n",
       "  </thead>\n",
       "  <tbody>\n",
       "    <tr>\n",
       "      <th>0</th>\n",
       "      <td>2020348</td>\n",
       "      <td>2020</td>\n",
       "      <td>09/13/2021</td>\n",
       "      <td>Ansonia</td>\n",
       "      <td>230 WAKELEE AVE</td>\n",
       "      <td>150500</td>\n",
       "      <td>325000.0</td>\n",
       "      <td>0.4630</td>\n",
       "      <td>Commercial</td>\n",
       "      <td>NaN</td>\n",
       "      <td>NaN</td>\n",
       "      <td>NaN</td>\n",
       "      <td>NaN</td>\n",
       "      <td>NaN</td>\n",
       "    </tr>\n",
       "    <tr>\n",
       "      <th>1</th>\n",
       "      <td>20002</td>\n",
       "      <td>2020</td>\n",
       "      <td>10/2/2020</td>\n",
       "      <td>Ashford</td>\n",
       "      <td>390 TURNPIKE RD</td>\n",
       "      <td>253000</td>\n",
       "      <td>430000.0</td>\n",
       "      <td>0.5883</td>\n",
       "      <td>Residential</td>\n",
       "      <td>Single Family</td>\n",
       "      <td>NaN</td>\n",
       "      <td>NaN</td>\n",
       "      <td>NaN</td>\n",
       "      <td>NaN</td>\n",
       "    </tr>\n",
       "    <tr>\n",
       "      <th>2</th>\n",
       "      <td>200212</td>\n",
       "      <td>2020</td>\n",
       "      <td>3/9/2021</td>\n",
       "      <td>Avon</td>\n",
       "      <td>5 CHESTNUT DRIVE</td>\n",
       "      <td>130400</td>\n",
       "      <td>179900.0</td>\n",
       "      <td>0.7248</td>\n",
       "      <td>Residential</td>\n",
       "      <td>Condo</td>\n",
       "      <td>NaN</td>\n",
       "      <td>NaN</td>\n",
       "      <td>NaN</td>\n",
       "      <td>NaN</td>\n",
       "    </tr>\n",
       "    <tr>\n",
       "      <th>3</th>\n",
       "      <td>200243</td>\n",
       "      <td>2020</td>\n",
       "      <td>04/13/2021</td>\n",
       "      <td>Avon</td>\n",
       "      <td>111 NORTHINGTON DRIVE</td>\n",
       "      <td>619290</td>\n",
       "      <td>890000.0</td>\n",
       "      <td>0.6958</td>\n",
       "      <td>Residential</td>\n",
       "      <td>Single Family</td>\n",
       "      <td>NaN</td>\n",
       "      <td>NaN</td>\n",
       "      <td>NaN</td>\n",
       "      <td>NaN</td>\n",
       "    </tr>\n",
       "    <tr>\n",
       "      <th>4</th>\n",
       "      <td>200377</td>\n",
       "      <td>2020</td>\n",
       "      <td>7/2/2021</td>\n",
       "      <td>Avon</td>\n",
       "      <td>70 FAR HILLS DRIVE</td>\n",
       "      <td>862330</td>\n",
       "      <td>1447500.0</td>\n",
       "      <td>0.5957</td>\n",
       "      <td>Residential</td>\n",
       "      <td>Single Family</td>\n",
       "      <td>NaN</td>\n",
       "      <td>NaN</td>\n",
       "      <td>NaN</td>\n",
       "      <td>NaN</td>\n",
       "    </tr>\n",
       "  </tbody>\n",
       "</table>\n",
       "</div>"
      ],
      "text/plain": [
       "   Serial Number  List Year Date Recorded     Town                Address  \\\n",
       "0        2020348       2020    09/13/2021  Ansonia        230 WAKELEE AVE   \n",
       "1          20002       2020     10/2/2020  Ashford        390 TURNPIKE RD   \n",
       "2         200212       2020      3/9/2021     Avon       5 CHESTNUT DRIVE   \n",
       "3         200243       2020    04/13/2021     Avon  111 NORTHINGTON DRIVE   \n",
       "4         200377       2020      7/2/2021     Avon     70 FAR HILLS DRIVE   \n",
       "\n",
       "   Assessed Value  Sale Amount  Sales Ratio Property Type Residential Type  \\\n",
       "0          150500     325000.0       0.4630    Commercial              NaN   \n",
       "1          253000     430000.0       0.5883   Residential    Single Family   \n",
       "2          130400     179900.0       0.7248   Residential            Condo   \n",
       "3          619290     890000.0       0.6958   Residential    Single Family   \n",
       "4          862330    1447500.0       0.5957   Residential    Single Family   \n",
       "\n",
       "  Non Use Code Assessor Remarks OPM remarks Location  \n",
       "0          NaN              NaN         NaN      NaN  \n",
       "1          NaN              NaN         NaN      NaN  \n",
       "2          NaN              NaN         NaN      NaN  \n",
       "3          NaN              NaN         NaN      NaN  \n",
       "4          NaN              NaN         NaN      NaN  "
      ]
     },
     "execution_count": 4,
     "metadata": {},
     "output_type": "execute_result"
    }
   ],
   "source": [
    "real_estate[real_estate['Non Use Code'].isna()].head() #selecting rows where a column is null"
   ]
  },
  {
   "cell_type": "code",
   "execution_count": 5,
   "id": "6ad611db-e711-4d06-a5ca-ddfbe2eea1f7",
   "metadata": {
    "colab": {
     "base_uri": "https://localhost:8080/",
     "height": 397
    },
    "executionInfo": {
     "elapsed": 250,
     "status": "ok",
     "timestamp": 1698581734497,
     "user": {
      "displayName": "Hazel",
      "userId": "09231924503958231039"
     },
     "user_tz": 0
    },
    "id": "TMf1up9bEFMU",
    "outputId": "12d7bbd7-b6a1-4138-b617-11494a5f1bf1"
   },
   "outputs": [
    {
     "data": {
      "text/html": [
       "<div>\n",
       "<style scoped>\n",
       "    .dataframe tbody tr th:only-of-type {\n",
       "        vertical-align: middle;\n",
       "    }\n",
       "\n",
       "    .dataframe tbody tr th {\n",
       "        vertical-align: top;\n",
       "    }\n",
       "\n",
       "    .dataframe thead th {\n",
       "        text-align: right;\n",
       "    }\n",
       "</style>\n",
       "<table border=\"1\" class=\"dataframe\">\n",
       "  <thead>\n",
       "    <tr style=\"text-align: right;\">\n",
       "      <th></th>\n",
       "      <th>Serial Number</th>\n",
       "      <th>List Year</th>\n",
       "      <th>Date Recorded</th>\n",
       "      <th>Town</th>\n",
       "      <th>Address</th>\n",
       "      <th>Assessed Value</th>\n",
       "      <th>Sale Amount</th>\n",
       "      <th>Sales Ratio</th>\n",
       "      <th>Property Type</th>\n",
       "      <th>Residential Type</th>\n",
       "      <th>Non Use Code</th>\n",
       "      <th>Assessor Remarks</th>\n",
       "      <th>OPM remarks</th>\n",
       "      <th>Location</th>\n",
       "    </tr>\n",
       "  </thead>\n",
       "  <tbody>\n",
       "    <tr>\n",
       "      <th>6</th>\n",
       "      <td>2020180</td>\n",
       "      <td>2020</td>\n",
       "      <td>3/1/2021</td>\n",
       "      <td>Berlin</td>\n",
       "      <td>1539 FARMINGTON AVE</td>\n",
       "      <td>234200</td>\n",
       "      <td>130000.0</td>\n",
       "      <td>1.8015</td>\n",
       "      <td>Residential</td>\n",
       "      <td>Two Family</td>\n",
       "      <td>08 - Part Interest</td>\n",
       "      <td>NaN</td>\n",
       "      <td>NaN</td>\n",
       "      <td>NaN</td>\n",
       "    </tr>\n",
       "    <tr>\n",
       "      <th>18</th>\n",
       "      <td>201212</td>\n",
       "      <td>2020</td>\n",
       "      <td>08/23/2021</td>\n",
       "      <td>Bristol</td>\n",
       "      <td>8 JENNINGS TERR</td>\n",
       "      <td>88060</td>\n",
       "      <td>91000.0</td>\n",
       "      <td>0.9676</td>\n",
       "      <td>Residential</td>\n",
       "      <td>Single Family</td>\n",
       "      <td>14 - Foreclosure</td>\n",
       "      <td>FORECLOSURE SALE OUT OF BANK</td>\n",
       "      <td>NaN</td>\n",
       "      <td>NaN</td>\n",
       "    </tr>\n",
       "    <tr>\n",
       "      <th>24</th>\n",
       "      <td>2000330</td>\n",
       "      <td>2020</td>\n",
       "      <td>05/20/2021</td>\n",
       "      <td>Cheshire</td>\n",
       "      <td>844 HIGHLAND AVE</td>\n",
       "      <td>144220</td>\n",
       "      <td>204000.0</td>\n",
       "      <td>0.7069</td>\n",
       "      <td>Residential</td>\n",
       "      <td>Single Family</td>\n",
       "      <td>25 - Other</td>\n",
       "      <td>DEFERRED MAINTENANCE</td>\n",
       "      <td>NaN</td>\n",
       "      <td>NaN</td>\n",
       "    </tr>\n",
       "    <tr>\n",
       "      <th>39</th>\n",
       "      <td>201018</td>\n",
       "      <td>2020</td>\n",
       "      <td>6/3/2021</td>\n",
       "      <td>Danbury</td>\n",
       "      <td>55 FOREST AV</td>\n",
       "      <td>136900</td>\n",
       "      <td>150000.0</td>\n",
       "      <td>0.9126</td>\n",
       "      <td>Residential</td>\n",
       "      <td>Single Family</td>\n",
       "      <td>01 - Family</td>\n",
       "      <td>FAMILY TRANSFER / I11200</td>\n",
       "      <td>NaN</td>\n",
       "      <td>NaN</td>\n",
       "    </tr>\n",
       "    <tr>\n",
       "      <th>45</th>\n",
       "      <td>20013</td>\n",
       "      <td>2020</td>\n",
       "      <td>12/16/2020</td>\n",
       "      <td>Eastford</td>\n",
       "      <td>GENERAL LYON RD</td>\n",
       "      <td>2200</td>\n",
       "      <td>20000.0</td>\n",
       "      <td>0.1100</td>\n",
       "      <td>Vacant Land</td>\n",
       "      <td>NaN</td>\n",
       "      <td>12 - Non Buildable Lot</td>\n",
       "      <td>UNBLDBL</td>\n",
       "      <td>NaN</td>\n",
       "      <td>NaN</td>\n",
       "    </tr>\n",
       "  </tbody>\n",
       "</table>\n",
       "</div>"
      ],
      "text/plain": [
       "    Serial Number  List Year Date Recorded      Town              Address  \\\n",
       "6         2020180       2020      3/1/2021    Berlin  1539 FARMINGTON AVE   \n",
       "18         201212       2020    08/23/2021   Bristol      8 JENNINGS TERR   \n",
       "24        2000330       2020    05/20/2021  Cheshire     844 HIGHLAND AVE   \n",
       "39         201018       2020      6/3/2021   Danbury         55 FOREST AV   \n",
       "45          20013       2020    12/16/2020  Eastford      GENERAL LYON RD   \n",
       "\n",
       "    Assessed Value  Sale Amount  Sales Ratio Property Type Residential Type  \\\n",
       "6           234200     130000.0       1.8015   Residential       Two Family   \n",
       "18           88060      91000.0       0.9676   Residential    Single Family   \n",
       "24          144220     204000.0       0.7069   Residential    Single Family   \n",
       "39          136900     150000.0       0.9126   Residential    Single Family   \n",
       "45            2200      20000.0       0.1100   Vacant Land              NaN   \n",
       "\n",
       "              Non Use Code              Assessor Remarks OPM remarks Location  \n",
       "6       08 - Part Interest                           NaN         NaN      NaN  \n",
       "18        14 - Foreclosure  FORECLOSURE SALE OUT OF BANK         NaN      NaN  \n",
       "24              25 - Other          DEFERRED MAINTENANCE         NaN      NaN  \n",
       "39             01 - Family      FAMILY TRANSFER / I11200         NaN      NaN  \n",
       "45  12 - Non Buildable Lot                       UNBLDBL         NaN      NaN  "
      ]
     },
     "execution_count": 5,
     "metadata": {},
     "output_type": "execute_result"
    }
   ],
   "source": [
    "real_estate[~real_estate['Non Use Code'].isna()].head() #selecting rows where a column is not null"
   ]
  },
  {
   "cell_type": "code",
   "execution_count": 23,
   "id": "5d686ae9-f5c9-4c24-8e02-7458b7a37e2d",
   "metadata": {
    "colab": {
     "base_uri": "https://localhost:8080/"
    },
    "executionInfo": {
     "elapsed": 394,
     "status": "ok",
     "timestamp": 1698581780775,
     "user": {
      "displayName": "Hazel",
      "userId": "09231924503958231039"
     },
     "user_tz": 0
    },
    "id": "66uCoy7yEFMZ",
    "outputId": "6eef7fc5-7fe9-46f5-d3b2-be0d74dd4153"
   },
   "outputs": [
    {
     "data": {
      "text/plain": [
       "array([2020, 2001, 2002], dtype=int64)"
      ]
     },
     "execution_count": 23,
     "metadata": {},
     "output_type": "execute_result"
    }
   ],
   "source": [
    "real_estate['List Year'][~(real_estate['List Year']==2019)].unique() #selecting rows where a column is not equal to a value\n",
    "#REMEMBER BRACKETS"
   ]
  },
  {
   "cell_type": "markdown",
   "id": "f49c93fb-d559-4fa3-b88f-83b374d9c1bf",
   "metadata": {},
   "source": [
    "Filtering using list"
   ]
  },
  {
   "cell_type": "code",
   "execution_count": 24,
   "id": "2abb8996-b708-4393-9405-1a2e6dbd46d9",
   "metadata": {
    "colab": {
     "base_uri": "https://localhost:8080/"
    },
    "executionInfo": {
     "elapsed": 221,
     "status": "ok",
     "timestamp": 1698581789493,
     "user": {
      "displayName": "Hazel",
      "userId": "09231924503958231039"
     },
     "user_tz": 0
    },
    "id": "V3AU2CNHEFMa",
    "outputId": "0bc96a2d-4572-45bd-cfe6-e3a0049752ca"
   },
   "outputs": [
    {
     "data": {
      "text/plain": [
       "0       True\n",
       "1       True\n",
       "2       True\n",
       "3       True\n",
       "4       True\n",
       "        ... \n",
       "9994    True\n",
       "9995    True\n",
       "9996    True\n",
       "9997    True\n",
       "9998    True\n",
       "Name: List Year, Length: 9999, dtype: bool"
      ]
     },
     "execution_count": 24,
     "metadata": {},
     "output_type": "execute_result"
    }
   ],
   "source": [
    "real_estate['List Year'].isin([2020])"
   ]
  },
  {
   "cell_type": "code",
   "execution_count": 25,
   "id": "34c18c88-64ff-4cab-970a-aad6b5dfb61e",
   "metadata": {
    "colab": {
     "base_uri": "https://localhost:8080/",
     "height": 632
    },
    "executionInfo": {
     "elapsed": 333,
     "status": "ok",
     "timestamp": 1698581884216,
     "user": {
      "displayName": "Hazel",
      "userId": "09231924503958231039"
     },
     "user_tz": 0
    },
    "id": "LgFweE5cEFMa",
    "outputId": "5fdd3734-8352-4e90-e984-68c1b6f2d9fd"
   },
   "outputs": [
    {
     "data": {
      "text/html": [
       "<div>\n",
       "<style scoped>\n",
       "    .dataframe tbody tr th:only-of-type {\n",
       "        vertical-align: middle;\n",
       "    }\n",
       "\n",
       "    .dataframe tbody tr th {\n",
       "        vertical-align: top;\n",
       "    }\n",
       "\n",
       "    .dataframe thead th {\n",
       "        text-align: right;\n",
       "    }\n",
       "</style>\n",
       "<table border=\"1\" class=\"dataframe\">\n",
       "  <thead>\n",
       "    <tr style=\"text-align: right;\">\n",
       "      <th></th>\n",
       "      <th>Serial Number</th>\n",
       "      <th>List Year</th>\n",
       "      <th>Date Recorded</th>\n",
       "      <th>Town</th>\n",
       "      <th>Address</th>\n",
       "      <th>Assessed Value</th>\n",
       "      <th>Sale Amount</th>\n",
       "      <th>Sales Ratio</th>\n",
       "      <th>Property Type</th>\n",
       "      <th>Residential Type</th>\n",
       "      <th>Non Use Code</th>\n",
       "      <th>Assessor Remarks</th>\n",
       "      <th>OPM remarks</th>\n",
       "      <th>Location</th>\n",
       "    </tr>\n",
       "  </thead>\n",
       "  <tbody>\n",
       "    <tr>\n",
       "      <th>0</th>\n",
       "      <td>2020348</td>\n",
       "      <td>2020</td>\n",
       "      <td>09/13/2021</td>\n",
       "      <td>Ansonia</td>\n",
       "      <td>230 WAKELEE AVE</td>\n",
       "      <td>150500</td>\n",
       "      <td>325000.0</td>\n",
       "      <td>0.463000</td>\n",
       "      <td>Commercial</td>\n",
       "      <td>NaN</td>\n",
       "      <td>NaN</td>\n",
       "      <td>NaN</td>\n",
       "      <td>NaN</td>\n",
       "      <td>NaN</td>\n",
       "    </tr>\n",
       "    <tr>\n",
       "      <th>1</th>\n",
       "      <td>20002</td>\n",
       "      <td>2020</td>\n",
       "      <td>10/2/2020</td>\n",
       "      <td>Ashford</td>\n",
       "      <td>390 TURNPIKE RD</td>\n",
       "      <td>253000</td>\n",
       "      <td>430000.0</td>\n",
       "      <td>0.588300</td>\n",
       "      <td>Residential</td>\n",
       "      <td>Single Family</td>\n",
       "      <td>NaN</td>\n",
       "      <td>NaN</td>\n",
       "      <td>NaN</td>\n",
       "      <td>NaN</td>\n",
       "    </tr>\n",
       "    <tr>\n",
       "      <th>2</th>\n",
       "      <td>200212</td>\n",
       "      <td>2020</td>\n",
       "      <td>3/9/2021</td>\n",
       "      <td>Avon</td>\n",
       "      <td>5 CHESTNUT DRIVE</td>\n",
       "      <td>130400</td>\n",
       "      <td>179900.0</td>\n",
       "      <td>0.724800</td>\n",
       "      <td>Residential</td>\n",
       "      <td>Condo</td>\n",
       "      <td>NaN</td>\n",
       "      <td>NaN</td>\n",
       "      <td>NaN</td>\n",
       "      <td>NaN</td>\n",
       "    </tr>\n",
       "    <tr>\n",
       "      <th>3</th>\n",
       "      <td>200243</td>\n",
       "      <td>2020</td>\n",
       "      <td>04/13/2021</td>\n",
       "      <td>Avon</td>\n",
       "      <td>111 NORTHINGTON DRIVE</td>\n",
       "      <td>619290</td>\n",
       "      <td>890000.0</td>\n",
       "      <td>0.695800</td>\n",
       "      <td>Residential</td>\n",
       "      <td>Single Family</td>\n",
       "      <td>NaN</td>\n",
       "      <td>NaN</td>\n",
       "      <td>NaN</td>\n",
       "      <td>NaN</td>\n",
       "    </tr>\n",
       "    <tr>\n",
       "      <th>4</th>\n",
       "      <td>200377</td>\n",
       "      <td>2020</td>\n",
       "      <td>7/2/2021</td>\n",
       "      <td>Avon</td>\n",
       "      <td>70 FAR HILLS DRIVE</td>\n",
       "      <td>862330</td>\n",
       "      <td>1447500.0</td>\n",
       "      <td>0.595700</td>\n",
       "      <td>Residential</td>\n",
       "      <td>Single Family</td>\n",
       "      <td>NaN</td>\n",
       "      <td>NaN</td>\n",
       "      <td>NaN</td>\n",
       "      <td>NaN</td>\n",
       "    </tr>\n",
       "    <tr>\n",
       "      <th>...</th>\n",
       "      <td>...</td>\n",
       "      <td>...</td>\n",
       "      <td>...</td>\n",
       "      <td>...</td>\n",
       "      <td>...</td>\n",
       "      <td>...</td>\n",
       "      <td>...</td>\n",
       "      <td>...</td>\n",
       "      <td>...</td>\n",
       "      <td>...</td>\n",
       "      <td>...</td>\n",
       "      <td>...</td>\n",
       "      <td>...</td>\n",
       "      <td>...</td>\n",
       "    </tr>\n",
       "    <tr>\n",
       "      <th>9994</th>\n",
       "      <td>200916</td>\n",
       "      <td>2020</td>\n",
       "      <td>06/15/2021</td>\n",
       "      <td>Bristol</td>\n",
       "      <td>30 FAIRVIEW AVE</td>\n",
       "      <td>88270</td>\n",
       "      <td>210000.0</td>\n",
       "      <td>0.420333</td>\n",
       "      <td>Residential</td>\n",
       "      <td>Single Family</td>\n",
       "      <td>07 - Change in Property</td>\n",
       "      <td>NaN</td>\n",
       "      <td>HAS FINISHED BASEMENT AREA AND RENOVATED KITCH...</td>\n",
       "      <td>NaN</td>\n",
       "    </tr>\n",
       "    <tr>\n",
       "      <th>9995</th>\n",
       "      <td>200404</td>\n",
       "      <td>2020</td>\n",
       "      <td>06/24/2021</td>\n",
       "      <td>Guilford</td>\n",
       "      <td>50 DRIVEWAY</td>\n",
       "      <td>235990</td>\n",
       "      <td>425000.0</td>\n",
       "      <td>0.555200</td>\n",
       "      <td>Commercial</td>\n",
       "      <td>NaN</td>\n",
       "      <td>15 - Government Agency</td>\n",
       "      <td>NaN</td>\n",
       "      <td>NaN</td>\n",
       "      <td>POINT (-72.67338 41.27673)</td>\n",
       "    </tr>\n",
       "    <tr>\n",
       "      <th>9996</th>\n",
       "      <td>200207</td>\n",
       "      <td>2020</td>\n",
       "      <td>05/26/2021</td>\n",
       "      <td>Colchester</td>\n",
       "      <td>71 WESTERLY TERR</td>\n",
       "      <td>105200</td>\n",
       "      <td>185000.0</td>\n",
       "      <td>0.568600</td>\n",
       "      <td>Residential</td>\n",
       "      <td>Single Family</td>\n",
       "      <td>NaN</td>\n",
       "      <td>NaN</td>\n",
       "      <td>NaN</td>\n",
       "      <td>NaN</td>\n",
       "    </tr>\n",
       "    <tr>\n",
       "      <th>9997</th>\n",
       "      <td>200060</td>\n",
       "      <td>2020</td>\n",
       "      <td>10/19/2020</td>\n",
       "      <td>Manchester</td>\n",
       "      <td>161 LAKE STREET</td>\n",
       "      <td>137300</td>\n",
       "      <td>215000.0</td>\n",
       "      <td>0.638600</td>\n",
       "      <td>Residential</td>\n",
       "      <td>Single Family</td>\n",
       "      <td>NaN</td>\n",
       "      <td>NaN</td>\n",
       "      <td>NaN</td>\n",
       "      <td>NaN</td>\n",
       "    </tr>\n",
       "    <tr>\n",
       "      <th>9998</th>\n",
       "      <td>201273</td>\n",
       "      <td>2020</td>\n",
       "      <td>07/28/2021</td>\n",
       "      <td>Danbury</td>\n",
       "      <td>2 PARKWOOD TERR DR</td>\n",
       "      <td>225000</td>\n",
       "      <td>480000.0</td>\n",
       "      <td>0.468700</td>\n",
       "      <td>Residential</td>\n",
       "      <td>Single Family</td>\n",
       "      <td>NaN</td>\n",
       "      <td>K05153</td>\n",
       "      <td>NaN</td>\n",
       "      <td>NaN</td>\n",
       "    </tr>\n",
       "  </tbody>\n",
       "</table>\n",
       "<p>9872 rows × 14 columns</p>\n",
       "</div>"
      ],
      "text/plain": [
       "      Serial Number  List Year Date Recorded        Town  \\\n",
       "0           2020348       2020    09/13/2021     Ansonia   \n",
       "1             20002       2020     10/2/2020     Ashford   \n",
       "2            200212       2020      3/9/2021        Avon   \n",
       "3            200243       2020    04/13/2021        Avon   \n",
       "4            200377       2020      7/2/2021        Avon   \n",
       "...             ...        ...           ...         ...   \n",
       "9994         200916       2020    06/15/2021     Bristol   \n",
       "9995         200404       2020    06/24/2021    Guilford   \n",
       "9996         200207       2020    05/26/2021  Colchester   \n",
       "9997         200060       2020    10/19/2020  Manchester   \n",
       "9998         201273       2020    07/28/2021     Danbury   \n",
       "\n",
       "                    Address  Assessed Value  Sale Amount  Sales Ratio  \\\n",
       "0           230 WAKELEE AVE          150500     325000.0     0.463000   \n",
       "1           390 TURNPIKE RD          253000     430000.0     0.588300   \n",
       "2          5 CHESTNUT DRIVE          130400     179900.0     0.724800   \n",
       "3     111 NORTHINGTON DRIVE          619290     890000.0     0.695800   \n",
       "4        70 FAR HILLS DRIVE          862330    1447500.0     0.595700   \n",
       "...                     ...             ...          ...          ...   \n",
       "9994        30 FAIRVIEW AVE           88270     210000.0     0.420333   \n",
       "9995            50 DRIVEWAY          235990     425000.0     0.555200   \n",
       "9996       71 WESTERLY TERR          105200     185000.0     0.568600   \n",
       "9997        161 LAKE STREET          137300     215000.0     0.638600   \n",
       "9998     2 PARKWOOD TERR DR          225000     480000.0     0.468700   \n",
       "\n",
       "     Property Type Residential Type             Non Use Code Assessor Remarks  \\\n",
       "0       Commercial              NaN                      NaN              NaN   \n",
       "1      Residential    Single Family                      NaN              NaN   \n",
       "2      Residential            Condo                      NaN              NaN   \n",
       "3      Residential    Single Family                      NaN              NaN   \n",
       "4      Residential    Single Family                      NaN              NaN   \n",
       "...            ...              ...                      ...              ...   \n",
       "9994   Residential    Single Family  07 - Change in Property              NaN   \n",
       "9995    Commercial              NaN   15 - Government Agency              NaN   \n",
       "9996   Residential    Single Family                      NaN              NaN   \n",
       "9997   Residential    Single Family                      NaN              NaN   \n",
       "9998   Residential    Single Family                      NaN           K05153   \n",
       "\n",
       "                                            OPM remarks  \\\n",
       "0                                                   NaN   \n",
       "1                                                   NaN   \n",
       "2                                                   NaN   \n",
       "3                                                   NaN   \n",
       "4                                                   NaN   \n",
       "...                                                 ...   \n",
       "9994  HAS FINISHED BASEMENT AREA AND RENOVATED KITCH...   \n",
       "9995                                                NaN   \n",
       "9996                                                NaN   \n",
       "9997                                                NaN   \n",
       "9998                                                NaN   \n",
       "\n",
       "                        Location  \n",
       "0                            NaN  \n",
       "1                            NaN  \n",
       "2                            NaN  \n",
       "3                            NaN  \n",
       "4                            NaN  \n",
       "...                          ...  \n",
       "9994                         NaN  \n",
       "9995  POINT (-72.67338 41.27673)  \n",
       "9996                         NaN  \n",
       "9997                         NaN  \n",
       "9998                         NaN  \n",
       "\n",
       "[9872 rows x 14 columns]"
      ]
     },
     "execution_count": 25,
     "metadata": {},
     "output_type": "execute_result"
    }
   ],
   "source": [
    "real_estate[real_estate['List Year'].isin([2020])] #selecting rows where a column is equal to any value in a list"
   ]
  },
  {
   "cell_type": "markdown",
   "id": "f065ae4c-4e7e-4397-b9b2-515019cd8144",
   "metadata": {
    "id": "_DMU-TP-EFMa"
   },
   "source": [
    "*Exercise 6: What will the following code return:*\n",
    "\n",
    "real_estate[real_estate['List Year']==2020]"
   ]
  },
  {
   "cell_type": "code",
   "execution_count": 6,
   "id": "c56d3601-f894-4425-9ce5-c5c2fcfc187f",
   "metadata": {
    "executionInfo": {
     "elapsed": 258,
     "status": "ok",
     "timestamp": 1698581894293,
     "user": {
      "displayName": "Hazel",
      "userId": "09231924503958231039"
     },
     "user_tz": 0
    },
    "id": "Z2PLBZXYEFMa"
   },
   "outputs": [
    {
     "data": {
      "text/html": [
       "<div>\n",
       "<style scoped>\n",
       "    .dataframe tbody tr th:only-of-type {\n",
       "        vertical-align: middle;\n",
       "    }\n",
       "\n",
       "    .dataframe tbody tr th {\n",
       "        vertical-align: top;\n",
       "    }\n",
       "\n",
       "    .dataframe thead th {\n",
       "        text-align: right;\n",
       "    }\n",
       "</style>\n",
       "<table border=\"1\" class=\"dataframe\">\n",
       "  <thead>\n",
       "    <tr style=\"text-align: right;\">\n",
       "      <th></th>\n",
       "      <th>Serial Number</th>\n",
       "      <th>List Year</th>\n",
       "      <th>Date Recorded</th>\n",
       "      <th>Town</th>\n",
       "      <th>Address</th>\n",
       "      <th>Assessed Value</th>\n",
       "      <th>Sale Amount</th>\n",
       "      <th>Sales Ratio</th>\n",
       "      <th>Property Type</th>\n",
       "      <th>Residential Type</th>\n",
       "      <th>Non Use Code</th>\n",
       "      <th>Assessor Remarks</th>\n",
       "      <th>OPM remarks</th>\n",
       "      <th>Location</th>\n",
       "    </tr>\n",
       "  </thead>\n",
       "  <tbody>\n",
       "    <tr>\n",
       "      <th>0</th>\n",
       "      <td>2020348</td>\n",
       "      <td>2020</td>\n",
       "      <td>09/13/2021</td>\n",
       "      <td>Ansonia</td>\n",
       "      <td>230 WAKELEE AVE</td>\n",
       "      <td>150500</td>\n",
       "      <td>325000.0</td>\n",
       "      <td>0.463000</td>\n",
       "      <td>Commercial</td>\n",
       "      <td>NaN</td>\n",
       "      <td>NaN</td>\n",
       "      <td>NaN</td>\n",
       "      <td>NaN</td>\n",
       "      <td>NaN</td>\n",
       "    </tr>\n",
       "    <tr>\n",
       "      <th>1</th>\n",
       "      <td>20002</td>\n",
       "      <td>2020</td>\n",
       "      <td>10/2/2020</td>\n",
       "      <td>Ashford</td>\n",
       "      <td>390 TURNPIKE RD</td>\n",
       "      <td>253000</td>\n",
       "      <td>430000.0</td>\n",
       "      <td>0.588300</td>\n",
       "      <td>Residential</td>\n",
       "      <td>Single Family</td>\n",
       "      <td>NaN</td>\n",
       "      <td>NaN</td>\n",
       "      <td>NaN</td>\n",
       "      <td>NaN</td>\n",
       "    </tr>\n",
       "    <tr>\n",
       "      <th>2</th>\n",
       "      <td>200212</td>\n",
       "      <td>2020</td>\n",
       "      <td>3/9/2021</td>\n",
       "      <td>Avon</td>\n",
       "      <td>5 CHESTNUT DRIVE</td>\n",
       "      <td>130400</td>\n",
       "      <td>179900.0</td>\n",
       "      <td>0.724800</td>\n",
       "      <td>Residential</td>\n",
       "      <td>Condo</td>\n",
       "      <td>NaN</td>\n",
       "      <td>NaN</td>\n",
       "      <td>NaN</td>\n",
       "      <td>NaN</td>\n",
       "    </tr>\n",
       "    <tr>\n",
       "      <th>3</th>\n",
       "      <td>200243</td>\n",
       "      <td>2020</td>\n",
       "      <td>04/13/2021</td>\n",
       "      <td>Avon</td>\n",
       "      <td>111 NORTHINGTON DRIVE</td>\n",
       "      <td>619290</td>\n",
       "      <td>890000.0</td>\n",
       "      <td>0.695800</td>\n",
       "      <td>Residential</td>\n",
       "      <td>Single Family</td>\n",
       "      <td>NaN</td>\n",
       "      <td>NaN</td>\n",
       "      <td>NaN</td>\n",
       "      <td>NaN</td>\n",
       "    </tr>\n",
       "    <tr>\n",
       "      <th>4</th>\n",
       "      <td>200377</td>\n",
       "      <td>2020</td>\n",
       "      <td>7/2/2021</td>\n",
       "      <td>Avon</td>\n",
       "      <td>70 FAR HILLS DRIVE</td>\n",
       "      <td>862330</td>\n",
       "      <td>1447500.0</td>\n",
       "      <td>0.595700</td>\n",
       "      <td>Residential</td>\n",
       "      <td>Single Family</td>\n",
       "      <td>NaN</td>\n",
       "      <td>NaN</td>\n",
       "      <td>NaN</td>\n",
       "      <td>NaN</td>\n",
       "    </tr>\n",
       "    <tr>\n",
       "      <th>...</th>\n",
       "      <td>...</td>\n",
       "      <td>...</td>\n",
       "      <td>...</td>\n",
       "      <td>...</td>\n",
       "      <td>...</td>\n",
       "      <td>...</td>\n",
       "      <td>...</td>\n",
       "      <td>...</td>\n",
       "      <td>...</td>\n",
       "      <td>...</td>\n",
       "      <td>...</td>\n",
       "      <td>...</td>\n",
       "      <td>...</td>\n",
       "      <td>...</td>\n",
       "    </tr>\n",
       "    <tr>\n",
       "      <th>9994</th>\n",
       "      <td>200916</td>\n",
       "      <td>2020</td>\n",
       "      <td>06/15/2021</td>\n",
       "      <td>Bristol</td>\n",
       "      <td>30 FAIRVIEW AVE</td>\n",
       "      <td>88270</td>\n",
       "      <td>210000.0</td>\n",
       "      <td>0.420333</td>\n",
       "      <td>Residential</td>\n",
       "      <td>Single Family</td>\n",
       "      <td>07 - Change in Property</td>\n",
       "      <td>NaN</td>\n",
       "      <td>HAS FINISHED BASEMENT AREA AND RENOVATED KITCH...</td>\n",
       "      <td>NaN</td>\n",
       "    </tr>\n",
       "    <tr>\n",
       "      <th>9995</th>\n",
       "      <td>200404</td>\n",
       "      <td>2020</td>\n",
       "      <td>06/24/2021</td>\n",
       "      <td>Guilford</td>\n",
       "      <td>50 DRIVEWAY</td>\n",
       "      <td>235990</td>\n",
       "      <td>425000.0</td>\n",
       "      <td>0.555200</td>\n",
       "      <td>Commercial</td>\n",
       "      <td>NaN</td>\n",
       "      <td>15 - Government Agency</td>\n",
       "      <td>NaN</td>\n",
       "      <td>NaN</td>\n",
       "      <td>POINT (-72.67338 41.27673)</td>\n",
       "    </tr>\n",
       "    <tr>\n",
       "      <th>9996</th>\n",
       "      <td>200207</td>\n",
       "      <td>2020</td>\n",
       "      <td>05/26/2021</td>\n",
       "      <td>Colchester</td>\n",
       "      <td>71 WESTERLY TERR</td>\n",
       "      <td>105200</td>\n",
       "      <td>185000.0</td>\n",
       "      <td>0.568600</td>\n",
       "      <td>Residential</td>\n",
       "      <td>Single Family</td>\n",
       "      <td>NaN</td>\n",
       "      <td>NaN</td>\n",
       "      <td>NaN</td>\n",
       "      <td>NaN</td>\n",
       "    </tr>\n",
       "    <tr>\n",
       "      <th>9997</th>\n",
       "      <td>200060</td>\n",
       "      <td>2020</td>\n",
       "      <td>10/19/2020</td>\n",
       "      <td>Manchester</td>\n",
       "      <td>161 LAKE STREET</td>\n",
       "      <td>137300</td>\n",
       "      <td>215000.0</td>\n",
       "      <td>0.638600</td>\n",
       "      <td>Residential</td>\n",
       "      <td>Single Family</td>\n",
       "      <td>NaN</td>\n",
       "      <td>NaN</td>\n",
       "      <td>NaN</td>\n",
       "      <td>NaN</td>\n",
       "    </tr>\n",
       "    <tr>\n",
       "      <th>9998</th>\n",
       "      <td>201273</td>\n",
       "      <td>2020</td>\n",
       "      <td>07/28/2021</td>\n",
       "      <td>Danbury</td>\n",
       "      <td>2 PARKWOOD TERR DR</td>\n",
       "      <td>225000</td>\n",
       "      <td>480000.0</td>\n",
       "      <td>0.468700</td>\n",
       "      <td>Residential</td>\n",
       "      <td>Single Family</td>\n",
       "      <td>NaN</td>\n",
       "      <td>K05153</td>\n",
       "      <td>NaN</td>\n",
       "      <td>NaN</td>\n",
       "    </tr>\n",
       "  </tbody>\n",
       "</table>\n",
       "<p>9872 rows × 14 columns</p>\n",
       "</div>"
      ],
      "text/plain": [
       "      Serial Number  List Year Date Recorded        Town  \\\n",
       "0           2020348       2020    09/13/2021     Ansonia   \n",
       "1             20002       2020     10/2/2020     Ashford   \n",
       "2            200212       2020      3/9/2021        Avon   \n",
       "3            200243       2020    04/13/2021        Avon   \n",
       "4            200377       2020      7/2/2021        Avon   \n",
       "...             ...        ...           ...         ...   \n",
       "9994         200916       2020    06/15/2021     Bristol   \n",
       "9995         200404       2020    06/24/2021    Guilford   \n",
       "9996         200207       2020    05/26/2021  Colchester   \n",
       "9997         200060       2020    10/19/2020  Manchester   \n",
       "9998         201273       2020    07/28/2021     Danbury   \n",
       "\n",
       "                    Address  Assessed Value  Sale Amount  Sales Ratio  \\\n",
       "0           230 WAKELEE AVE          150500     325000.0     0.463000   \n",
       "1           390 TURNPIKE RD          253000     430000.0     0.588300   \n",
       "2          5 CHESTNUT DRIVE          130400     179900.0     0.724800   \n",
       "3     111 NORTHINGTON DRIVE          619290     890000.0     0.695800   \n",
       "4        70 FAR HILLS DRIVE          862330    1447500.0     0.595700   \n",
       "...                     ...             ...          ...          ...   \n",
       "9994        30 FAIRVIEW AVE           88270     210000.0     0.420333   \n",
       "9995            50 DRIVEWAY          235990     425000.0     0.555200   \n",
       "9996       71 WESTERLY TERR          105200     185000.0     0.568600   \n",
       "9997        161 LAKE STREET          137300     215000.0     0.638600   \n",
       "9998     2 PARKWOOD TERR DR          225000     480000.0     0.468700   \n",
       "\n",
       "     Property Type Residential Type             Non Use Code Assessor Remarks  \\\n",
       "0       Commercial              NaN                      NaN              NaN   \n",
       "1      Residential    Single Family                      NaN              NaN   \n",
       "2      Residential            Condo                      NaN              NaN   \n",
       "3      Residential    Single Family                      NaN              NaN   \n",
       "4      Residential    Single Family                      NaN              NaN   \n",
       "...            ...              ...                      ...              ...   \n",
       "9994   Residential    Single Family  07 - Change in Property              NaN   \n",
       "9995    Commercial              NaN   15 - Government Agency              NaN   \n",
       "9996   Residential    Single Family                      NaN              NaN   \n",
       "9997   Residential    Single Family                      NaN              NaN   \n",
       "9998   Residential    Single Family                      NaN           K05153   \n",
       "\n",
       "                                            OPM remarks  \\\n",
       "0                                                   NaN   \n",
       "1                                                   NaN   \n",
       "2                                                   NaN   \n",
       "3                                                   NaN   \n",
       "4                                                   NaN   \n",
       "...                                                 ...   \n",
       "9994  HAS FINISHED BASEMENT AREA AND RENOVATED KITCH...   \n",
       "9995                                                NaN   \n",
       "9996                                                NaN   \n",
       "9997                                                NaN   \n",
       "9998                                                NaN   \n",
       "\n",
       "                        Location  \n",
       "0                            NaN  \n",
       "1                            NaN  \n",
       "2                            NaN  \n",
       "3                            NaN  \n",
       "4                            NaN  \n",
       "...                          ...  \n",
       "9994                         NaN  \n",
       "9995  POINT (-72.67338 41.27673)  \n",
       "9996                         NaN  \n",
       "9997                         NaN  \n",
       "9998                         NaN  \n",
       "\n",
       "[9872 rows x 14 columns]"
      ]
     },
     "execution_count": 6,
     "metadata": {},
     "output_type": "execute_result"
    }
   ],
   "source": [
    "ex6 = real_estate[real_estate['List Year']==2020]\n",
    "ex6"
   ]
  },
  {
   "cell_type": "markdown",
   "id": "0975afdc-0af9-4741-bd58-30d1ee1c29d3",
   "metadata": {
    "id": "lqEFrxrUEFMa"
   },
   "source": [
    "*Exercise 7: How many addresses are null?*"
   ]
  },
  {
   "cell_type": "code",
   "execution_count": 7,
   "id": "ff165e3f-5a7d-4bed-b572-82608f4849d9",
   "metadata": {
    "colab": {
     "base_uri": "https://localhost:8080/"
    },
    "executionInfo": {
     "elapsed": 5,
     "status": "ok",
     "timestamp": 1698582493172,
     "user": {
      "displayName": "Hazel",
      "userId": "09231924503958231039"
     },
     "user_tz": 0
    },
    "id": "kypVbftGX8xb",
    "outputId": "c0333933-b1c4-48a0-c776-a617a7321859"
   },
   "outputs": [
    {
     "data": {
      "text/plain": [
       "Serial Number       0.0\n",
       "List Year           0.0\n",
       "Date Recorded       0.0\n",
       "Town                0.0\n",
       "Address             0.0\n",
       "Assessed Value      0.0\n",
       "Sale Amount         0.0\n",
       "Sales Ratio         0.0\n",
       "Property Type       0.0\n",
       "Residential Type    0.0\n",
       "Non Use Code        0.0\n",
       "Assessor Remarks    0.0\n",
       "OPM remarks         0.0\n",
       "Location            0.0\n",
       "dtype: float64"
      ]
     },
     "execution_count": 7,
     "metadata": {},
     "output_type": "execute_result"
    }
   ],
   "source": [
    "real_estate[real_estate['Address'].isna()].sum()"
   ]
  },
  {
   "cell_type": "markdown",
   "id": "a1a028fb-79e8-4f10-abda-d974aad37966",
   "metadata": {
    "id": "EXAE1zUWEFMa"
   },
   "source": [
    "*Exercise 8: What will the following code return:*\n",
    "\n",
    "real_estate['Property Type'][real_estate['Residential Type']=='Two Family'].unique()"
   ]
  },
  {
   "cell_type": "code",
   "execution_count": 10,
   "id": "3450b612-319b-41fc-a712-671d79ff8436",
   "metadata": {
    "colab": {
     "base_uri": "https://localhost:8080/"
    },
    "executionInfo": {
     "elapsed": 253,
     "status": "ok",
     "timestamp": 1698582254711,
     "user": {
      "displayName": "Hazel",
      "userId": "09231924503958231039"
     },
     "user_tz": 0
    },
    "id": "DhuJNEM-EFMa",
    "outputId": "6bc36720-9c46-4021-e1c3-25cbe7c20b24"
   },
   "outputs": [
    {
     "data": {
      "text/plain": [
       "array(['Residential'], dtype=object)"
      ]
     },
     "execution_count": 10,
     "metadata": {},
     "output_type": "execute_result"
    }
   ],
   "source": [
    "twofam = real_estate['Property Type'][real_estate['Residential Type']=='Two Family'].unique()\n",
    "twofam"
   ]
  },
  {
   "cell_type": "markdown",
   "id": "26519007-ff13-4fa4-8684-28d1088f28f1",
   "metadata": {
    "id": "LTLXqa6cEFMa"
   },
   "source": [
    "*Exercise 9: What will the following code return:*\n",
    "\n",
    "real_estate[real_estate['Residential Type']=='Single Family'][real_estate['Property Type'].isin(twofam)]['Property Type'].unique()"
   ]
  },
  {
   "cell_type": "code",
   "execution_count": 11,
   "id": "b02feb4e-1491-4c5c-9b53-306c784ab2d4",
   "metadata": {
    "colab": {
     "base_uri": "https://localhost:8080/"
    },
    "executionInfo": {
     "elapsed": 2,
     "status": "ok",
     "timestamp": 1698582271234,
     "user": {
      "displayName": "Hazel",
      "userId": "09231924503958231039"
     },
     "user_tz": 0
    },
    "id": "GbEEBGzEEFMa",
    "outputId": "12b65865-daf3-40f2-f8bb-feca58da8269"
   },
   "outputs": [
    {
     "name": "stderr",
     "output_type": "stream",
     "text": [
      "C:\\Users\\cheuk\\AppData\\Local\\Temp\\ipykernel_26356\\31782334.py:1: UserWarning: Boolean Series key will be reindexed to match DataFrame index.\n",
      "  ex9 = real_estate[real_estate['Residential Type']=='Single Family'][real_estate['Property Type'].isin(twofam)]['Property Type'].unique()\n"
     ]
    },
    {
     "data": {
      "text/plain": [
       "array(['Residential'], dtype=object)"
      ]
     },
     "execution_count": 11,
     "metadata": {},
     "output_type": "execute_result"
    }
   ],
   "source": [
    "ex9 = real_estate[real_estate['Residential Type']=='Single Family'][real_estate['Property Type'].isin(twofam)]['Property Type'].unique()\n",
    "ex9"
   ]
  },
  {
   "cell_type": "markdown",
   "id": "c2577f1d-96f8-46a4-94b1-89e343d48d83",
   "metadata": {
    "id": "fD0WLETWEFMa"
   },
   "source": [
    "*Exercise 10: Find how many unique towns are in the dataset*"
   ]
  },
  {
   "cell_type": "code",
   "execution_count": 53,
   "id": "4c72b79c-21b8-4597-b92f-3155db9e0d3d",
   "metadata": {
    "colab": {
     "base_uri": "https://localhost:8080/"
    },
    "executionInfo": {
     "elapsed": 461,
     "status": "ok",
     "timestamp": 1698582853627,
     "user": {
      "displayName": "Hazel",
      "userId": "09231924503958231039"
     },
     "user_tz": 0
    },
    "id": "80Ux2A-SapwK",
    "outputId": "19c1e194-5790-47c9-cf62-0595472446bb"
   },
   "outputs": [
    {
     "data": {
      "text/plain": [
       "139"
      ]
     },
     "execution_count": 53,
     "metadata": {},
     "output_type": "execute_result"
    }
   ],
   "source": [
    "len(real_estate['Town'].unique())"
   ]
  },
  {
   "cell_type": "markdown",
   "id": "46888810-7182-43aa-b9ba-34ee1579ff9d",
   "metadata": {
    "id": "ScQxn3XKEFMb"
   },
   "source": [
    "*Exercise 11: Find how many towns have a condo for sale and not a four family house (hint: revise how to use \".isin()\")*"
   ]
  },
  {
   "cell_type": "code",
   "execution_count": 33,
   "id": "4cf1eb3d-529a-4e20-8d83-a97d69ef692d",
   "metadata": {
    "colab": {
     "base_uri": "https://localhost:8080/"
    },
    "executionInfo": {
     "elapsed": 228,
     "status": "ok",
     "timestamp": 1698582973766,
     "user": {
      "displayName": "Hazel",
      "userId": "09231924503958231039"
     },
     "user_tz": 0
    },
    "id": "SiuT-4mLbCcq",
    "outputId": "7bd5eae5-13e2-4104-9267-3b4de1af215f",
    "tags": []
   },
   "outputs": [
    {
     "data": {
      "text/plain": [
       "array([nan, 'Single Family', 'Condo', 'Two Family', 'Three Family',\n",
       "       'Four Family'], dtype=object)"
      ]
     },
     "execution_count": 33,
     "metadata": {},
     "output_type": "execute_result"
    }
   ],
   "source": [
    "real_estate['Residential Type'].unique()"
   ]
  },
  {
   "cell_type": "code",
   "execution_count": 69,
   "id": "686c642e-2e3d-4c7a-be24-21a3cf720edb",
   "metadata": {},
   "outputs": [],
   "source": [
    "town_with_condo = real_estate['Town'][real_estate['Residential Type'].isin(['Condo'])].unique()"
   ]
  },
  {
   "cell_type": "code",
   "execution_count": 70,
   "id": "b47f0cb5-23a7-4642-a913-74162a52eb26",
   "metadata": {},
   "outputs": [],
   "source": [
    "town_without_fourfam = real_estate['Town'][~real_estate['Residential Type'].isin(['Four Family'])].unique()"
   ]
  },
  {
   "cell_type": "code",
   "execution_count": 72,
   "id": "ea128d24-e479-4c39-a19c-6e7b82cd0186",
   "metadata": {},
   "outputs": [
    {
     "data": {
      "text/plain": [
       "72"
      ]
     },
     "execution_count": 72,
     "metadata": {},
     "output_type": "execute_result"
    }
   ],
   "source": [
    "len(set(town_with_condo) & set(town_without_fourfam))"
   ]
  },
  {
   "cell_type": "markdown",
   "id": "564dea2e-aee0-4f87-8be2-761480d931f5",
   "metadata": {},
   "source": [
    "Chanigng data in columns"
   ]
  },
  {
   "cell_type": "code",
   "execution_count": 12,
   "id": "8d5a7544-bdc5-42ad-a877-da629ac7cfdb",
   "metadata": {
    "colab": {
     "base_uri": "https://localhost:8080/"
    },
    "executionInfo": {
     "elapsed": 285,
     "status": "ok",
     "timestamp": 1698582219454,
     "user": {
      "displayName": "Hazel",
      "userId": "09231924503958231039"
     },
     "user_tz": 0
    },
    "id": "XLJG57ldEFMb",
    "outputId": "a70586a9-1cc6-4a41-d033-d7e11c33a1a0"
   },
   "outputs": [
    {
     "name": "stdout",
     "output_type": "stream",
     "text": [
      "<class 'pandas.core.series.Series'>\n",
      "RangeIndex: 9999 entries, 0 to 9998\n",
      "Series name: List Year\n",
      "Non-Null Count  Dtype\n",
      "--------------  -----\n",
      "9999 non-null   int64\n",
      "dtypes: int64(1)\n",
      "memory usage: 78.2 KB\n"
     ]
    }
   ],
   "source": [
    "real_estate['List Year'].info()"
   ]
  },
  {
   "cell_type": "code",
   "execution_count": 13,
   "id": "1ee40b40-880c-4e38-8f12-41aa662c1528",
   "metadata": {
    "colab": {
     "base_uri": "https://localhost:8080/"
    },
    "executionInfo": {
     "elapsed": 6,
     "status": "ok",
     "timestamp": 1698582227554,
     "user": {
      "displayName": "Hazel",
      "userId": "09231924503958231039"
     },
     "user_tz": 0
    },
    "id": "wWmBeJgHEFMb",
    "outputId": "b332cb1c-2635-4793-91c2-7d54b6c1f2f1"
   },
   "outputs": [
    {
     "name": "stdout",
     "output_type": "stream",
     "text": [
      "<class 'pandas.core.series.Series'>\n",
      "RangeIndex: 9999 entries, 0 to 9998\n",
      "Series name: List Year\n",
      "Non-Null Count  Dtype \n",
      "--------------  ----- \n",
      "9999 non-null   object\n",
      "dtypes: object(1)\n",
      "memory usage: 78.2+ KB\n"
     ]
    }
   ],
   "source": [
    "real_estate['List Year'] = real_estate['List Year'].astype('str') #changing the data type of a column\n",
    "real_estate['List Year'].info()"
   ]
  },
  {
   "cell_type": "code",
   "execution_count": 36,
   "id": "7fdf114d-7efb-4b9d-a3a9-dda04ed6aeec",
   "metadata": {
    "colab": {
     "base_uri": "https://localhost:8080/"
    },
    "executionInfo": {
     "elapsed": 320,
     "status": "ok",
     "timestamp": 1698582234738,
     "user": {
      "displayName": "Hazel",
      "userId": "09231924503958231039"
     },
     "user_tz": 0
    },
    "id": "34XjzNjAEFMb",
    "outputId": "22f177b0-200f-44a1-929f-3de371c4a2d8"
   },
   "outputs": [
    {
     "data": {
      "text/plain": [
       "0    Hello\n",
       "1    World\n",
       "2        !\n",
       "dtype: object"
      ]
     },
     "execution_count": 36,
     "metadata": {},
     "output_type": "execute_result"
    }
   ],
   "source": [
    "string_list = pd.Series([\"Hello\",\"World\",\"!\"])\n",
    "string_list"
   ]
  },
  {
   "cell_type": "code",
   "execution_count": 37,
   "id": "8e51c96f-479b-48b0-ae46-fe908ef3f7be",
   "metadata": {
    "colab": {
     "base_uri": "https://localhost:8080/"
    },
    "executionInfo": {
     "elapsed": 361,
     "status": "ok",
     "timestamp": 1698583167542,
     "user": {
      "displayName": "Hazel",
      "userId": "09231924503958231039"
     },
     "user_tz": 0
    },
    "id": "Xh7WaWO2EFMb",
    "outputId": "cff8b43c-f1b9-4be6-f714-387aeaf98a5f"
   },
   "outputs": [
    {
     "data": {
      "text/plain": [
       "0    Hewwo\n",
       "1    Worwd\n",
       "2        !\n",
       "dtype: object"
      ]
     },
     "execution_count": 37,
     "metadata": {},
     "output_type": "execute_result"
    }
   ],
   "source": [
    "string_list.str.replace(\"l\",\"w\")"
   ]
  },
  {
   "cell_type": "code",
   "execution_count": 38,
   "id": "b2b26294-476f-4a13-b6b0-fd961e7ec981",
   "metadata": {
    "colab": {
     "base_uri": "https://localhost:8080/"
    },
    "executionInfo": {
     "elapsed": 214,
     "status": "ok",
     "timestamp": 1698583166183,
     "user": {
      "displayName": "Hazel",
      "userId": "09231924503958231039"
     },
     "user_tz": 0
    },
    "id": "irrh6jlkEFMb",
    "outputId": "17ea81c6-2551-498d-d34b-4654fe5493a7"
   },
   "outputs": [
    {
     "data": {
      "text/plain": [
       "0    1.000000\n",
       "1    1.414214\n",
       "2    1.732051\n",
       "3    2.000000\n",
       "4    2.236068\n",
       "5    2.449490\n",
       "6    2.645751\n",
       "7    2.828427\n",
       "8    3.000000\n",
       "9    3.162278\n",
       "dtype: float64"
      ]
     },
     "execution_count": 38,
     "metadata": {},
     "output_type": "execute_result"
    }
   ],
   "source": [
    "numbers = pd.Series([1,2,3,4,5,6,7,8,9,10])\n",
    "numbers.apply(np.sqrt)"
   ]
  },
  {
   "cell_type": "code",
   "execution_count": 39,
   "id": "c12d8026-57ba-4050-8a17-6903628f5da9",
   "metadata": {
    "colab": {
     "base_uri": "https://localhost:8080/"
    },
    "executionInfo": {
     "elapsed": 202,
     "status": "ok",
     "timestamp": 1698583243683,
     "user": {
      "displayName": "Hazel",
      "userId": "09231924503958231039"
     },
     "user_tz": 0
    },
    "id": "-fqxfv7dEFMb",
    "outputId": "f89c588e-fd8d-48dc-be51-33254c1a142a"
   },
   "outputs": [
    {
     "data": {
      "text/plain": [
       "0     5\n",
       "1     5\n",
       "2     5\n",
       "3     5\n",
       "4     5\n",
       "5     6\n",
       "6     7\n",
       "7     8\n",
       "8     9\n",
       "9    10\n",
       "dtype: int64"
      ]
     },
     "execution_count": 39,
     "metadata": {},
     "output_type": "execute_result"
    }
   ],
   "source": [
    "numbers.apply(lambda x: max(x,5))"
   ]
  },
  {
   "cell_type": "markdown",
   "id": "8f100ce7-9cd4-4e4a-842e-cafd94db3fce",
   "metadata": {
    "id": "7E5zAl7HEFMb"
   },
   "source": [
    "#### Visualisation"
   ]
  },
  {
   "cell_type": "code",
   "execution_count": 40,
   "id": "52b2c44a-4b98-4f7b-a4f3-613e60b2abaf",
   "metadata": {
    "colab": {
     "base_uri": "https://localhost:8080/",
     "height": 505
    },
    "executionInfo": {
     "elapsed": 710,
     "status": "ok",
     "timestamp": 1698583247224,
     "user": {
      "displayName": "Hazel",
      "userId": "09231924503958231039"
     },
     "user_tz": 0
    },
    "id": "ehhKTUCWEFMb",
    "outputId": "1ca53afa-0646-4110-a425-2f40773878c4"
   },
   "outputs": [
    {
     "data": {
      "text/plain": [
       "Text(0.5, 1.0, 'Number of Properties Listed per Year')"
      ]
     },
     "execution_count": 40,
     "metadata": {},
     "output_type": "execute_result"
    },
    {
     "data": {
      "image/png": "[encoded data removed]",
      "text/plain": [
       "<Figure size 792x360 with 1 Axes>"
      ]
     },
     "metadata": {
      "needs_background": "light"
     },
     "output_type": "display_data"
    }
   ],
   "source": [
    "#creating bar charts\n",
    "plt.figure(figsize=(11,5))\n",
    "plt.bar(real_estate['List Year'].sort_values().unique().astype(str),real_estate['List Year'].value_counts())\n",
    "plt.xlabel('List Year')\n",
    "plt.ylabel('Number of Properties')\n",
    "plt.title('Number of Properties Listed per Year')\n",
    "\n",
    "#sort_values() sorts the years in ascending order\n",
    "#astype(str) converts the years to strings\n",
    "#unique() returns the unique years\n",
    "#value_counts() counts the number of times each year appears in the series"
   ]
  },
  {
   "cell_type": "code",
   "execution_count": 41,
   "id": "f89b3bc5-eb43-4208-9bfb-f35b165b76d7",
   "metadata": {
    "colab": {
     "base_uri": "https://localhost:8080/",
     "height": 505
    },
    "executionInfo": {
     "elapsed": 1683,
     "status": "ok",
     "timestamp": 1698578379219,
     "user": {
      "displayName": "Jenna Kam",
      "userId": "18280338072753204776"
     },
     "user_tz": 0
    },
    "id": "YbQV1V6qEFMb",
    "outputId": "a0b1db6f-b842-4b76-d366-c98db6a9ead8"
   },
   "outputs": [
    {
     "data": {
      "text/plain": [
       "Text(0.5, 1.0, 'Sale Amount vs Assessed Value')"
      ]
     },
     "execution_count": 41,
     "metadata": {},
     "output_type": "execute_result"
    },
    {
     "data": {
      "image/png": "[encoded data removed]",
      "text/plain": [
       "<Figure size 792x360 with 2 Axes>"
      ]
     },
     "metadata": {
      "needs_background": "light"
     },
     "output_type": "display_data"
    }
   ],
   "source": [
    "#plotting two scatterplots side by side\n",
    "plt.figure(figsize=(11,5))\n",
    "plt.subplot(1,2,1)\n",
    "\n",
    "plt.scatter(real_estate['Assessed Value'],real_estate['Sale Amount'])\n",
    "plt.xlabel('Assessed Value')\n",
    "plt.ylabel('Sale Amount')\n",
    "plt.title('Sale Amount vs Assessed Value')\n",
    "\n",
    "plt.subplot(1,2,2)\n",
    "\n",
    "#remove outliers\n",
    "assessed = real_estate['Assessed Value'][(real_estate['Sale Amount']<4000000000)&(real_estate['Assessed Value']<800000000)]\n",
    "sale = real_estate['Sale Amount'][(real_estate['Sale Amount']<4000000000)&(real_estate['Assessed Value']<800000000)]\n",
    "\n",
    "plt.scatter(assessed,sale)\n",
    "plt.xlabel('Assessed Value')\n",
    "plt.ylabel('Sale Amount')\n",
    "plt.title('Sale Amount vs Assessed Value')"
   ]
  },
  {
   "cell_type": "code",
   "execution_count": 42,
   "id": "24b05f9e-53b5-4525-8feb-3bc9462b1728",
   "metadata": {
    "colab": {
     "base_uri": "https://localhost:8080/",
     "height": 505
    },
    "executionInfo": {
     "elapsed": 1672,
     "status": "ok",
     "timestamp": 1698578380887,
     "user": {
      "displayName": "Jenna Kam",
      "userId": "18280338072753204776"
     },
     "user_tz": 0
    },
    "id": "dIxo5EVWEFMc",
    "outputId": "13cc8ac3-2a7a-49af-ca5f-50c62504a573"
   },
   "outputs": [
    {
     "data": {
      "text/plain": [
       "<matplotlib.legend.Legend at 0x1eb23f571c0>"
      ]
     },
     "execution_count": 42,
     "metadata": {},
     "output_type": "execute_result"
    },
    {
     "data": {
      "image/png": "[encoded data removed]",
      "text/plain": [
       "<Figure size 720x360 with 1 Axes>"
      ]
     },
     "metadata": {
      "needs_background": "light"
     },
     "output_type": "display_data"
    }
   ],
   "source": [
    "plt.figure(figsize=(10,5))\n",
    "for property in real_estate['Property Type'].unique():\n",
    "    plt.scatter(assessed[real_estate['Property Type']==property],sale[real_estate['Property Type']==property],label=property)\n",
    "plt.xlabel('Assessed Value')\n",
    "plt.ylabel('Sale Amount')\n",
    "plt.title('Sale Amount vs Assessed Value')\n",
    "plt.legend()"
   ]
  },
  {
   "cell_type": "code",
   "execution_count": 43,
   "id": "8bc531cc-1c50-447a-9e20-c4ceb1d9afb8",
   "metadata": {
    "colab": {
     "base_uri": "https://localhost:8080/",
     "height": 505
    },
    "executionInfo": {
     "elapsed": 395,
     "status": "ok",
     "timestamp": 1698578381276,
     "user": {
      "displayName": "Jenna Kam",
      "userId": "18280338072753204776"
     },
     "user_tz": 0
    },
    "id": "mDXvyAh5EFMc",
    "outputId": "dfa8e74f-a24d-4a43-fb85-3dae5e07b209"
   },
   "outputs": [
    {
     "data": {
      "text/plain": [
       "Text(0.5, 1.0, 'Sales Ratio Distribution')"
      ]
     },
     "execution_count": 43,
     "metadata": {},
     "output_type": "execute_result"
    },
    {
     "data": {
      "image/png": "[encoded data removed]",
      "text/plain": [
       "<Figure size 360x360 with 1 Axes>"
      ]
     },
     "metadata": {
      "needs_background": "light"
     },
     "output_type": "display_data"
    }
   ],
   "source": [
    "plt.figure(figsize=(5,5))\n",
    "plt.hist(real_estate['Sales Ratio'][real_estate['Sales Ratio']<0.5],bins=100)\n",
    "plt.xlabel('Sales Ratio')\n",
    "plt.ylabel('Number of Properties')\n",
    "plt.title('Sales Ratio Distribution')"
   ]
  },
  {
   "cell_type": "code",
   "execution_count": null,
   "id": "33193f53-18ee-4d2f-84f4-7096021336fd",
   "metadata": {
    "id": "scxTkKAVEFMc"
   },
   "outputs": [],
   "source": []
  }
 ],
 "metadata": {
  "kernelspec": {
   "display_name": "Python 3 (ipykernel)",
   "language": "python",
   "name": "python3"
  },
  "language_info": {
   "codemirror_mode": {
    "name": "ipython",
    "version": 3
   },
   "file_extension": ".py",
   "mimetype": "text/x-python",
   "name": "python",
   "nbconvert_exporter": "python",
   "pygments_lexer": "ipython3",
   "version": "3.9.12"
  }
 },
 "nbformat": 4,
 "nbformat_minor": 5
}
