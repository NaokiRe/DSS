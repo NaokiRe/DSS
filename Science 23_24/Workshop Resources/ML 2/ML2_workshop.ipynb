{
 "cells": [
  {
   "cell_type": "markdown",
   "id": "dfc63f3b-8ec4-49eb-8611-e7f2ce5616c1",
   "metadata": {},
   "source": [
    "# Logistic Regression"
   ]
  },
  {
   "cell_type": "markdown",
   "id": "66c57cdb-d266-468b-b8ee-94178591e005",
   "metadata": {},
   "source": [
    "This is the demonstration of how to implement logistic regression in python using scikit learn."
   ]
  },
  {
   "cell_type": "markdown",
   "id": "2a797230",
   "metadata": {},
   "source": [
    "### A simple demonstration"
   ]
  },
  {
   "cell_type": "code",
   "execution_count": null,
   "id": "a4a2d185-b359-4f82-8692-7ed8d9d00fef",
   "metadata": {},
   "outputs": [],
   "source": [
    "from sklearn.linear_model import LogisticRegression\n",
    "import matplotlib.pyplot as plt\n",
    "import numpy as np"
   ]
  },
  {
   "cell_type": "code",
   "execution_count": null,
   "id": "f81692ad-56de-4f8a-8ef4-0cc121536399",
   "metadata": {
    "tags": []
   },
   "outputs": [],
   "source": [
    "import random\n",
    "X, y=[], []\n",
    "\n",
    "for i in range(10):\n",
    "    y.append(0)\n",
    "for i in range(10):\n",
    "    y.append(1)\n",
    "for i in range(8):\n",
    "    X.append([random.random()*10])\n",
    "for i in range(2):\n",
    "    X.append([random.random()*10 + 10])\n",
    "for i in range(2):\n",
    "    X.append([random.random()*10])\n",
    "for i in range(8):\n",
    "    X.append([random.random()*10 + 10])"
   ]
  },
  {
   "cell_type": "code",
   "execution_count": null,
   "id": "752e43ac-cdb9-4d6e-b25b-fe99c25afbdf",
   "metadata": {
    "scrolled": true
   },
   "outputs": [],
   "source": [
    "plt.scatter(X, y)\n",
    "plt.xlabel('x axis')\n",
    "plt.ylabel('y axis')\n",
    "plt.title('Simple demonstration of logistic regression')\n",
    "plt.show()"
   ]
  },
  {
   "cell_type": "code",
   "execution_count": null,
   "id": "4c55067b-9e05-426c-bb7e-1841a16604ba",
   "metadata": {},
   "outputs": [],
   "source": [
    "from scipy.special import expit\n",
    "log_reg = LogisticRegression(random_state=0)\n",
    "log_reg.fit(X,y)\n",
    "plt.scatter(X, y)\n",
    "plot_x=np.linspace(0,20,1001)\n",
    "probability = expit(plot_x * log_reg.coef_ + log_reg.intercept_).ravel()\n",
    "plt.plot(plot_x, probability, color=\"black\", linewidth=3)\n",
    "plt.plot(plot_x, [0.5]*1001, color=\"red\")\n",
    "plt.xlabel('x axis')\n",
    "plt.ylabel('y axis')\n",
    "plt.title('Simple demonstration of logistic regression')\n",
    "plt.show()"
   ]
  },
  {
   "cell_type": "code",
   "execution_count": null,
   "id": "d9bd8a89-d30e-46e1-a835-82b1a9342a87",
   "metadata": {},
   "outputs": [],
   "source": [
    "log_reg.score(X,y)"
   ]
  },
  {
   "cell_type": "markdown",
   "id": "38f75213",
   "metadata": {},
   "source": [
    "### Trying with more samples"
   ]
  },
  {
   "cell_type": "code",
   "execution_count": null,
   "id": "2eecba8c",
   "metadata": {
    "tags": []
   },
   "outputs": [],
   "source": [
    "X, y=[], []\n",
    "\n",
    "for i in range(100):\n",
    "    y.append(0)\n",
    "for i in range(100):\n",
    "    y.append(1)\n",
    "for i in range(92):\n",
    "    X.append([random.random()*10])\n",
    "for i in range(8):\n",
    "    X.append([random.random()*10 + 10])\n",
    "for i in range(8):\n",
    "    X.append([random.random()*10])\n",
    "for i in range(92):\n",
    "    X.append([random.random()*10 + 10])"
   ]
  },
  {
   "cell_type": "code",
   "execution_count": null,
   "id": "c06b1874",
   "metadata": {
    "scrolled": true
   },
   "outputs": [],
   "source": [
    "plt.scatter(X, y, marker = \"x\")\n",
    "plt.xlabel('x axis')\n",
    "plt.ylabel('y axis')\n",
    "plt.title('Simple demonstration of logistic regression')\n",
    "plt.show()"
   ]
  },
  {
   "cell_type": "code",
   "execution_count": null,
   "id": "4c8f79b5",
   "metadata": {},
   "outputs": [],
   "source": [
    "log_reg = LogisticRegression(random_state=0)\n",
    "log_reg.fit(X,y)\n",
    "plt.scatter(X, y)\n",
    "plot_x=np.linspace(0,20,1001)\n",
    "probability = expit(plot_x * log_reg.coef_ + log_reg.intercept_).ravel()\n",
    "plt.plot(plot_x, probability, color=\"black\", linewidth=3)\n",
    "plt.plot(plot_x, [0.5]*1001, color=\"red\")\n",
    "plt.xlabel('x axis')\n",
    "plt.ylabel('y axis')\n",
    "plt.title('Simple demonstration of logistic regression')\n",
    "plt.show()"
   ]
  },
  {
   "cell_type": "code",
   "execution_count": null,
   "id": "99a76b62",
   "metadata": {},
   "outputs": [],
   "source": [
    "log_reg.score(X,y)"
   ]
  },
  {
   "cell_type": "markdown",
   "id": "99cadc01",
   "metadata": {},
   "source": [
    "### Train with test data"
   ]
  },
  {
   "cell_type": "code",
   "execution_count": null,
   "id": "20ec94f7",
   "metadata": {},
   "outputs": [],
   "source": [
    "from sklearn.model_selection import train_test_split\n",
    "log_reg = LogisticRegression(random_state=0)\n",
    "train_X, test_X, train_y, test_y = train_test_split(X, y, train_size=0.2, random_state=0)\n",
    "log_reg.fit(train_X, train_y)\n",
    "log_reg.score(test_X, test_y)\n",
    "plt.scatter(X, y)\n",
    "plot_x=np.linspace(0,20,1001)\n",
    "probability = expit(plot_x * log_reg.coef_ + log_reg.intercept_).ravel()\n",
    "plt.plot(plot_x, probability, color=\"black\", linewidth=3)\n",
    "plt.plot(plot_x, [0.5]*1001, color=\"red\")\n",
    "plt.xlabel('x axis')\n",
    "plt.ylabel('y axis')\n",
    "plt.title('Simple demonstration of logistic regression')\n",
    "plt.show()"
   ]
  },
  {
   "cell_type": "code",
   "execution_count": null,
   "id": "0689d3e7",
   "metadata": {},
   "outputs": [],
   "source": [
    "log_reg.score(test_X, test_y)"
   ]
  },
  {
   "cell_type": "markdown",
   "id": "49d3cb34-9d59-4713-a9b9-76a8d9d519ed",
   "metadata": {},
   "source": [
    "### Ordinal logistic regression example"
   ]
  },
  {
   "cell_type": "code",
   "execution_count": null,
   "id": "a124add4-9603-4eca-9356-44bb5f2ace8b",
   "metadata": {},
   "outputs": [],
   "source": [
    "from sklearn.datasets import load_iris\n",
    "X, y = load_iris(return_X_y=True)\n",
    "X.shape"
   ]
  },
  {
   "cell_type": "code",
   "execution_count": null,
   "id": "57537b5c-5125-4405-b72e-e3ebeaedb2dc",
   "metadata": {},
   "outputs": [],
   "source": [
    "data = load_iris()\n",
    "data.feature_names"
   ]
  },
  {
   "cell_type": "code",
   "execution_count": null,
   "id": "a951f2c8-6622-4978-b054-20d23d9aad9d",
   "metadata": {},
   "outputs": [],
   "source": [
    "data.target_names"
   ]
  },
  {
   "cell_type": "code",
   "execution_count": null,
   "id": "bffffc03-62a6-42f7-9199-ba7604f3c0f3",
   "metadata": {},
   "outputs": [],
   "source": [
    "train_X, test_X, train_y, test_y = train_test_split(X, y, train_size=0.2, random_state=0)"
   ]
  },
  {
   "cell_type": "code",
   "execution_count": null,
   "id": "f2c5ba3f-79aa-46f5-9a4b-b06933afb90f",
   "metadata": {
    "tags": []
   },
   "outputs": [],
   "source": [
    "log_reg = LogisticRegression(random_state=0)\n",
    "log_reg.fit(train_X, train_y)\n",
    "log_reg.score(test_X, test_y)"
   ]
  },
  {
   "cell_type": "code",
   "execution_count": null,
   "id": "af15d7b6-71af-49b3-b428-2bb7eb0fde0b",
   "metadata": {},
   "outputs": [],
   "source": [
    "train_X, test_X, train_y, test_y = train_test_split(X, y, train_size=0.2)"
   ]
  },
  {
   "cell_type": "code",
   "execution_count": null,
   "id": "10952e06-f068-4ba6-85aa-bf8053ae9c3c",
   "metadata": {},
   "outputs": [],
   "source": [
    "log_reg = LogisticRegression()\n",
    "log_reg.fit(train_X, train_y)\n",
    "log_reg.score(test_X, test_y)"
   ]
  },
  {
   "cell_type": "code",
   "execution_count": null,
   "id": "e8af1d83-cb02-4ac5-aca4-81582e5f366b",
   "metadata": {},
   "outputs": [],
   "source": [
    "?LogisticRegression"
   ]
  },
  {
   "cell_type": "code",
   "execution_count": null,
   "id": "a5d98e8c-4a3c-428c-8daa-69c8a8772c6d",
   "metadata": {},
   "outputs": [],
   "source": []
  }
 ],
 "metadata": {
  "kernelspec": {
   "display_name": "Python 3 (ipykernel)",
   "language": "python",
   "name": "python3"
  },
  "language_info": {
   "codemirror_mode": {
    "name": "ipython",
    "version": 3
   },
   "file_extension": ".py",
   "mimetype": "text/x-python",
   "name": "python",
   "nbconvert_exporter": "python",
   "pygments_lexer": "ipython3",
   "version": "3.9.12"
  }
 },
 "nbformat": 4,
 "nbformat_minor": 5
}
