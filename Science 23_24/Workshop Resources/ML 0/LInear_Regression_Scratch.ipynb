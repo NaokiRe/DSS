{
  "nbformat": 4,
  "nbformat_minor": 0,
  "metadata": {
    "colab": {
      "provenance": []
    },
    "kernelspec": {
      "name": "python3",
      "display_name": "Python 3"
    },
    "language_info": {
      "name": "python"
    }
  },
  "cells": [
    {
      "cell_type": "code",
      "execution_count": null,
      "metadata": {
        "id": "qpcvrFHIpSrC"
      },
      "outputs": [],
      "source": [
        "import torch\n",
        "import numpy as np\n",
        "import matplotlib.pyplot as plt\n",
        "import pandas as pd"
      ]
    },
    {
      "cell_type": "code",
      "source": [
        "#variables to store mean and standard deviation for each feature\n",
        "mu = []\n",
        "std = []"
      ],
      "metadata": {
        "id": "gFcZ7ks1pei2"
      },
      "execution_count": null,
      "outputs": []
    },
    {
      "cell_type": "code",
      "source": [
        "def load_data(filename):\n",
        "\tdf = pd.read_csv(filename, sep=\",\", index_col=False)\n",
        "\tdata = np.array(df, dtype=float)\n",
        "\tplot_TV_sales_data(data[:,:3], data[:, -1])\n",
        "\tnormalise(data)\n",
        "\treturn data[:,:3], data[:, -1]\n",
        "\n",
        "def plot_TV_sales_data(x, y):\n",
        "\tplt.xlabel('TV')\n",
        "\tplt.ylabel('sales')\n",
        "\tplt.plot(x[:,0], y, 'bo')\n",
        "\tplt.show()"
      ],
      "metadata": {
        "id": "SErwxuDPuW5t"
      },
      "execution_count": null,
      "outputs": []
    },
    {
      "cell_type": "code",
      "source": [
        "def normalise(data):\n",
        "\tfor i in range(0,data.shape[1]-1):\n",
        "\t\tdata[:,i] = ((data[:,i] - np.mean(data[:,i]))/np.std(data[:, i]))\n",
        "\t\tmu.append(np.mean(data[:,i]))\n",
        "\t\tstd.append(np.std(data[:, i]))"
      ],
      "metadata": {
        "id": "BdwNCbU_uaO1"
      },
      "execution_count": null,
      "outputs": []
    },
    {
      "cell_type": "code",
      "source": [
        "def forward(x,a_b):\n",
        "\treturn np.matmul(x, a_b)\n",
        "\n",
        "def cost_function(x, y, a_b):\n",
        "\treturn ((forward(x, a_b)-y).T@(forward(x, a_b)-y))/(2*y.shape[0])"
      ],
      "metadata": {
        "id": "umtK8dLQub4X"
      },
      "execution_count": null,
      "outputs": []
    },
    {
      "cell_type": "code",
      "source": [
        "def gradient_descent(x, y, a_b, learning_rate=0.1, num_epochs=10):\n",
        "\tm = x.shape[0]\n",
        "\tcost_all = []\n",
        "\n",
        "\tfor _ in range(num_epochs):\n",
        "\t\tforward_x = forward(x, a_b)\n",
        "\t\tcost_ = (1/m)*(x.T@(forward_x - y))\n",
        "\t\ta_b = a_b - (learning_rate)*cost_\n",
        "\t\tcost_all.append(cost_function(x, y, a_b))\n",
        "\n",
        "\treturn a_b, cost_all\n"
      ],
      "metadata": {
        "id": "ukzhEcBOugCj"
      },
      "execution_count": null,
      "outputs": []
    },
    {
      "cell_type": "code",
      "source": [
        "def plot_cost(cost_all, num_epochs):\n",
        "\tplt.xlabel('Epochs')\n",
        "\tplt.ylabel('Cost')\n",
        "\tplt.plot(num_epochs, cost_all, 'm', linewidth = \"5\")\n",
        "\tplt.show()\n",
        "\n",
        "def test(a_b, x):\n",
        "\tx[0] = (x[0] - mu[0])/std[0]\n",
        "\tx[1] = (x[1] - mu[1])/std[1]\n",
        "\tx[2] =  (x[2] - mu[2])/std[2]\n",
        "\n",
        "\ty = a_b[0] + a_b[1]*x[0] + a_b[2]*x[1] + a_b[3]*x[2]\n",
        "\tprint(\"Price of house: \", y)"
      ],
      "metadata": {
        "id": "WyyiwJXFujgp"
      },
      "execution_count": null,
      "outputs": []
    },
    {
      "cell_type": "code",
      "source": [
        "x,y = load_data(\"/content/advertising.csv\")\n",
        "print(y.shape)\n",
        "print(x.shape)\n",
        "x = np.hstack((np.ones((x.shape[0],1)), x))\n",
        "a_b = np.zeros((x.shape[1], 1))\n",
        "learning_rate = 0.1\n",
        "num_epochs = 50\n",
        "a_b, cost_all = gradient_descent(x, y, a_b, learning_rate, num_epochs)\n",
        "cost = cost_function(x, y, a_b)\n",
        "print(\"Cost: \", cost)\n",
        "print(\"Parameters: \", a_b)"
      ],
      "metadata": {
        "id": "gGiyhL0qumCd"
      },
      "execution_count": null,
      "outputs": []
    },
    {
      "cell_type": "code",
      "source": [
        "#for testing and plotting cost\n",
        "n_epochs = []\n",
        "costplot = []\n",
        "count = 0\n",
        "for i in cost_all:\n",
        "\tcostplot.append(i[0][0])\n",
        "\tn_epochs.append(count)\n",
        "\tcount += 1\n",
        "costplot = np.array(costplot)\n",
        "n_epochs = np.array(n_epochs)\n",
        "plot_cost(costplot, n_epochs)\n",
        "\n",
        "test(a_b, [150, 194, 46])"
      ],
      "metadata": {
        "id": "PsrKD7HeyRBv"
      },
      "execution_count": null,
      "outputs": []
    }
  ]
}