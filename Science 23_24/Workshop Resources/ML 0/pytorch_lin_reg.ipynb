{
  "cells": [
    {
      "cell_type": "markdown",
      "metadata": {
        "id": "zHbHIgAd-RTO"
      },
      "source": [
        "# Linear Regression - PyTorch!\n",
        "\n",
        "*https://machinelearningmastery.com/training-a-linear-regression-model-in-pytorch/*"
      ]
    },
    {
      "cell_type": "markdown",
      "metadata": {
        "id": "-MphlXQ0-RTR"
      },
      "source": [
        "### Importing relevant libraries"
      ]
    },
    {
      "cell_type": "code",
      "execution_count": null,
      "metadata": {
        "id": "daHDxlsq-RTS"
      },
      "outputs": [],
      "source": [
        "import torch\n",
        "import numpy as np\n",
        "import matplotlib.pyplot as plt"
      ]
    },
    {
      "cell_type": "markdown",
      "metadata": {
        "id": "CEwKweeO-RTT"
      },
      "source": [
        "### Generating Synthetic Data\n",
        "\n",
        "We first need to generate data to train our linear regression model on.\n",
        "\n",
        "In order to do so, `torch.arange` is called, which creates a tensor X containing a bunch of values between -5 and 5 with incremements of 0.1. This tensor is then shaped into a colomn vector, so you can think of X as a 1D vector containing all of the x co-ordinate data on the graph.\n",
        "\n",
        "Next, a tensor called func is created by applying a linear function of y = -5x. This applies the function y = -5x all of the elements of X, which generates the corresponding y co-ordinate for each x co-ordinate."
      ]
    },
    {
      "cell_type": "code",
      "execution_count": null,
      "metadata": {
        "id": "qiLvlBKc-RTU"
      },
      "outputs": [],
      "source": [
        "# x co-ordinates of data points\n",
        "\n",
        "# y co-ordinates of data points\n"
      ]
    },
    {
      "cell_type": "markdown",
      "metadata": {
        "id": "IwU5fsL6-RTU"
      },
      "source": [
        "#### Noise\n",
        "\n",
        "We then add noise to the data points in func, to simulate a noisy data set.\n",
        "\n",
        "`torch.randn(X.size())` generates random numbers from a standard normal distribution of the shape of X, and this is then scaled by 0.4 to be added to the data points.\n",
        "\n",
        "These noise-adjusted values are stored in tensor Y."
      ]
    },
    {
      "cell_type": "code",
      "execution_count": null,
      "metadata": {
        "id": "EkI90ezb-RTU"
      },
      "outputs": [],
      "source": [
        "#adding gaussian noise\n"
      ]
    },
    {
      "cell_type": "markdown",
      "metadata": {
        "id": "7SnaUgpB-RTV"
      },
      "source": [
        "### Visualising Generated Data\n",
        "\n",
        "Now, we can use matplotlib to view our generated data."
      ]
    },
    {
      "cell_type": "code",
      "execution_count": null,
      "metadata": {
        "id": "IQIUg-zl-RTV",
        "outputId": "d5fb2d81-6997-47c6-ba40-721d5821505f"
      },
      "outputs": [
        {
          "data": {
            "image/png": "[encoded data removed]",
            "text/plain": [
              "<Figure size 640x480 with 1 Axes>"
            ]
          },
          "metadata": {},
          "output_type": "display_data"
        }
      ],
      "source": [
        "plt.plot(X.numpy(), Y.numpy(), 'b+', label='Y')\n",
        "plt.plot(X.numpy(), func.numpy(), 'r', label='func')\n",
        "plt.xlabel('x')\n",
        "plt.ylabel('y')\n",
        "plt.legend()\n",
        "plt.grid('True', color='y')\n",
        "plt.show()"
      ]
    },
    {
      "cell_type": "markdown",
      "metadata": {
        "id": "l_iq8cGP-RTW"
      },
      "source": [
        "### Initialising Parameters\n",
        "\n",
        "In order to begin training, we first initialise some arbitrary values for a and b, where Y = a + bX. This is so that we have a starting point to begin training the data on. `a` and `b` are initialised as torch.tensor objects with requires_grad=True to track gradients during optimisation."
      ]
    },
    {
      "cell_type": "code",
      "execution_count": null,
      "metadata": {
        "id": "PYl9bdbm-RTW"
      },
      "outputs": [],
      "source": [
        "a = torch.tensor(-20.0, requires_grad=True)\n",
        "b = torch.tensor(-10.0, requires_grad=True)"
      ]
    },
    {
      "cell_type": "markdown",
      "metadata": {
        "id": "fNM9QVWW-RTW"
      },
      "source": [
        "### Forward Pass Function\n",
        "\n",
        "Next we define a function called `forward(x)` which takes an input tensor `x` and computes the linear regression prediction using the parameters `a` and `b`."
      ]
    },
    {
      "cell_type": "code",
      "execution_count": null,
      "metadata": {
        "id": "SgEo2jor-RTX"
      },
      "outputs": [],
      "source": [
        "# forward pass function for prediction\n",
        "def forward(x):\n",
        "  return"
      ]
    },
    {
      "cell_type": "markdown",
      "metadata": {
        "id": "_-Ite9S3-RTX"
      },
      "source": [
        "### Cost Criterion Function (MSE)\n",
        "\n",
        "In order to quantify the prediction accuracy, the mean squared error between the predicted values `y_pred` and `y` are calculated."
      ]
    },
    {
      "cell_type": "code",
      "execution_count": null,
      "metadata": {
        "id": "JX80rd53-RTX"
      },
      "outputs": [],
      "source": [
        "def cost_function(y_pred, y):\n",
        "    return"
      ]
    },
    {
      "cell_type": "markdown",
      "metadata": {
        "id": "xEUUxlxB-RTY"
      },
      "source": [
        "### Gradient Descent Optimisation\n",
        "\n",
        "Here, we define some training parameters.\n",
        "\n",
        "- learning_rate: size of the steps taken during each iteration of the process.\n",
        "- costs: stores a list to calculate the MSE cost at each iteration of the training loop (which we'll see below).\n",
        "- n_iter: this is the number of iterations (AKA epochs). Each epoch will involve a forward pass to compute predictions, a backward pass to calculate gradients and update parameters, and also will record the cost.\n",
        "\n",
        "*Please note that there is a trade off between speed of convergence and stability - a lower learning rate has slower convergence but is more stable, while a higher learning rate may have faster convergence, but with the added risk of overshooting the minimum*"
      ]
    },
    {
      "cell_type": "code",
      "execution_count": null,
      "metadata": {
        "id": "28fsTXcC-RTY"
      },
      "outputs": [],
      "source": [
        "# size of steps taken in each epoch\n",
        "\n",
        "#list to store loss values at each epoch\n",
        "\n",
        "# number of epochs"
      ]
    },
    {
      "cell_type": "markdown",
      "metadata": {
        "id": "Jesf0T4M-RTY"
      },
      "source": [
        "### Training Loop\n",
        "\n",
        "This is where the values of a and b are iterativly adjusted so as to reduce the average mean squared error."
      ]
    },
    {
      "cell_type": "code",
      "execution_count": null,
      "metadata": {
        "id": "ABuSAs3R-RTY"
      },
      "outputs": [],
      "source": [
        "for i in range (num_epochs):\n",
        "\n",
        "    # making predictions with forward pass\n",
        "\n",
        "\n",
        "    # calculating the loss between original and predicted data points\n",
        "\n",
        "\n",
        "    # storing the calculated loss in a list\n",
        "\n",
        "\n",
        "    # backward pass for computing the gradients of the loss based on the parameters\n",
        "\n",
        "\n",
        "    # updating the parameters after each epoch\n",
        "\n",
        "\n",
        "    # zeroing gradients after each epoch\n",
        "\n",
        "\n",
        "    print('{}, \\t{}, \\t{}, \\t{}'.format(i, cost.item(), b.item(), a.item()))\n"
      ]
    },
    {
      "cell_type": "code",
      "execution_count": null,
      "metadata": {
        "id": "kAGSEB3j-RTZ"
      },
      "outputs": [],
      "source": [
        "plt.xlabel('Epochs')\n",
        "plt.ylabel('Cost')\n",
        "\n",
        "epochs = list(range(1,num_epochs + 1))\n",
        "plt.plot(epochs, costs)"
      ]
    }
  ],
  "metadata": {
    "kernelspec": {
      "display_name": "UCL",
      "language": "python",
      "name": "python3"
    },
    "language_info": {
      "codemirror_mode": {
        "name": "ipython",
        "version": 3
      },
      "file_extension": ".py",
      "mimetype": "text/x-python",
      "name": "python",
      "nbconvert_exporter": "python",
      "pygments_lexer": "ipython3",
      "version": "3.11.5"
    },
    "colab": {
      "provenance": []
    }
  },
  "nbformat": 4,
  "nbformat_minor": 0
}