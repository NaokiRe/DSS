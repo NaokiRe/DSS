{
 "cells": [
  {
   "cell_type": "markdown",
   "id": "fc2dd970",
   "metadata": {},
   "source": [
    "## Task 1\n",
    "#### Import the Libraries"
   ]
  },
  {
   "cell_type": "code",
   "execution_count": null,
   "id": "ad01408c",
   "metadata": {},
   "outputs": [],
   "source": []
  },
  {
   "cell_type": "markdown",
   "id": "65979f94",
   "metadata": {},
   "source": [
    "## Task 2\n",
    "#### Load the Data\n",
    "#### Drop the columns called: Unnamed: 0, wellName, MD, CALI, RACEHM_l10, RPCEHM_l10, RACELM_l10, RPCELM_l10, VSH\n",
    "#### Drop the entries with null values"
   ]
  },
  {
   "cell_type": "code",
   "execution_count": null,
   "id": "d54ebc37",
   "metadata": {},
   "outputs": [],
   "source": []
  },
  {
   "cell_type": "markdown",
   "id": "ee53386f",
   "metadata": {},
   "source": [
    "## Task 3\n",
    "#### Standardise the Data \n",
    "#### Create a new column storing the standardised data"
   ]
  },
  {
   "cell_type": "code",
   "execution_count": null,
   "id": "da7fadad",
   "metadata": {},
   "outputs": [],
   "source": []
  },
  {
   "cell_type": "markdown",
   "id": "e8879612",
   "metadata": {},
   "source": [
    "## Task 4\n",
    "#### Write a function to calculate Inertia for a different number of clusters (ranging from 1 to 10) and generate an Elbow plot\n",
    "#### Use your function to plot an elbow curve using the columns (PHIF_T and GR_T). "
   ]
  },
  {
   "cell_type": "code",
   "execution_count": null,
   "id": "3686219d",
   "metadata": {},
   "outputs": [],
   "source": []
  },
  {
   "cell_type": "markdown",
   "id": "b7970bb5",
   "metadata": {},
   "source": [
    "## Task 5\n",
    "#### Pass the 2 columns into the K-Means Algorithm\n",
    "#### Create a new column to save the k_means labels"
   ]
  },
  {
   "cell_type": "code",
   "execution_count": null,
   "id": "9b6d74e0",
   "metadata": {},
   "outputs": [],
   "source": []
  },
  {
   "cell_type": "markdown",
   "id": "ceaf342d",
   "metadata": {},
   "source": [
    "# Task 6\n",
    "#### Plot the results, using appropriate x and y limits"
   ]
  },
  {
   "cell_type": "code",
   "execution_count": null,
   "id": "680b9feb",
   "metadata": {},
   "outputs": [],
   "source": []
  }
 ],
 "metadata": {
  "kernelspec": {
   "display_name": "Python 3 (ipykernel)",
   "language": "python",
   "name": "python3"
  },
  "language_info": {
   "codemirror_mode": {
    "name": "ipython",
    "version": 3
   },
   "file_extension": ".py",
   "mimetype": "text/x-python",
   "name": "python",
   "nbconvert_exporter": "python",
   "pygments_lexer": "ipython3",
   "version": "3.10.9"
  }
 },
 "nbformat": 4,
 "nbformat_minor": 5
}
