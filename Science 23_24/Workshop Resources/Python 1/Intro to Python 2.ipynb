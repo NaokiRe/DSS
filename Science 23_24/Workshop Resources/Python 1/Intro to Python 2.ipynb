{
 "cells": [
  {
   "cell_type": "markdown",
   "metadata": {},
   "source": [
    "### Content\n",
    "\n",
    "#### 1. If else\n",
    "#### 2. for loop & while loop\n",
    "#### 3. List & Dictionary\n",
    "#### 4. File Handling"
   ]
  },
  {
   "cell_type": "markdown",
   "metadata": {},
   "source": [
    "## 1. If else"
   ]
  },
  {
   "cell_type": "code",
   "execution_count": null,
   "metadata": {},
   "outputs": [],
   "source": [
    "a = 33\n",
    "b = 200\n",
    "if b > a:\n",
    "    print(\"b is greater than a\")\n",
    "else: \n",
    "    print('a is greater than b')"
   ]
  },
  {
   "cell_type": "code",
   "execution_count": null,
   "metadata": {},
   "outputs": [],
   "source": [
    "a = 33\n",
    "b = 33\n",
    "\n",
    "if b > a:\n",
    "    print('b is greater than a')\n",
    "elif b < a:\n",
    "    print('b is less than a')\n",
    "else:\n",
    "    print('b is equal to a')"
   ]
  },
  {
   "cell_type": "code",
   "execution_count": null,
   "metadata": {},
   "outputs": [],
   "source": [
    "# Exercise:\n",
    "# Write a program that asks the user to enter their age.\n",
    "\n",
    "# If the user enters a negative number, \n",
    "# print \"You have entered an invalid age.\"\n",
    "# otherwise, print \"You are [age] years old.\"\n",
    "\n",
    "# hint - use the input() function to get user input\n",
    "\n",
    "# Your code here ⬇️\n"
   ]
  },
  {
   "cell_type": "markdown",
   "metadata": {},
   "source": [
    "## 2. for loop & while loop"
   ]
  },
  {
   "cell_type": "markdown",
   "metadata": {},
   "source": [
    "### for loop"
   ]
  },
  {
   "cell_type": "code",
   "execution_count": null,
   "metadata": {},
   "outputs": [],
   "source": [
    "# number is a variable that takes on the values in the list\n",
    "for number in [1,2,3]:\n",
    "    print(number)"
   ]
  },
  {
   "cell_type": "code",
   "execution_count": null,
   "metadata": {},
   "outputs": [],
   "source": [
    "# Lets suppose you want to write down letters of fruits' names. \n",
    "# You can do the following:\n",
    "\n",
    "print('A')\n",
    "print('p')\n",
    "print('p')\n",
    "print('l')\n",
    "print('e')\n",
    "print('P')\n",
    "print('i')\n",
    "print('n')\n",
    "print('e')\n",
    "print('a')\n",
    "print('p')\n",
    "print('p')\n",
    "print('l')\n",
    "print('e')\n",
    "print('O')\n",
    "print('r')\n",
    "print('a')\n",
    "print('n')\n",
    "print('g')\n",
    "print('e')"
   ]
  },
  {
   "cell_type": "code",
   "execution_count": null,
   "metadata": {},
   "outputs": [],
   "source": [
    "# Instead of writing the same code again and again,\n",
    "# you can use a for loop to do this:\n",
    "\n",
    "for each_letter in 'ApplePineappleOrange':\n",
    "    print(each_letter)"
   ]
  },
  {
   "cell_type": "markdown",
   "metadata": {},
   "source": [
    "### while loop"
   ]
  },
  {
   "cell_type": "code",
   "execution_count": null,
   "metadata": {},
   "outputs": [],
   "source": [
    "i = 1\n",
    "\n",
    "while i <= 6: # Execute whatever is written below this line as long as this statement is correct\n",
    "    print(i)\n",
    "    \n",
    "    i = i + 1 # increase the value of i by 1 in each iteration    "
   ]
  },
  {
   "cell_type": "code",
   "execution_count": null,
   "metadata": {},
   "outputs": [],
   "source": [
    "i = 1\n",
    "# what if we dont increase the value of i by 1 in each iteration\n",
    "while i <= 6:\n",
    "    pass # pass means do nothing\n",
    "\n",
    "print('Done')"
   ]
  },
  {
   "cell_type": "code",
   "execution_count": null,
   "metadata": {},
   "outputs": [],
   "source": [
    "# Exercise:\n",
    "# Write a program that prints out all the numbers from 0 to 10 except 5 and 7\n",
    "\n",
    "# Your code here ⬇️"
   ]
  },
  {
   "cell_type": "markdown",
   "metadata": {},
   "source": [
    "## 3. List"
   ]
  },
  {
   "cell_type": "code",
   "execution_count": null,
   "metadata": {},
   "outputs": [],
   "source": [
    "name_1 = \"Bob\"\n",
    "name_2 = \"Alice\"\n",
    "name_3 = \"John\"\n",
    "name_4 = \"Mary\"\n",
    "\n",
    "# Too redundant, right? Let's use a list instead.\n",
    "names = [\"Bob\", \"Alice\", \"John\", \"Mary\"]\n",
    "names"
   ]
  },
  {
   "cell_type": "code",
   "execution_count": null,
   "metadata": {},
   "outputs": [],
   "source": [
    "# We can access the elements of a list using their index.\n",
    "names[0], names[1], names[2], names[3]"
   ]
  },
  {
   "cell_type": "code",
   "execution_count": null,
   "metadata": {},
   "outputs": [],
   "source": [
    "# We can also use negative indices to access elements from the end.\n",
    "names[-1], names[-2], names[-3], names[-4]"
   ]
  },
  {
   "cell_type": "code",
   "execution_count": null,
   "metadata": {},
   "outputs": [],
   "source": [
    "# append() adds an element to the end of a list.\n",
    "names.append(\"Bill\")\n",
    "names"
   ]
  },
  {
   "cell_type": "code",
   "execution_count": null,
   "metadata": {},
   "outputs": [],
   "source": [
    "# pop() removes and returns the last element from a list.\n",
    "names.pop()\n",
    "names"
   ]
  },
  {
   "cell_type": "code",
   "execution_count": null,
   "metadata": {},
   "outputs": [],
   "source": [
    "# We use for loops to iterate over lists.\n",
    "for name in names:\n",
    "    print(name)"
   ]
  },
  {
   "cell_type": "code",
   "execution_count": null,
   "metadata": {},
   "outputs": [],
   "source": [
    "# or\n",
    "for i in range(len(names)): # len(names) = 4, range(4) = [0, 1, 2, 3], \n",
    "    print(names[i])"
   ]
  },
  {
   "cell_type": "code",
   "execution_count": null,
   "metadata": {},
   "outputs": [],
   "source": [
    "# All other functions of lists can be found here:\n",
    "# https://docs.python.org/3/tutorial/datastructures.html#more-on-lists"
   ]
  },
  {
   "cell_type": "code",
   "execution_count": null,
   "metadata": {},
   "outputs": [],
   "source": [
    "# Dictionary\n",
    "# A dictionary is a collection of key-value pairs.\n",
    "# Similar to lists, but the elements are accessed by keys instead of indices.\n",
    "# Each key is UNIQUE, and it can be used to access a corresponding value.\n",
    "\n",
    "dict_1 = {\n",
    "    \"name\": \"Bob\",\n",
    "    \"age\": 25,\n",
    "    \"occupation\": \"Student\"\n",
    "}\n",
    "\n",
    "# We can access the value corresponding to a key using square brackets.\n",
    "dict_1[\"name\"], dict_1[\"age\"], dict_1[\"occupation\"] "
   ]
  },
  {
   "cell_type": "code",
   "execution_count": null,
   "metadata": {},
   "outputs": [],
   "source": [
    "# to add a new key-value pair\n",
    "dict_1[\"city\"] = \"New York\"\n",
    "dict_1"
   ]
  },
  {
   "cell_type": "code",
   "execution_count": null,
   "metadata": {},
   "outputs": [],
   "source": [
    "# to remove a key-value pair\n",
    "del dict_1[\"occupation\"]"
   ]
  },
  {
   "cell_type": "code",
   "execution_count": null,
   "metadata": {},
   "outputs": [],
   "source": [
    "# to check if a key exists\n",
    "\"name\" in dict_1"
   ]
  },
  {
   "cell_type": "code",
   "execution_count": null,
   "metadata": {},
   "outputs": [],
   "source": [
    "# to iterate over a dictionary\n",
    "for key, value in dict_1.items():\n",
    "    print(key, \":\", value)"
   ]
  },
  {
   "cell_type": "code",
   "execution_count": null,
   "metadata": {},
   "outputs": [],
   "source": [
    "# Exercise:\n",
    "# Now can you create a list of dictionaries?\n",
    "\n",
    "# Your code here ⬇️"
   ]
  },
  {
   "cell_type": "markdown",
   "metadata": {},
   "source": [
    "## 4. File Handling "
   ]
  },
  {
   "cell_type": "code",
   "execution_count": null,
   "metadata": {},
   "outputs": [],
   "source": [
    "# to open/create a file\n",
    "# w - write, r - read, a - append\n",
    "file = open(\"test.txt\", \"w\")\n",
    "\n",
    "# write to a file\n",
    "file.write(\"Hello World!\\n\") # \\n means new line\n",
    "\n",
    "# dont forget to close the file!!!\n",
    "file.close()"
   ]
  },
  {
   "cell_type": "code",
   "execution_count": null,
   "metadata": {},
   "outputs": [],
   "source": [
    "# to read from a file, use the readline() function\n",
    "file = open(\"test.txt\", \"r\")\n",
    "print(file.readline())"
   ]
  },
  {
   "cell_type": "code",
   "execution_count": null,
   "metadata": {},
   "outputs": [],
   "source": [
    "# Lets read sth cool\n",
    "file = open(\"file.txt\", \"rb\") # rb - read binary\n",
    "data = file.read()\n",
    "print(data)\n",
    "file.close()\n",
    "\n",
    "# What is this??"
   ]
  },
  {
   "cell_type": "code",
   "execution_count": null,
   "metadata": {},
   "outputs": [],
   "source": [
    "# convert txt to png\n",
    "file = open(\"dss.png\", \"wb\")\n",
    "file.write(data)\n",
    "from IPython.display import Image\n",
    "Image(filename='dss.png')"
   ]
  },
  {
   "cell_type": "code",
   "execution_count": null,
   "metadata": {},
   "outputs": [],
   "source": [
    "# Generate a txt file with many lines with random numbers\n",
    "import random\n",
    "file = open(\"file4exercise.txt\", \"w\")\n",
    "for i in range(100):\n",
    "    file.write(str(random.randint(0, 100)) + \"\\n\")\n",
    "file.close()\n"
   ]
  },
  {
   "cell_type": "code",
   "execution_count": null,
   "metadata": {},
   "outputs": [],
   "source": [
    "# Exercise:\n",
    "# 1. Read the file and store the numbers in a list\n",
    "# 2. Find the maximum number in the list\n",
    "\n",
    "# hint: use while loop\n",
    "# Your code here ⬇️\n"
   ]
  }
 ],
 "metadata": {
  "kernelspec": {
   "display_name": "Python 3",
   "language": "python",
   "name": "python3"
  },
  "language_info": {
   "codemirror_mode": {
    "name": "ipython",
    "version": 3
   },
   "file_extension": ".py",
   "mimetype": "text/x-python",
   "name": "python",
   "nbconvert_exporter": "python",
   "pygments_lexer": "ipython3",
   "version": "3.9.6"
  }
 },
 "nbformat": 4,
 "nbformat_minor": 2
}
